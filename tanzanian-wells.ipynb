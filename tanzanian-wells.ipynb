{
 "cells": [
  {
   "cell_type": "markdown",
   "id": "ce5ae6ff",
   "metadata": {},
   "source": [
    "# Tanzanian Wells"
   ]
  },
  {
   "cell_type": "markdown",
   "id": "8aa4cbc8",
   "metadata": {},
   "source": [
    "## 1. Overview"
   ]
  },
  {
   "cell_type": "markdown",
   "id": "4defb7c1",
   "metadata": {},
   "source": [
    "This notebook examines Tanzania's water wells, and uses classification models to predict whether a water point is non-fonctional.<br>\n",
    "The organization of this notebook follows the CRoss Industry Standard Process for Data Mining (CRISP-DM) is a process model that serves as the base for a data science process."
   ]
  },
  {
   "cell_type": "markdown",
   "id": "9e0d33db",
   "metadata": {},
   "source": [
    "## 2. Business Understanding"
   ]
  },
  {
   "cell_type": "markdown",
   "id": "fd85b4b5",
   "metadata": {},
   "source": [
    "According to a World Bank [study](https://www.worldbank.org/en/country/tanzania/publication/tanzania-economic-update-universal-access-to-water-and-sanitation-could-transform-social-and-economic-development#:~:text=Only%2061%25%20of%20households%20in,hygiene%2C%20according%20to%20SDG%20definitions), access to a basic water supply is available to just 61% of households in Tanzania, basic sanitation is accessible to 32%, and basic hygiene is within reach for less than half of households.\n",
    "\n",
    "The country has a substantial number of existing water points, but a considerable portion of these wells either require maintenance or have completely failed, resulting in limited access to clean water.\n",
    "\n",
    "The objective of this project is to develop a machine learning classifier that can predict if a water well in Tanzania is non functional. By analyzing various factors such as the type of pump, the quantity of water in the well and when or who installed it, we aim to categorize wells into different conditions, such as 'non functional' or 'functional'. \n",
    "\n",
    "This predictive model will serve as a valuable tool for organizations and non-governmental agencies involved in water resource management and infrastructure development in Tanzania.\n",
    "\n",
    "The target audience for this project is Non-Governmental Organizations (NGOs) focusing on improving access to clean water for populations in Tanzania such as [WaterAid](https://www.wateraid.org/where-we-work/tanzania), [Charity Water](https://www.charitywater.org/our-projects/tanzania) or [Tanzania Water Project](https://www.tanzaniawaterproject.org/). "
   ]
  },
  {
   "cell_type": "markdown",
   "id": "bc309594",
   "metadata": {},
   "source": [
    "## 3. Data Understanding"
   ]
  },
  {
   "cell_type": "markdown",
   "id": "116d529d",
   "metadata": {},
   "source": [
    "The data comes from drivendata.org, a platform which hosts data science competitions with a focus on social impact. The source of data provided by DrivenData is the Tanzanian Ministry of Water, and is stored by Taarifa. \n",
    "\n",
    "The actual dataset can be found [here](https://www.drivendata.org/competitions/7/pump-it-up-data-mining-the-water-table/page/23/) under the 'Data download section'. \n",
    "\n",
    "4 files are indicated. The below files were downloaded and renamed as follows:\n",
    "- Training set values: training_set_values\n",
    "- Training set labels: training_set_labels\n",
    "- Test set values: test_set_values\n",
    "\n",
    "These are the files used for the main modeling and predictive analysis. \n",
    "<br>\n",
    "The test set values file is the one used to measure the accuracy of the model."
   ]
  },
  {
   "cell_type": "code",
   "execution_count": 1,
   "id": "1382de78",
   "metadata": {},
   "outputs": [],
   "source": [
    "# Importing the necessary packages\n",
    "import pandas as pd\n",
    "import numpy as np\n",
    "import matplotlib.pyplot as plt \n",
    "import matplotlib.ticker as ticker\n",
    "from matplotlib.patches import Rectangle\n",
    "import seaborn as sns\n",
    "import warnings\n",
    "from sklearn.model_selection import train_test_split\n",
    "\n",
    "%matplotlib inline"
   ]
  },
  {
   "cell_type": "code",
   "execution_count": 2,
   "id": "3472a47d",
   "metadata": {},
   "outputs": [],
   "source": [
    "# Loading training_set_values dataset and saving it as df_values\n",
    "df_values = pd.read_csv('data/training_set_values.csv')"
   ]
  },
  {
   "cell_type": "code",
   "execution_count": 3,
   "id": "b7c9c913",
   "metadata": {
    "scrolled": true
   },
   "outputs": [
    {
     "data": {
      "text/html": [
       "<div>\n",
       "<style scoped>\n",
       "    .dataframe tbody tr th:only-of-type {\n",
       "        vertical-align: middle;\n",
       "    }\n",
       "\n",
       "    .dataframe tbody tr th {\n",
       "        vertical-align: top;\n",
       "    }\n",
       "\n",
       "    .dataframe thead th {\n",
       "        text-align: right;\n",
       "    }\n",
       "</style>\n",
       "<table border=\"1\" class=\"dataframe\">\n",
       "  <thead>\n",
       "    <tr style=\"text-align: right;\">\n",
       "      <th></th>\n",
       "      <th>id</th>\n",
       "      <th>amount_tsh</th>\n",
       "      <th>date_recorded</th>\n",
       "      <th>funder</th>\n",
       "      <th>gps_height</th>\n",
       "      <th>installer</th>\n",
       "      <th>longitude</th>\n",
       "      <th>latitude</th>\n",
       "      <th>wpt_name</th>\n",
       "      <th>num_private</th>\n",
       "      <th>...</th>\n",
       "      <th>payment_type</th>\n",
       "      <th>water_quality</th>\n",
       "      <th>quality_group</th>\n",
       "      <th>quantity</th>\n",
       "      <th>quantity_group</th>\n",
       "      <th>source</th>\n",
       "      <th>source_type</th>\n",
       "      <th>source_class</th>\n",
       "      <th>waterpoint_type</th>\n",
       "      <th>waterpoint_type_group</th>\n",
       "    </tr>\n",
       "  </thead>\n",
       "  <tbody>\n",
       "    <tr>\n",
       "      <th>0</th>\n",
       "      <td>69572</td>\n",
       "      <td>6000.0</td>\n",
       "      <td>2011-03-14</td>\n",
       "      <td>Roman</td>\n",
       "      <td>1390</td>\n",
       "      <td>Roman</td>\n",
       "      <td>34.938093</td>\n",
       "      <td>-9.856322</td>\n",
       "      <td>none</td>\n",
       "      <td>0</td>\n",
       "      <td>...</td>\n",
       "      <td>annually</td>\n",
       "      <td>soft</td>\n",
       "      <td>good</td>\n",
       "      <td>enough</td>\n",
       "      <td>enough</td>\n",
       "      <td>spring</td>\n",
       "      <td>spring</td>\n",
       "      <td>groundwater</td>\n",
       "      <td>communal standpipe</td>\n",
       "      <td>communal standpipe</td>\n",
       "    </tr>\n",
       "    <tr>\n",
       "      <th>1</th>\n",
       "      <td>8776</td>\n",
       "      <td>0.0</td>\n",
       "      <td>2013-03-06</td>\n",
       "      <td>Grumeti</td>\n",
       "      <td>1399</td>\n",
       "      <td>GRUMETI</td>\n",
       "      <td>34.698766</td>\n",
       "      <td>-2.147466</td>\n",
       "      <td>Zahanati</td>\n",
       "      <td>0</td>\n",
       "      <td>...</td>\n",
       "      <td>never pay</td>\n",
       "      <td>soft</td>\n",
       "      <td>good</td>\n",
       "      <td>insufficient</td>\n",
       "      <td>insufficient</td>\n",
       "      <td>rainwater harvesting</td>\n",
       "      <td>rainwater harvesting</td>\n",
       "      <td>surface</td>\n",
       "      <td>communal standpipe</td>\n",
       "      <td>communal standpipe</td>\n",
       "    </tr>\n",
       "    <tr>\n",
       "      <th>2</th>\n",
       "      <td>34310</td>\n",
       "      <td>25.0</td>\n",
       "      <td>2013-02-25</td>\n",
       "      <td>Lottery Club</td>\n",
       "      <td>686</td>\n",
       "      <td>World vision</td>\n",
       "      <td>37.460664</td>\n",
       "      <td>-3.821329</td>\n",
       "      <td>Kwa Mahundi</td>\n",
       "      <td>0</td>\n",
       "      <td>...</td>\n",
       "      <td>per bucket</td>\n",
       "      <td>soft</td>\n",
       "      <td>good</td>\n",
       "      <td>enough</td>\n",
       "      <td>enough</td>\n",
       "      <td>dam</td>\n",
       "      <td>dam</td>\n",
       "      <td>surface</td>\n",
       "      <td>communal standpipe multiple</td>\n",
       "      <td>communal standpipe</td>\n",
       "    </tr>\n",
       "    <tr>\n",
       "      <th>3</th>\n",
       "      <td>67743</td>\n",
       "      <td>0.0</td>\n",
       "      <td>2013-01-28</td>\n",
       "      <td>Unicef</td>\n",
       "      <td>263</td>\n",
       "      <td>UNICEF</td>\n",
       "      <td>38.486161</td>\n",
       "      <td>-11.155298</td>\n",
       "      <td>Zahanati Ya Nanyumbu</td>\n",
       "      <td>0</td>\n",
       "      <td>...</td>\n",
       "      <td>never pay</td>\n",
       "      <td>soft</td>\n",
       "      <td>good</td>\n",
       "      <td>dry</td>\n",
       "      <td>dry</td>\n",
       "      <td>machine dbh</td>\n",
       "      <td>borehole</td>\n",
       "      <td>groundwater</td>\n",
       "      <td>communal standpipe multiple</td>\n",
       "      <td>communal standpipe</td>\n",
       "    </tr>\n",
       "    <tr>\n",
       "      <th>4</th>\n",
       "      <td>19728</td>\n",
       "      <td>0.0</td>\n",
       "      <td>2011-07-13</td>\n",
       "      <td>Action In A</td>\n",
       "      <td>0</td>\n",
       "      <td>Artisan</td>\n",
       "      <td>31.130847</td>\n",
       "      <td>-1.825359</td>\n",
       "      <td>Shuleni</td>\n",
       "      <td>0</td>\n",
       "      <td>...</td>\n",
       "      <td>never pay</td>\n",
       "      <td>soft</td>\n",
       "      <td>good</td>\n",
       "      <td>seasonal</td>\n",
       "      <td>seasonal</td>\n",
       "      <td>rainwater harvesting</td>\n",
       "      <td>rainwater harvesting</td>\n",
       "      <td>surface</td>\n",
       "      <td>communal standpipe</td>\n",
       "      <td>communal standpipe</td>\n",
       "    </tr>\n",
       "  </tbody>\n",
       "</table>\n",
       "<p>5 rows × 40 columns</p>\n",
       "</div>"
      ],
      "text/plain": [
       "      id  amount_tsh date_recorded        funder  gps_height     installer  \\\n",
       "0  69572      6000.0    2011-03-14         Roman        1390         Roman   \n",
       "1   8776         0.0    2013-03-06       Grumeti        1399       GRUMETI   \n",
       "2  34310        25.0    2013-02-25  Lottery Club         686  World vision   \n",
       "3  67743         0.0    2013-01-28        Unicef         263        UNICEF   \n",
       "4  19728         0.0    2011-07-13   Action In A           0       Artisan   \n",
       "\n",
       "   longitude   latitude              wpt_name  num_private  ... payment_type  \\\n",
       "0  34.938093  -9.856322                  none            0  ...     annually   \n",
       "1  34.698766  -2.147466              Zahanati            0  ...    never pay   \n",
       "2  37.460664  -3.821329           Kwa Mahundi            0  ...   per bucket   \n",
       "3  38.486161 -11.155298  Zahanati Ya Nanyumbu            0  ...    never pay   \n",
       "4  31.130847  -1.825359               Shuleni            0  ...    never pay   \n",
       "\n",
       "  water_quality quality_group      quantity  quantity_group  \\\n",
       "0          soft          good        enough          enough   \n",
       "1          soft          good  insufficient    insufficient   \n",
       "2          soft          good        enough          enough   \n",
       "3          soft          good           dry             dry   \n",
       "4          soft          good      seasonal        seasonal   \n",
       "\n",
       "                 source           source_type  source_class  \\\n",
       "0                spring                spring   groundwater   \n",
       "1  rainwater harvesting  rainwater harvesting       surface   \n",
       "2                   dam                   dam       surface   \n",
       "3           machine dbh              borehole   groundwater   \n",
       "4  rainwater harvesting  rainwater harvesting       surface   \n",
       "\n",
       "               waterpoint_type waterpoint_type_group  \n",
       "0           communal standpipe    communal standpipe  \n",
       "1           communal standpipe    communal standpipe  \n",
       "2  communal standpipe multiple    communal standpipe  \n",
       "3  communal standpipe multiple    communal standpipe  \n",
       "4           communal standpipe    communal standpipe  \n",
       "\n",
       "[5 rows x 40 columns]"
      ]
     },
     "execution_count": 3,
     "metadata": {},
     "output_type": "execute_result"
    }
   ],
   "source": [
    "# Inspecting df_values\n",
    "df_values.head()"
   ]
  },
  {
   "cell_type": "markdown",
   "id": "b8dc539b",
   "metadata": {},
   "source": [
    "The training set values has 59,400 rows, with 39 feature columns and 1 id column."
   ]
  },
  {
   "cell_type": "markdown",
   "id": "acabe04a",
   "metadata": {},
   "source": [
    "* `amount_tsh`: Total static head (amount water available to waterpoint)\n",
    "* `date_recorded`: The date the row was entered\n",
    "* `funder`: Who funded the well\n",
    "* `gps_height`: Altitude of the well\n",
    "* `installer`: Organization that installed the well\n",
    "* `longitude`: GPS coordinate\n",
    "* `latitude`: GPS coordinate\n",
    "* `wpt_name`: Name of the waterpoint if there is one\n",
    "* `num_private`: No description was provided for this feature\n",
    "* `basin`: Geographic water basin\n",
    "* `subvillage`: Geographic location\n",
    "* `region`: Geographic location\n",
    "* `region_code`: Geographic location (coded)\n",
    "* `district_code`: Geographic location (coded)\n",
    "* `lga`: Geographic location\n",
    "* `ward`: Geographic location\n",
    "* `population`: Population around the well\n",
    "* `public_meeting`: True/False\n",
    "* `recorded_by`: Group entering this row of data\n",
    "* `scheme_management`: Who operates the waterpoint\n",
    "* `scheme_name`: Who operates the waterpoint\n",
    "* `permit`: If the waterpoint is permitted\n",
    "* `construction_year`: Year the waterpoint was constructed\n",
    "* `extraction_type`: The kind of extraction the waterpoint uses\n",
    "* `extraction_type_group`: The kind of extraction the waterpoint uses\n",
    "* `extraction_type_class`: The kind of extraction the waterpoint uses\n",
    "* `management`: How the waterpoint is managed\n",
    "* `management_group`: How the waterpoint is managed\n",
    "* `payment`: What the water costs\n",
    "* `payment_type`: What the water costs\n",
    "* `water_quality`: The quality of the water\n",
    "* `quality_group`: The quality of the water\n",
    "* `quantity`: The quantity of water\n",
    "* `quantity_group`: The quantity of water\n",
    "* `source`: The source of the water\n",
    "* `source_type`: The source of the water\n",
    "* `source_class`: The source of the water\n",
    "* `waterpoint_type`: The kind of waterpoint\n",
    "* `waterpoint_type_group`: The kind of waterpoint"
   ]
  },
  {
   "cell_type": "code",
   "execution_count": 4,
   "id": "7f45290c",
   "metadata": {},
   "outputs": [],
   "source": [
    "# Loading training_set_values dataset and saving it as df_labels\n",
    "df_labels = pd.read_csv('data/training_set_labels.csv')"
   ]
  },
  {
   "cell_type": "code",
   "execution_count": 5,
   "id": "c91a1274",
   "metadata": {},
   "outputs": [
    {
     "data": {
      "text/html": [
       "<div>\n",
       "<style scoped>\n",
       "    .dataframe tbody tr th:only-of-type {\n",
       "        vertical-align: middle;\n",
       "    }\n",
       "\n",
       "    .dataframe tbody tr th {\n",
       "        vertical-align: top;\n",
       "    }\n",
       "\n",
       "    .dataframe thead th {\n",
       "        text-align: right;\n",
       "    }\n",
       "</style>\n",
       "<table border=\"1\" class=\"dataframe\">\n",
       "  <thead>\n",
       "    <tr style=\"text-align: right;\">\n",
       "      <th></th>\n",
       "      <th>id</th>\n",
       "      <th>status_group</th>\n",
       "    </tr>\n",
       "  </thead>\n",
       "  <tbody>\n",
       "    <tr>\n",
       "      <th>0</th>\n",
       "      <td>69572</td>\n",
       "      <td>functional</td>\n",
       "    </tr>\n",
       "    <tr>\n",
       "      <th>1</th>\n",
       "      <td>8776</td>\n",
       "      <td>functional</td>\n",
       "    </tr>\n",
       "    <tr>\n",
       "      <th>2</th>\n",
       "      <td>34310</td>\n",
       "      <td>functional</td>\n",
       "    </tr>\n",
       "    <tr>\n",
       "      <th>3</th>\n",
       "      <td>67743</td>\n",
       "      <td>non functional</td>\n",
       "    </tr>\n",
       "    <tr>\n",
       "      <th>4</th>\n",
       "      <td>19728</td>\n",
       "      <td>functional</td>\n",
       "    </tr>\n",
       "    <tr>\n",
       "      <th>...</th>\n",
       "      <td>...</td>\n",
       "      <td>...</td>\n",
       "    </tr>\n",
       "    <tr>\n",
       "      <th>59395</th>\n",
       "      <td>60739</td>\n",
       "      <td>functional</td>\n",
       "    </tr>\n",
       "    <tr>\n",
       "      <th>59396</th>\n",
       "      <td>27263</td>\n",
       "      <td>functional</td>\n",
       "    </tr>\n",
       "    <tr>\n",
       "      <th>59397</th>\n",
       "      <td>37057</td>\n",
       "      <td>functional</td>\n",
       "    </tr>\n",
       "    <tr>\n",
       "      <th>59398</th>\n",
       "      <td>31282</td>\n",
       "      <td>functional</td>\n",
       "    </tr>\n",
       "    <tr>\n",
       "      <th>59399</th>\n",
       "      <td>26348</td>\n",
       "      <td>functional</td>\n",
       "    </tr>\n",
       "  </tbody>\n",
       "</table>\n",
       "<p>59400 rows × 2 columns</p>\n",
       "</div>"
      ],
      "text/plain": [
       "          id    status_group\n",
       "0      69572      functional\n",
       "1       8776      functional\n",
       "2      34310      functional\n",
       "3      67743  non functional\n",
       "4      19728      functional\n",
       "...      ...             ...\n",
       "59395  60739      functional\n",
       "59396  27263      functional\n",
       "59397  37057      functional\n",
       "59398  31282      functional\n",
       "59399  26348      functional\n",
       "\n",
       "[59400 rows x 2 columns]"
      ]
     },
     "execution_count": 5,
     "metadata": {},
     "output_type": "execute_result"
    }
   ],
   "source": [
    "# Inspecting df_labels\n",
    "df_labels"
   ]
  },
  {
   "cell_type": "code",
   "execution_count": 6,
   "id": "89dbc962",
   "metadata": {},
   "outputs": [
    {
     "data": {
      "text/plain": [
       "array(['functional', 'non functional', 'functional needs repair'],\n",
       "      dtype=object)"
      ]
     },
     "execution_count": 6,
     "metadata": {},
     "output_type": "execute_result"
    }
   ],
   "source": [
    "# Checking the unique values of the target column\n",
    "df_labels['status_group'].unique()"
   ]
  },
  {
   "cell_type": "markdown",
   "id": "0403d184",
   "metadata": {},
   "source": [
    "The training set labels has the same number of rows, and contains the:\n",
    "* `id` \n",
    "* `target column`: status group\n",
    "\n",
    "The status group can be defined as: \n",
    "\n",
    "1. functional: the waterpoint is operational and there are no repairs needed\n",
    "2. functional needs repair: the waterpoint is operational, but needs repairs\n",
    "3. non functional: the waterpoint is not operational"
   ]
  },
  {
   "cell_type": "markdown",
   "id": "f0048fee",
   "metadata": {},
   "source": [
    "## 4. Data Preparation"
   ]
  },
  {
   "cell_type": "markdown",
   "id": "ca4d31e6",
   "metadata": {},
   "source": [
    "### 4. a. Joining values and labels datasets together"
   ]
  },
  {
   "cell_type": "markdown",
   "id": "8521cdc7",
   "metadata": {},
   "source": [
    "The first step of preparing the data is to merge both df_values and df_labels, as the latter contains the target value.\n",
    "<br>\n",
    "Both datasets are merged on the 'id' column."
   ]
  },
  {
   "cell_type": "code",
   "execution_count": 7,
   "id": "986fbf9f",
   "metadata": {},
   "outputs": [],
   "source": [
    "# Merging both dataframes on the column 'id'\n",
    "raw_df = df_values.merge(df_labels, on='id')"
   ]
  },
  {
   "cell_type": "code",
   "execution_count": 8,
   "id": "6836a0c4",
   "metadata": {
    "scrolled": false
   },
   "outputs": [
    {
     "data": {
      "text/html": [
       "<div>\n",
       "<style scoped>\n",
       "    .dataframe tbody tr th:only-of-type {\n",
       "        vertical-align: middle;\n",
       "    }\n",
       "\n",
       "    .dataframe tbody tr th {\n",
       "        vertical-align: top;\n",
       "    }\n",
       "\n",
       "    .dataframe thead th {\n",
       "        text-align: right;\n",
       "    }\n",
       "</style>\n",
       "<table border=\"1\" class=\"dataframe\">\n",
       "  <thead>\n",
       "    <tr style=\"text-align: right;\">\n",
       "      <th></th>\n",
       "      <th>id</th>\n",
       "      <th>amount_tsh</th>\n",
       "      <th>date_recorded</th>\n",
       "      <th>funder</th>\n",
       "      <th>gps_height</th>\n",
       "      <th>installer</th>\n",
       "      <th>longitude</th>\n",
       "      <th>latitude</th>\n",
       "      <th>wpt_name</th>\n",
       "      <th>num_private</th>\n",
       "      <th>...</th>\n",
       "      <th>water_quality</th>\n",
       "      <th>quality_group</th>\n",
       "      <th>quantity</th>\n",
       "      <th>quantity_group</th>\n",
       "      <th>source</th>\n",
       "      <th>source_type</th>\n",
       "      <th>source_class</th>\n",
       "      <th>waterpoint_type</th>\n",
       "      <th>waterpoint_type_group</th>\n",
       "      <th>status_group</th>\n",
       "    </tr>\n",
       "  </thead>\n",
       "  <tbody>\n",
       "    <tr>\n",
       "      <th>0</th>\n",
       "      <td>69572</td>\n",
       "      <td>6000.0</td>\n",
       "      <td>2011-03-14</td>\n",
       "      <td>Roman</td>\n",
       "      <td>1390</td>\n",
       "      <td>Roman</td>\n",
       "      <td>34.938093</td>\n",
       "      <td>-9.856322</td>\n",
       "      <td>none</td>\n",
       "      <td>0</td>\n",
       "      <td>...</td>\n",
       "      <td>soft</td>\n",
       "      <td>good</td>\n",
       "      <td>enough</td>\n",
       "      <td>enough</td>\n",
       "      <td>spring</td>\n",
       "      <td>spring</td>\n",
       "      <td>groundwater</td>\n",
       "      <td>communal standpipe</td>\n",
       "      <td>communal standpipe</td>\n",
       "      <td>functional</td>\n",
       "    </tr>\n",
       "    <tr>\n",
       "      <th>1</th>\n",
       "      <td>8776</td>\n",
       "      <td>0.0</td>\n",
       "      <td>2013-03-06</td>\n",
       "      <td>Grumeti</td>\n",
       "      <td>1399</td>\n",
       "      <td>GRUMETI</td>\n",
       "      <td>34.698766</td>\n",
       "      <td>-2.147466</td>\n",
       "      <td>Zahanati</td>\n",
       "      <td>0</td>\n",
       "      <td>...</td>\n",
       "      <td>soft</td>\n",
       "      <td>good</td>\n",
       "      <td>insufficient</td>\n",
       "      <td>insufficient</td>\n",
       "      <td>rainwater harvesting</td>\n",
       "      <td>rainwater harvesting</td>\n",
       "      <td>surface</td>\n",
       "      <td>communal standpipe</td>\n",
       "      <td>communal standpipe</td>\n",
       "      <td>functional</td>\n",
       "    </tr>\n",
       "    <tr>\n",
       "      <th>2</th>\n",
       "      <td>34310</td>\n",
       "      <td>25.0</td>\n",
       "      <td>2013-02-25</td>\n",
       "      <td>Lottery Club</td>\n",
       "      <td>686</td>\n",
       "      <td>World vision</td>\n",
       "      <td>37.460664</td>\n",
       "      <td>-3.821329</td>\n",
       "      <td>Kwa Mahundi</td>\n",
       "      <td>0</td>\n",
       "      <td>...</td>\n",
       "      <td>soft</td>\n",
       "      <td>good</td>\n",
       "      <td>enough</td>\n",
       "      <td>enough</td>\n",
       "      <td>dam</td>\n",
       "      <td>dam</td>\n",
       "      <td>surface</td>\n",
       "      <td>communal standpipe multiple</td>\n",
       "      <td>communal standpipe</td>\n",
       "      <td>functional</td>\n",
       "    </tr>\n",
       "    <tr>\n",
       "      <th>3</th>\n",
       "      <td>67743</td>\n",
       "      <td>0.0</td>\n",
       "      <td>2013-01-28</td>\n",
       "      <td>Unicef</td>\n",
       "      <td>263</td>\n",
       "      <td>UNICEF</td>\n",
       "      <td>38.486161</td>\n",
       "      <td>-11.155298</td>\n",
       "      <td>Zahanati Ya Nanyumbu</td>\n",
       "      <td>0</td>\n",
       "      <td>...</td>\n",
       "      <td>soft</td>\n",
       "      <td>good</td>\n",
       "      <td>dry</td>\n",
       "      <td>dry</td>\n",
       "      <td>machine dbh</td>\n",
       "      <td>borehole</td>\n",
       "      <td>groundwater</td>\n",
       "      <td>communal standpipe multiple</td>\n",
       "      <td>communal standpipe</td>\n",
       "      <td>non functional</td>\n",
       "    </tr>\n",
       "    <tr>\n",
       "      <th>4</th>\n",
       "      <td>19728</td>\n",
       "      <td>0.0</td>\n",
       "      <td>2011-07-13</td>\n",
       "      <td>Action In A</td>\n",
       "      <td>0</td>\n",
       "      <td>Artisan</td>\n",
       "      <td>31.130847</td>\n",
       "      <td>-1.825359</td>\n",
       "      <td>Shuleni</td>\n",
       "      <td>0</td>\n",
       "      <td>...</td>\n",
       "      <td>soft</td>\n",
       "      <td>good</td>\n",
       "      <td>seasonal</td>\n",
       "      <td>seasonal</td>\n",
       "      <td>rainwater harvesting</td>\n",
       "      <td>rainwater harvesting</td>\n",
       "      <td>surface</td>\n",
       "      <td>communal standpipe</td>\n",
       "      <td>communal standpipe</td>\n",
       "      <td>functional</td>\n",
       "    </tr>\n",
       "    <tr>\n",
       "      <th>...</th>\n",
       "      <td>...</td>\n",
       "      <td>...</td>\n",
       "      <td>...</td>\n",
       "      <td>...</td>\n",
       "      <td>...</td>\n",
       "      <td>...</td>\n",
       "      <td>...</td>\n",
       "      <td>...</td>\n",
       "      <td>...</td>\n",
       "      <td>...</td>\n",
       "      <td>...</td>\n",
       "      <td>...</td>\n",
       "      <td>...</td>\n",
       "      <td>...</td>\n",
       "      <td>...</td>\n",
       "      <td>...</td>\n",
       "      <td>...</td>\n",
       "      <td>...</td>\n",
       "      <td>...</td>\n",
       "      <td>...</td>\n",
       "      <td>...</td>\n",
       "    </tr>\n",
       "    <tr>\n",
       "      <th>59395</th>\n",
       "      <td>60739</td>\n",
       "      <td>10.0</td>\n",
       "      <td>2013-05-03</td>\n",
       "      <td>Germany Republi</td>\n",
       "      <td>1210</td>\n",
       "      <td>CES</td>\n",
       "      <td>37.169807</td>\n",
       "      <td>-3.253847</td>\n",
       "      <td>Area Three Namba 27</td>\n",
       "      <td>0</td>\n",
       "      <td>...</td>\n",
       "      <td>soft</td>\n",
       "      <td>good</td>\n",
       "      <td>enough</td>\n",
       "      <td>enough</td>\n",
       "      <td>spring</td>\n",
       "      <td>spring</td>\n",
       "      <td>groundwater</td>\n",
       "      <td>communal standpipe</td>\n",
       "      <td>communal standpipe</td>\n",
       "      <td>functional</td>\n",
       "    </tr>\n",
       "    <tr>\n",
       "      <th>59396</th>\n",
       "      <td>27263</td>\n",
       "      <td>4700.0</td>\n",
       "      <td>2011-05-07</td>\n",
       "      <td>Cefa-njombe</td>\n",
       "      <td>1212</td>\n",
       "      <td>Cefa</td>\n",
       "      <td>35.249991</td>\n",
       "      <td>-9.070629</td>\n",
       "      <td>Kwa Yahona Kuvala</td>\n",
       "      <td>0</td>\n",
       "      <td>...</td>\n",
       "      <td>soft</td>\n",
       "      <td>good</td>\n",
       "      <td>enough</td>\n",
       "      <td>enough</td>\n",
       "      <td>river</td>\n",
       "      <td>river/lake</td>\n",
       "      <td>surface</td>\n",
       "      <td>communal standpipe</td>\n",
       "      <td>communal standpipe</td>\n",
       "      <td>functional</td>\n",
       "    </tr>\n",
       "    <tr>\n",
       "      <th>59397</th>\n",
       "      <td>37057</td>\n",
       "      <td>0.0</td>\n",
       "      <td>2011-04-11</td>\n",
       "      <td>NaN</td>\n",
       "      <td>0</td>\n",
       "      <td>NaN</td>\n",
       "      <td>34.017087</td>\n",
       "      <td>-8.750434</td>\n",
       "      <td>Mashine</td>\n",
       "      <td>0</td>\n",
       "      <td>...</td>\n",
       "      <td>fluoride</td>\n",
       "      <td>fluoride</td>\n",
       "      <td>enough</td>\n",
       "      <td>enough</td>\n",
       "      <td>machine dbh</td>\n",
       "      <td>borehole</td>\n",
       "      <td>groundwater</td>\n",
       "      <td>hand pump</td>\n",
       "      <td>hand pump</td>\n",
       "      <td>functional</td>\n",
       "    </tr>\n",
       "    <tr>\n",
       "      <th>59398</th>\n",
       "      <td>31282</td>\n",
       "      <td>0.0</td>\n",
       "      <td>2011-03-08</td>\n",
       "      <td>Malec</td>\n",
       "      <td>0</td>\n",
       "      <td>Musa</td>\n",
       "      <td>35.861315</td>\n",
       "      <td>-6.378573</td>\n",
       "      <td>Mshoro</td>\n",
       "      <td>0</td>\n",
       "      <td>...</td>\n",
       "      <td>soft</td>\n",
       "      <td>good</td>\n",
       "      <td>insufficient</td>\n",
       "      <td>insufficient</td>\n",
       "      <td>shallow well</td>\n",
       "      <td>shallow well</td>\n",
       "      <td>groundwater</td>\n",
       "      <td>hand pump</td>\n",
       "      <td>hand pump</td>\n",
       "      <td>functional</td>\n",
       "    </tr>\n",
       "    <tr>\n",
       "      <th>59399</th>\n",
       "      <td>26348</td>\n",
       "      <td>0.0</td>\n",
       "      <td>2011-03-23</td>\n",
       "      <td>World Bank</td>\n",
       "      <td>191</td>\n",
       "      <td>World</td>\n",
       "      <td>38.104048</td>\n",
       "      <td>-6.747464</td>\n",
       "      <td>Kwa Mzee Lugawa</td>\n",
       "      <td>0</td>\n",
       "      <td>...</td>\n",
       "      <td>salty</td>\n",
       "      <td>salty</td>\n",
       "      <td>enough</td>\n",
       "      <td>enough</td>\n",
       "      <td>shallow well</td>\n",
       "      <td>shallow well</td>\n",
       "      <td>groundwater</td>\n",
       "      <td>hand pump</td>\n",
       "      <td>hand pump</td>\n",
       "      <td>functional</td>\n",
       "    </tr>\n",
       "  </tbody>\n",
       "</table>\n",
       "<p>59400 rows × 41 columns</p>\n",
       "</div>"
      ],
      "text/plain": [
       "          id  amount_tsh date_recorded           funder  gps_height  \\\n",
       "0      69572      6000.0    2011-03-14            Roman        1390   \n",
       "1       8776         0.0    2013-03-06          Grumeti        1399   \n",
       "2      34310        25.0    2013-02-25     Lottery Club         686   \n",
       "3      67743         0.0    2013-01-28           Unicef         263   \n",
       "4      19728         0.0    2011-07-13      Action In A           0   \n",
       "...      ...         ...           ...              ...         ...   \n",
       "59395  60739        10.0    2013-05-03  Germany Republi        1210   \n",
       "59396  27263      4700.0    2011-05-07      Cefa-njombe        1212   \n",
       "59397  37057         0.0    2011-04-11              NaN           0   \n",
       "59398  31282         0.0    2011-03-08            Malec           0   \n",
       "59399  26348         0.0    2011-03-23       World Bank         191   \n",
       "\n",
       "          installer  longitude   latitude              wpt_name  num_private  \\\n",
       "0             Roman  34.938093  -9.856322                  none            0   \n",
       "1           GRUMETI  34.698766  -2.147466              Zahanati            0   \n",
       "2      World vision  37.460664  -3.821329           Kwa Mahundi            0   \n",
       "3            UNICEF  38.486161 -11.155298  Zahanati Ya Nanyumbu            0   \n",
       "4           Artisan  31.130847  -1.825359               Shuleni            0   \n",
       "...             ...        ...        ...                   ...          ...   \n",
       "59395           CES  37.169807  -3.253847   Area Three Namba 27            0   \n",
       "59396          Cefa  35.249991  -9.070629     Kwa Yahona Kuvala            0   \n",
       "59397           NaN  34.017087  -8.750434               Mashine            0   \n",
       "59398          Musa  35.861315  -6.378573                Mshoro            0   \n",
       "59399         World  38.104048  -6.747464       Kwa Mzee Lugawa            0   \n",
       "\n",
       "       ... water_quality quality_group      quantity  quantity_group  \\\n",
       "0      ...          soft          good        enough          enough   \n",
       "1      ...          soft          good  insufficient    insufficient   \n",
       "2      ...          soft          good        enough          enough   \n",
       "3      ...          soft          good           dry             dry   \n",
       "4      ...          soft          good      seasonal        seasonal   \n",
       "...    ...           ...           ...           ...             ...   \n",
       "59395  ...          soft          good        enough          enough   \n",
       "59396  ...          soft          good        enough          enough   \n",
       "59397  ...      fluoride      fluoride        enough          enough   \n",
       "59398  ...          soft          good  insufficient    insufficient   \n",
       "59399  ...         salty         salty        enough          enough   \n",
       "\n",
       "                     source           source_type source_class  \\\n",
       "0                    spring                spring  groundwater   \n",
       "1      rainwater harvesting  rainwater harvesting      surface   \n",
       "2                       dam                   dam      surface   \n",
       "3               machine dbh              borehole  groundwater   \n",
       "4      rainwater harvesting  rainwater harvesting      surface   \n",
       "...                     ...                   ...          ...   \n",
       "59395                spring                spring  groundwater   \n",
       "59396                 river            river/lake      surface   \n",
       "59397           machine dbh              borehole  groundwater   \n",
       "59398          shallow well          shallow well  groundwater   \n",
       "59399          shallow well          shallow well  groundwater   \n",
       "\n",
       "                   waterpoint_type waterpoint_type_group    status_group  \n",
       "0               communal standpipe    communal standpipe      functional  \n",
       "1               communal standpipe    communal standpipe      functional  \n",
       "2      communal standpipe multiple    communal standpipe      functional  \n",
       "3      communal standpipe multiple    communal standpipe  non functional  \n",
       "4               communal standpipe    communal standpipe      functional  \n",
       "...                            ...                   ...             ...  \n",
       "59395           communal standpipe    communal standpipe      functional  \n",
       "59396           communal standpipe    communal standpipe      functional  \n",
       "59397                    hand pump             hand pump      functional  \n",
       "59398                    hand pump             hand pump      functional  \n",
       "59399                    hand pump             hand pump      functional  \n",
       "\n",
       "[59400 rows x 41 columns]"
      ]
     },
     "execution_count": 8,
     "metadata": {},
     "output_type": "execute_result"
    }
   ],
   "source": [
    "# Inspecting the new dataframe\n",
    "raw_df"
   ]
  },
  {
   "cell_type": "markdown",
   "id": "94646782",
   "metadata": {},
   "source": [
    "The new joined dataframe contains the same number of rows as the previous datasets: 59,400. It has 1 id column, 1 target column: status_group, and 39 feature columns."
   ]
  },
  {
   "cell_type": "markdown",
   "id": "6cffd781",
   "metadata": {},
   "source": [
    "### 4. b. Data transformation & cleaning"
   ]
  },
  {
   "cell_type": "markdown",
   "id": "70ac68f0",
   "metadata": {},
   "source": [
    "Data transformation and cleaning are an important step because they ensure the accuracy and reliability of data, which, in turn, improves the quality of models. Clean data intends to reduce bias and errors, making predictions more accurate and reliable."
   ]
  },
  {
   "cell_type": "markdown",
   "id": "4f52bfde",
   "metadata": {},
   "source": [
    "#### 4. b. 1. Verifying and handling missing data "
   ]
  },
  {
   "cell_type": "code",
   "execution_count": 9,
   "id": "0f880ee3",
   "metadata": {},
   "outputs": [
    {
     "name": "stdout",
     "output_type": "stream",
     "text": [
      "<class 'pandas.core.frame.DataFrame'>\n",
      "Int64Index: 59400 entries, 0 to 59399\n",
      "Data columns (total 41 columns):\n",
      " #   Column                 Non-Null Count  Dtype  \n",
      "---  ------                 --------------  -----  \n",
      " 0   id                     59400 non-null  int64  \n",
      " 1   amount_tsh             59400 non-null  float64\n",
      " 2   date_recorded          59400 non-null  object \n",
      " 3   funder                 55765 non-null  object \n",
      " 4   gps_height             59400 non-null  int64  \n",
      " 5   installer              55745 non-null  object \n",
      " 6   longitude              59400 non-null  float64\n",
      " 7   latitude               59400 non-null  float64\n",
      " 8   wpt_name               59400 non-null  object \n",
      " 9   num_private            59400 non-null  int64  \n",
      " 10  basin                  59400 non-null  object \n",
      " 11  subvillage             59029 non-null  object \n",
      " 12  region                 59400 non-null  object \n",
      " 13  region_code            59400 non-null  int64  \n",
      " 14  district_code          59400 non-null  int64  \n",
      " 15  lga                    59400 non-null  object \n",
      " 16  ward                   59400 non-null  object \n",
      " 17  population             59400 non-null  int64  \n",
      " 18  public_meeting         56066 non-null  object \n",
      " 19  recorded_by            59400 non-null  object \n",
      " 20  scheme_management      55523 non-null  object \n",
      " 21  scheme_name            31234 non-null  object \n",
      " 22  permit                 56344 non-null  object \n",
      " 23  construction_year      59400 non-null  int64  \n",
      " 24  extraction_type        59400 non-null  object \n",
      " 25  extraction_type_group  59400 non-null  object \n",
      " 26  extraction_type_class  59400 non-null  object \n",
      " 27  management             59400 non-null  object \n",
      " 28  management_group       59400 non-null  object \n",
      " 29  payment                59400 non-null  object \n",
      " 30  payment_type           59400 non-null  object \n",
      " 31  water_quality          59400 non-null  object \n",
      " 32  quality_group          59400 non-null  object \n",
      " 33  quantity               59400 non-null  object \n",
      " 34  quantity_group         59400 non-null  object \n",
      " 35  source                 59400 non-null  object \n",
      " 36  source_type            59400 non-null  object \n",
      " 37  source_class           59400 non-null  object \n",
      " 38  waterpoint_type        59400 non-null  object \n",
      " 39  waterpoint_type_group  59400 non-null  object \n",
      " 40  status_group           59400 non-null  object \n",
      "dtypes: float64(3), int64(7), object(31)\n",
      "memory usage: 19.0+ MB\n"
     ]
    }
   ],
   "source": [
    "# Checking for null values\n",
    "raw_df.info()"
   ]
  },
  {
   "cell_type": "markdown",
   "id": "a253e683",
   "metadata": {},
   "source": [
    "The column `scheme_name` has a high number of null values and is contains the same information as `scheme_management`: who operates the waterpoint.  \n",
    "As a consequence, it will be dropped entirely."
   ]
  },
  {
   "cell_type": "code",
   "execution_count": 10,
   "id": "271fab59",
   "metadata": {},
   "outputs": [],
   "source": [
    "# Dropping the column scheme_name\n",
    "raw_df.drop(['scheme_name'], axis=1, inplace=True)"
   ]
  },
  {
   "cell_type": "code",
   "execution_count": 11,
   "id": "e756c73d",
   "metadata": {
    "scrolled": false
   },
   "outputs": [
    {
     "name": "stdout",
     "output_type": "stream",
     "text": [
      "funder\n",
      "['Roman' 'Grumeti' 'Lottery Club' ... 'Dina' 'Brown' 'Samlo']\n",
      "\n",
      "installer\n",
      "['Roman' 'GRUMETI' 'World vision' ... 'Dina' 'brown' 'SELEPTA']\n",
      "\n",
      "subvillage\n",
      "['Mnyusi B' 'Nyamara' 'Majengo' ... 'Itete B' 'Maore Kati' 'Kikatanyemba']\n",
      "\n",
      "public_meeting\n",
      "[True nan False]\n",
      "\n",
      "scheme_management\n",
      "['VWC' 'Other' nan 'Private operator' 'WUG' 'Water Board' 'WUA'\n",
      " 'Water authority' 'Company' 'Parastatal' 'Trust' 'SWC' 'None']\n",
      "\n",
      "permit\n",
      "[False True nan]\n",
      "\n"
     ]
    }
   ],
   "source": [
    "# Inspecting the values of columns containing null information \n",
    "columns_with_null = raw_df.columns[raw_df.isnull().any()].tolist()\n",
    "\n",
    "columns_with_null\n",
    "\n",
    "for column in columns_with_null:\n",
    "    print(column)\n",
    "    print(raw_df[column].unique())\n",
    "    print()"
   ]
  },
  {
   "cell_type": "markdown",
   "id": "a3a49b06",
   "metadata": {},
   "source": [
    "Other columns' null values will be replaced by 'Unknown' as they contain a relatively few missing values, and handling them as 'Unknown' could be used to predict whether a well is functional or not.  "
   ]
  },
  {
   "cell_type": "code",
   "execution_count": 12,
   "id": "664ac455",
   "metadata": {},
   "outputs": [],
   "source": [
    "# Filling null values with 'Unknown'\n",
    "for column in columns_with_null:\n",
    "    raw_df[column].fillna('Unknown', inplace=True)"
   ]
  },
  {
   "cell_type": "code",
   "execution_count": 13,
   "id": "b4f16f88",
   "metadata": {},
   "outputs": [
    {
     "name": "stdout",
     "output_type": "stream",
     "text": [
      "<class 'pandas.core.frame.DataFrame'>\n",
      "Int64Index: 59400 entries, 0 to 59399\n",
      "Data columns (total 40 columns):\n",
      " #   Column                 Non-Null Count  Dtype  \n",
      "---  ------                 --------------  -----  \n",
      " 0   id                     59400 non-null  int64  \n",
      " 1   amount_tsh             59400 non-null  float64\n",
      " 2   date_recorded          59400 non-null  object \n",
      " 3   funder                 59400 non-null  object \n",
      " 4   gps_height             59400 non-null  int64  \n",
      " 5   installer              59400 non-null  object \n",
      " 6   longitude              59400 non-null  float64\n",
      " 7   latitude               59400 non-null  float64\n",
      " 8   wpt_name               59400 non-null  object \n",
      " 9   num_private            59400 non-null  int64  \n",
      " 10  basin                  59400 non-null  object \n",
      " 11  subvillage             59400 non-null  object \n",
      " 12  region                 59400 non-null  object \n",
      " 13  region_code            59400 non-null  int64  \n",
      " 14  district_code          59400 non-null  int64  \n",
      " 15  lga                    59400 non-null  object \n",
      " 16  ward                   59400 non-null  object \n",
      " 17  population             59400 non-null  int64  \n",
      " 18  public_meeting         59400 non-null  object \n",
      " 19  recorded_by            59400 non-null  object \n",
      " 20  scheme_management      59400 non-null  object \n",
      " 21  permit                 59400 non-null  object \n",
      " 22  construction_year      59400 non-null  int64  \n",
      " 23  extraction_type        59400 non-null  object \n",
      " 24  extraction_type_group  59400 non-null  object \n",
      " 25  extraction_type_class  59400 non-null  object \n",
      " 26  management             59400 non-null  object \n",
      " 27  management_group       59400 non-null  object \n",
      " 28  payment                59400 non-null  object \n",
      " 29  payment_type           59400 non-null  object \n",
      " 30  water_quality          59400 non-null  object \n",
      " 31  quality_group          59400 non-null  object \n",
      " 32  quantity               59400 non-null  object \n",
      " 33  quantity_group         59400 non-null  object \n",
      " 34  source                 59400 non-null  object \n",
      " 35  source_type            59400 non-null  object \n",
      " 36  source_class           59400 non-null  object \n",
      " 37  waterpoint_type        59400 non-null  object \n",
      " 38  waterpoint_type_group  59400 non-null  object \n",
      " 39  status_group           59400 non-null  object \n",
      "dtypes: float64(3), int64(7), object(30)\n",
      "memory usage: 18.6+ MB\n"
     ]
    }
   ],
   "source": [
    "# Verifying the dataset no longer contains any null value\n",
    "raw_df.info()"
   ]
  },
  {
   "cell_type": "markdown",
   "id": "aa45da9e",
   "metadata": {},
   "source": [
    "#### 4. b. 2. Removing unnecessary columns"
   ]
  },
  {
   "cell_type": "markdown",
   "id": "fb3a4494",
   "metadata": {},
   "source": [
    "The below  columns will be removed for the following reasons:\n",
    "\n",
    "1. Irrelevant for predictions (i.e. date the row was entered, waterpoint name)\n",
    "2. Contains similar information as another column (i.e. extraction_type, water_quality) \n",
    "3. Contains information which would require additional conversion (i.e. region_code, district_code)\n",
    "\n",
    "* `id`: the identification number assigned to the water well \n",
    "* `date_recorded`: The date the row was entered\n",
    "* `longitude`: GPS coordinate\n",
    "* `latitude`: GPS coordinate\n",
    "* `wpt_name`: Name of the waterpoint if there is one\n",
    "* `num_private`: undefined\n",
    "* `subvillage`: Geographic location\n",
    "* `region_code`: Geographic location (coded)\n",
    "* `region`: Geographic location. There are 21 regions, while location by basin can be provided with 9 categories. Choosing less detailed categories is preferred to prevent creating a sparse dataframe \n",
    "* `district_code`: Geographic location (coded)\n",
    "* `lga`: Geographic location\n",
    "* `ward`: Geographic location\n",
    "* `recorded_by`: Group entering this row of data\n",
    "* `scheme_management`: Who operates the waterpoint\n",
    "* `extraction_type`: The kind of extraction the waterpoint uses\n",
    "* `extraction_type_group`: The kind of extraction the waterpoint uses\n",
    "* `management_group`: How the waterpoint is managed\n",
    "* `payment`: What the water costs\n",
    "* `payment_type`: Frequency of payment: while it would be interesting to understand link between payment and well functionality, this feature has no link with the quality of water type and should be investigated separately\n",
    "* `water_quality`: The quality of the water\n",
    "* `quantity_group`: The quantity of water\n",
    "* `source`: The source of the water\n",
    "* `source_class`: The source of the water\n",
    "* `waterpoint_type`: The kind of waterpoint\n",
    "* `waterpoint_type_group`: provides similar information as source type and extraction type"
   ]
  },
  {
   "cell_type": "code",
   "execution_count": 14,
   "id": "b8bc3a6e",
   "metadata": {},
   "outputs": [],
   "source": [
    "# Storing the columns defined above into a list \n",
    "columns_to_drop = ['id', 'date_recorded','longitude','latitude','wpt_name','num_private','subvillage','region_code', 'region','district_code','lga','ward','recorded_by','scheme_management','extraction_type','extraction_type_group','management_group','payment', 'payment_type', 'water_quality','quantity_group','source','source_class','waterpoint_type', 'waterpoint_type_group']"
   ]
  },
  {
   "cell_type": "code",
   "execution_count": 15,
   "id": "1f253a2d",
   "metadata": {},
   "outputs": [],
   "source": [
    "# Dropping the columns from the dataframe and creating a new one\n",
    "df = raw_df.drop(columns_to_drop, axis=1)"
   ]
  },
  {
   "cell_type": "code",
   "execution_count": 16,
   "id": "30ac3f7b",
   "metadata": {
    "scrolled": false
   },
   "outputs": [
    {
     "data": {
      "text/html": [
       "<div>\n",
       "<style scoped>\n",
       "    .dataframe tbody tr th:only-of-type {\n",
       "        vertical-align: middle;\n",
       "    }\n",
       "\n",
       "    .dataframe tbody tr th {\n",
       "        vertical-align: top;\n",
       "    }\n",
       "\n",
       "    .dataframe thead th {\n",
       "        text-align: right;\n",
       "    }\n",
       "</style>\n",
       "<table border=\"1\" class=\"dataframe\">\n",
       "  <thead>\n",
       "    <tr style=\"text-align: right;\">\n",
       "      <th></th>\n",
       "      <th>amount_tsh</th>\n",
       "      <th>funder</th>\n",
       "      <th>gps_height</th>\n",
       "      <th>installer</th>\n",
       "      <th>basin</th>\n",
       "      <th>population</th>\n",
       "      <th>public_meeting</th>\n",
       "      <th>permit</th>\n",
       "      <th>construction_year</th>\n",
       "      <th>extraction_type_class</th>\n",
       "      <th>management</th>\n",
       "      <th>quality_group</th>\n",
       "      <th>quantity</th>\n",
       "      <th>source_type</th>\n",
       "      <th>status_group</th>\n",
       "    </tr>\n",
       "  </thead>\n",
       "  <tbody>\n",
       "    <tr>\n",
       "      <th>0</th>\n",
       "      <td>6000.0</td>\n",
       "      <td>Roman</td>\n",
       "      <td>1390</td>\n",
       "      <td>Roman</td>\n",
       "      <td>Lake Nyasa</td>\n",
       "      <td>109</td>\n",
       "      <td>True</td>\n",
       "      <td>False</td>\n",
       "      <td>1999</td>\n",
       "      <td>gravity</td>\n",
       "      <td>vwc</td>\n",
       "      <td>good</td>\n",
       "      <td>enough</td>\n",
       "      <td>spring</td>\n",
       "      <td>functional</td>\n",
       "    </tr>\n",
       "    <tr>\n",
       "      <th>1</th>\n",
       "      <td>0.0</td>\n",
       "      <td>Grumeti</td>\n",
       "      <td>1399</td>\n",
       "      <td>GRUMETI</td>\n",
       "      <td>Lake Victoria</td>\n",
       "      <td>280</td>\n",
       "      <td>Unknown</td>\n",
       "      <td>True</td>\n",
       "      <td>2010</td>\n",
       "      <td>gravity</td>\n",
       "      <td>wug</td>\n",
       "      <td>good</td>\n",
       "      <td>insufficient</td>\n",
       "      <td>rainwater harvesting</td>\n",
       "      <td>functional</td>\n",
       "    </tr>\n",
       "    <tr>\n",
       "      <th>2</th>\n",
       "      <td>25.0</td>\n",
       "      <td>Lottery Club</td>\n",
       "      <td>686</td>\n",
       "      <td>World vision</td>\n",
       "      <td>Pangani</td>\n",
       "      <td>250</td>\n",
       "      <td>True</td>\n",
       "      <td>True</td>\n",
       "      <td>2009</td>\n",
       "      <td>gravity</td>\n",
       "      <td>vwc</td>\n",
       "      <td>good</td>\n",
       "      <td>enough</td>\n",
       "      <td>dam</td>\n",
       "      <td>functional</td>\n",
       "    </tr>\n",
       "    <tr>\n",
       "      <th>3</th>\n",
       "      <td>0.0</td>\n",
       "      <td>Unicef</td>\n",
       "      <td>263</td>\n",
       "      <td>UNICEF</td>\n",
       "      <td>Ruvuma / Southern Coast</td>\n",
       "      <td>58</td>\n",
       "      <td>True</td>\n",
       "      <td>True</td>\n",
       "      <td>1986</td>\n",
       "      <td>submersible</td>\n",
       "      <td>vwc</td>\n",
       "      <td>good</td>\n",
       "      <td>dry</td>\n",
       "      <td>borehole</td>\n",
       "      <td>non functional</td>\n",
       "    </tr>\n",
       "    <tr>\n",
       "      <th>4</th>\n",
       "      <td>0.0</td>\n",
       "      <td>Action In A</td>\n",
       "      <td>0</td>\n",
       "      <td>Artisan</td>\n",
       "      <td>Lake Victoria</td>\n",
       "      <td>0</td>\n",
       "      <td>True</td>\n",
       "      <td>True</td>\n",
       "      <td>0</td>\n",
       "      <td>gravity</td>\n",
       "      <td>other</td>\n",
       "      <td>good</td>\n",
       "      <td>seasonal</td>\n",
       "      <td>rainwater harvesting</td>\n",
       "      <td>functional</td>\n",
       "    </tr>\n",
       "  </tbody>\n",
       "</table>\n",
       "</div>"
      ],
      "text/plain": [
       "   amount_tsh        funder  gps_height     installer  \\\n",
       "0      6000.0         Roman        1390         Roman   \n",
       "1         0.0       Grumeti        1399       GRUMETI   \n",
       "2        25.0  Lottery Club         686  World vision   \n",
       "3         0.0        Unicef         263        UNICEF   \n",
       "4         0.0   Action In A           0       Artisan   \n",
       "\n",
       "                     basin  population public_meeting permit  \\\n",
       "0               Lake Nyasa         109           True  False   \n",
       "1            Lake Victoria         280        Unknown   True   \n",
       "2                  Pangani         250           True   True   \n",
       "3  Ruvuma / Southern Coast          58           True   True   \n",
       "4            Lake Victoria           0           True   True   \n",
       "\n",
       "   construction_year extraction_type_class management quality_group  \\\n",
       "0               1999               gravity        vwc          good   \n",
       "1               2010               gravity        wug          good   \n",
       "2               2009               gravity        vwc          good   \n",
       "3               1986           submersible        vwc          good   \n",
       "4                  0               gravity      other          good   \n",
       "\n",
       "       quantity           source_type    status_group  \n",
       "0        enough                spring      functional  \n",
       "1  insufficient  rainwater harvesting      functional  \n",
       "2        enough                   dam      functional  \n",
       "3           dry              borehole  non functional  \n",
       "4      seasonal  rainwater harvesting      functional  "
      ]
     },
     "execution_count": 16,
     "metadata": {},
     "output_type": "execute_result"
    }
   ],
   "source": [
    "# Inspecting the new df\n",
    "df.head()"
   ]
  },
  {
   "cell_type": "code",
   "execution_count": 17,
   "id": "8d771a85",
   "metadata": {},
   "outputs": [
    {
     "name": "stdout",
     "output_type": "stream",
     "text": [
      "<class 'pandas.core.frame.DataFrame'>\n",
      "Int64Index: 59400 entries, 0 to 59399\n",
      "Data columns (total 15 columns):\n",
      " #   Column                 Non-Null Count  Dtype  \n",
      "---  ------                 --------------  -----  \n",
      " 0   amount_tsh             59400 non-null  float64\n",
      " 1   funder                 59400 non-null  object \n",
      " 2   gps_height             59400 non-null  int64  \n",
      " 3   installer              59400 non-null  object \n",
      " 4   basin                  59400 non-null  object \n",
      " 5   population             59400 non-null  int64  \n",
      " 6   public_meeting         59400 non-null  object \n",
      " 7   permit                 59400 non-null  object \n",
      " 8   construction_year      59400 non-null  int64  \n",
      " 9   extraction_type_class  59400 non-null  object \n",
      " 10  management             59400 non-null  object \n",
      " 11  quality_group          59400 non-null  object \n",
      " 12  quantity               59400 non-null  object \n",
      " 13  source_type            59400 non-null  object \n",
      " 14  status_group           59400 non-null  object \n",
      "dtypes: float64(1), int64(3), object(11)\n",
      "memory usage: 7.3+ MB\n"
     ]
    }
   ],
   "source": [
    "# Inspecting the new df's info\n",
    "df.info()"
   ]
  },
  {
   "cell_type": "markdown",
   "id": "cc42a168",
   "metadata": {},
   "source": [
    "The new dataframe still has 59,400 rows, but now contains 17 feature columns and 1 target column. \n",
    "14 of the features, including the target variable is a categorical data, so they will be one-hot encoded in the next section."
   ]
  },
  {
   "cell_type": "markdown",
   "id": "16e9978c",
   "metadata": {},
   "source": [
    "#### 4. b. 3. Transforming the classification into a binary one"
   ]
  },
  {
   "cell_type": "markdown",
   "id": "379f6940",
   "metadata": {},
   "source": [
    "* **Addressing imbalanced dataset - part 1**"
   ]
  },
  {
   "cell_type": "markdown",
   "id": "c7b27312",
   "metadata": {},
   "source": [
    "The target column contains 3 categories. The dataset is highly imbalanced, and the status 'functional needs repair' only represents 7% of the rows. \n",
    "\n",
    "\n",
    "A well that is functional but needs repair can be considered non-functional because it does not reliably provide safe and consistent access to water, which is the primary function of a well. <br> \n",
    "As a consequence, all 'functional needs repair' statuses will be replaced by 'non functional,'\n",
    "\n",
    "Transforming the classification from a ternary to a binary one will then address the imbalanced dataset. "
   ]
  },
  {
   "cell_type": "code",
   "execution_count": 18,
   "id": "ce79f639",
   "metadata": {},
   "outputs": [
    {
     "name": "stdout",
     "output_type": "stream",
     "text": [
      "['functional' 'non functional' 'functional needs repair']\n"
     ]
    }
   ],
   "source": [
    "# Inspecting the values inside the column status_group\n",
    "print(df['status_group'].unique())"
   ]
  },
  {
   "cell_type": "code",
   "execution_count": 19,
   "id": "2be070c3",
   "metadata": {
    "scrolled": true
   },
   "outputs": [
    {
     "name": "stdout",
     "output_type": "stream",
     "text": [
      "Functional counts\n",
      "functional                 32259\n",
      "non functional             22824\n",
      "functional needs repair     4317\n",
      "Name: status_group, dtype: int64\n",
      "\n",
      "\n",
      "Functional counts\n",
      "functional                 0.543081\n",
      "non functional             0.384242\n",
      "functional needs repair    0.072677\n",
      "Name: status_group, dtype: float64\n"
     ]
    }
   ],
   "source": [
    "# Verifying for data imbalance\n",
    "print('Functional counts')\n",
    "print(df['status_group'].value_counts())\n",
    "print()\n",
    "print()\n",
    "print('Functional counts')\n",
    "print(df['status_group'].value_counts(normalize=True))"
   ]
  },
  {
   "cell_type": "markdown",
   "id": "4b19f730",
   "metadata": {},
   "source": [
    "The dataset is highly imbalanced, and the status 'functional needs repair' only represents 7% of the rows. \n",
    "\n",
    "\n",
    "A well that is functional but needs repair can be considered non-functional because it does not reliably provide safe and consistent access to water, which is the primary function of a well. <br> \n",
    "As a consequence, all 'functional needs repair' statuses will be replaced by 'non functional,'\n",
    "\n",
    "Transforming the classification from a ternary to a binary one will start addressing the imbalanced dataset. "
   ]
  },
  {
   "cell_type": "code",
   "execution_count": 20,
   "id": "119b036e",
   "metadata": {},
   "outputs": [],
   "source": [
    "# Replacing 'functional needs repair' by 'non functional'\n",
    "df['status_group'] = df['status_group'].replace('functional needs repair', \n",
    "                                                'non functional')\n"
   ]
  },
  {
   "cell_type": "code",
   "execution_count": 21,
   "id": "ff77f4e1",
   "metadata": {},
   "outputs": [
    {
     "name": "stdout",
     "output_type": "stream",
     "text": [
      "Raw counts\n",
      "functional        32259\n",
      "non functional    27141\n",
      "Name: status_group, dtype: int64\n",
      "\n",
      "\n",
      "Percentages\n",
      "functional        0.543081\n",
      "non functional    0.456919\n",
      "Name: status_group, dtype: float64\n"
     ]
    }
   ],
   "source": [
    "# Verifying the replacement was correctly applied\n",
    "print('Raw counts')\n",
    "print(df['status_group'].value_counts())\n",
    "print()\n",
    "print()\n",
    "print('Percentages')\n",
    "print(df['status_group'].value_counts(normalize=True))"
   ]
  },
  {
   "cell_type": "markdown",
   "id": "34ee0b04",
   "metadata": {},
   "source": [
    "If we had a model that *always* said  that the well was non functional, we would get an accuracy score of 0.456919, i.e. 45.7% accuracy, because about 45.7% of all wells are currently non functional. "
   ]
  },
  {
   "cell_type": "markdown",
   "id": "3e2fcfb8",
   "metadata": {},
   "source": [
    "#### 4. b. 4. Converting other binary columns"
   ]
  },
  {
   "cell_type": "markdown",
   "id": "8d2b0a99",
   "metadata": {},
   "source": [
    "Some categorical features are binary: true or false, so they will be replaced by:\n",
    "* 0 if false\n",
    "* 1 if true\n",
    "<br>Some of the data contains 'unknown' data. If unknown, it will be considered false. \n",
    "\n",
    "The target column is not technically true or false but is binary as well, so it will be converted as the following:\n",
    "* non functional: 1\n",
    "* functional: 0 \n",
    "\n",
    "We are choosing to predict whether a well is **non functional** or not, so the positive result (or 1) would be if the well was identified as non functional. \n",
    "This classification is due to the context we are working on. It is more important to understand whether a well is non functional and needs to be repaired, as lives depend on it. A population depending on a well could become sick or may die if they drank the water from a non fonctional well. \n",
    "\n",
    "This is why non functional becomes 1: it is what we are trying to predict. "
   ]
  },
  {
   "cell_type": "code",
   "execution_count": 22,
   "id": "ad190c43",
   "metadata": {},
   "outputs": [],
   "source": [
    "# Storing binary columns into a new dataframe\n",
    "binary_columns = ['public_meeting', 'permit', 'status_group']"
   ]
  },
  {
   "cell_type": "code",
   "execution_count": 23,
   "id": "926f8b13",
   "metadata": {},
   "outputs": [
    {
     "name": "stdout",
     "output_type": "stream",
     "text": [
      "Before: public_meeting [True 'Unknown' False]\n",
      "After: public_meeting [1 0]\n",
      "Before: permit [False True 'Unknown']\n",
      "After: permit [0 1]\n",
      "Before: status_group ['functional' 'non functional']\n",
      "After: status_group [0 1]\n"
     ]
    }
   ],
   "source": [
    "# Converting public_meeting, permit and status_group to binary encoding\n",
    "for column in binary_columns:\n",
    "    print('Before: '+ column, df[column].unique())\n",
    "    df[column] = df[column].map({\n",
    "        False: 0,\n",
    "        True: 1,\n",
    "        'Unknown': 0,\n",
    "        'non functional': 1,\n",
    "#         'functional needs repair': 0,\n",
    "        'functional': 0\n",
    "\n",
    "    }) \n",
    "    print('After: '+ column, df[column].unique())\n"
   ]
  },
  {
   "cell_type": "code",
   "execution_count": 24,
   "id": "0663368c",
   "metadata": {},
   "outputs": [
    {
     "name": "stdout",
     "output_type": "stream",
     "text": [
      "<class 'pandas.core.frame.DataFrame'>\n",
      "Int64Index: 59400 entries, 0 to 59399\n",
      "Data columns (total 15 columns):\n",
      " #   Column                 Non-Null Count  Dtype  \n",
      "---  ------                 --------------  -----  \n",
      " 0   amount_tsh             59400 non-null  float64\n",
      " 1   funder                 59400 non-null  object \n",
      " 2   gps_height             59400 non-null  int64  \n",
      " 3   installer              59400 non-null  object \n",
      " 4   basin                  59400 non-null  object \n",
      " 5   population             59400 non-null  int64  \n",
      " 6   public_meeting         59400 non-null  int64  \n",
      " 7   permit                 59400 non-null  int64  \n",
      " 8   construction_year      59400 non-null  int64  \n",
      " 9   extraction_type_class  59400 non-null  object \n",
      " 10  management             59400 non-null  object \n",
      " 11  quality_group          59400 non-null  object \n",
      " 12  quantity               59400 non-null  object \n",
      " 13  source_type            59400 non-null  object \n",
      " 14  status_group           59400 non-null  int64  \n",
      "dtypes: float64(1), int64(6), object(8)\n",
      "memory usage: 7.3+ MB\n"
     ]
    }
   ],
   "source": [
    "# Verifying the new data types\n",
    "df.info()"
   ]
  },
  {
   "cell_type": "markdown",
   "id": "563df1f2",
   "metadata": {},
   "source": [
    "There are now 11 categorical columms. "
   ]
  },
  {
   "cell_type": "markdown",
   "id": "522b17ee",
   "metadata": {},
   "source": [
    "#### 4. b. 5. Categorizing Values With Too Many Details"
   ]
  },
  {
   "cell_type": "markdown",
   "id": "4089488c",
   "metadata": {},
   "source": [
    "##### First step: Counting Values in Categorical Variables"
   ]
  },
  {
   "cell_type": "markdown",
   "id": "81b843af",
   "metadata": {},
   "source": [
    "Some categorical variables such as funder or installer cannot be one-hot encoded directly, as they contain too many distinct values. Further data transformation is required."
   ]
  },
  {
   "cell_type": "code",
   "execution_count": 25,
   "id": "d1729953",
   "metadata": {},
   "outputs": [
    {
     "data": {
      "text/html": [
       "<div>\n",
       "<style scoped>\n",
       "    .dataframe tbody tr th:only-of-type {\n",
       "        vertical-align: middle;\n",
       "    }\n",
       "\n",
       "    .dataframe tbody tr th {\n",
       "        vertical-align: top;\n",
       "    }\n",
       "\n",
       "    .dataframe thead th {\n",
       "        text-align: right;\n",
       "    }\n",
       "</style>\n",
       "<table border=\"1\" class=\"dataframe\">\n",
       "  <thead>\n",
       "    <tr style=\"text-align: right;\">\n",
       "      <th></th>\n",
       "      <th>funder</th>\n",
       "      <th>installer</th>\n",
       "      <th>basin</th>\n",
       "      <th>extraction_type_class</th>\n",
       "      <th>management</th>\n",
       "      <th>quality_group</th>\n",
       "      <th>quantity</th>\n",
       "      <th>source_type</th>\n",
       "    </tr>\n",
       "  </thead>\n",
       "  <tbody>\n",
       "    <tr>\n",
       "      <th>0</th>\n",
       "      <td>Roman</td>\n",
       "      <td>Roman</td>\n",
       "      <td>Lake Nyasa</td>\n",
       "      <td>gravity</td>\n",
       "      <td>vwc</td>\n",
       "      <td>good</td>\n",
       "      <td>enough</td>\n",
       "      <td>spring</td>\n",
       "    </tr>\n",
       "    <tr>\n",
       "      <th>1</th>\n",
       "      <td>Grumeti</td>\n",
       "      <td>GRUMETI</td>\n",
       "      <td>Lake Victoria</td>\n",
       "      <td>gravity</td>\n",
       "      <td>wug</td>\n",
       "      <td>good</td>\n",
       "      <td>insufficient</td>\n",
       "      <td>rainwater harvesting</td>\n",
       "    </tr>\n",
       "    <tr>\n",
       "      <th>2</th>\n",
       "      <td>Lottery Club</td>\n",
       "      <td>World vision</td>\n",
       "      <td>Pangani</td>\n",
       "      <td>gravity</td>\n",
       "      <td>vwc</td>\n",
       "      <td>good</td>\n",
       "      <td>enough</td>\n",
       "      <td>dam</td>\n",
       "    </tr>\n",
       "    <tr>\n",
       "      <th>3</th>\n",
       "      <td>Unicef</td>\n",
       "      <td>UNICEF</td>\n",
       "      <td>Ruvuma / Southern Coast</td>\n",
       "      <td>submersible</td>\n",
       "      <td>vwc</td>\n",
       "      <td>good</td>\n",
       "      <td>dry</td>\n",
       "      <td>borehole</td>\n",
       "    </tr>\n",
       "    <tr>\n",
       "      <th>4</th>\n",
       "      <td>Action In A</td>\n",
       "      <td>Artisan</td>\n",
       "      <td>Lake Victoria</td>\n",
       "      <td>gravity</td>\n",
       "      <td>other</td>\n",
       "      <td>good</td>\n",
       "      <td>seasonal</td>\n",
       "      <td>rainwater harvesting</td>\n",
       "    </tr>\n",
       "  </tbody>\n",
       "</table>\n",
       "</div>"
      ],
      "text/plain": [
       "         funder     installer                    basin extraction_type_class  \\\n",
       "0         Roman         Roman               Lake Nyasa               gravity   \n",
       "1       Grumeti       GRUMETI            Lake Victoria               gravity   \n",
       "2  Lottery Club  World vision                  Pangani               gravity   \n",
       "3        Unicef        UNICEF  Ruvuma / Southern Coast           submersible   \n",
       "4   Action In A       Artisan            Lake Victoria               gravity   \n",
       "\n",
       "  management quality_group      quantity           source_type  \n",
       "0        vwc          good        enough                spring  \n",
       "1        wug          good  insufficient  rainwater harvesting  \n",
       "2        vwc          good        enough                   dam  \n",
       "3        vwc          good           dry              borehole  \n",
       "4      other          good      seasonal  rainwater harvesting  "
      ]
     },
     "execution_count": 25,
     "metadata": {},
     "output_type": "execute_result"
    }
   ],
   "source": [
    "# Creating the dataframe categoricals to handle the categorical columns\n",
    "categoricals = df.select_dtypes(include=[object])\n",
    "categoricals.head()"
   ]
  },
  {
   "cell_type": "code",
   "execution_count": 26,
   "id": "a4d633da",
   "metadata": {},
   "outputs": [],
   "source": [
    "# Storing categorical columns to a list\n",
    "categorical_columns = categoricals.columns.tolist()\n",
    "# Creating an empty dictionary to store value counts for each column\n",
    "value_counts_dict = {}\n",
    "\n",
    "# Iterating through each categorical column and calculating value counts\n",
    "for column in categorical_columns:\n",
    "    value_counts = categoricals[column].value_counts()\n",
    "    value_counts_dict[column]=value_counts"
   ]
  },
  {
   "cell_type": "code",
   "execution_count": 27,
   "id": "35364e2f",
   "metadata": {
    "scrolled": false
   },
   "outputs": [
    {
     "data": {
      "text/plain": [
       "{'funder': Government Of Tanzania    9084\n",
       " Unknown                   3639\n",
       " Danida                    3114\n",
       " Hesawa                    2202\n",
       " Rwssp                     1374\n",
       "                           ... \n",
       " Muwasa                       1\n",
       " Msigw                        1\n",
       " Rc Mofu                      1\n",
       " Overland High School         1\n",
       " Samlo                        1\n",
       " Name: funder, Length: 1897, dtype: int64,\n",
       " 'installer': DWE           17402\n",
       " Unknown        3658\n",
       " Government     1825\n",
       " RWE            1206\n",
       " Commu          1060\n",
       "               ...  \n",
       " EWE               1\n",
       " SCHOO             1\n",
       " Got               1\n",
       " Fabia             1\n",
       " SELEPTA           1\n",
       " Name: installer, Length: 2145, dtype: int64,\n",
       " 'basin': Lake Victoria              10248\n",
       " Pangani                     8940\n",
       " Rufiji                      7976\n",
       " Internal                    7785\n",
       " Lake Tanganyika             6432\n",
       " Wami / Ruvu                 5987\n",
       " Lake Nyasa                  5085\n",
       " Ruvuma / Southern Coast     4493\n",
       " Lake Rukwa                  2454\n",
       " Name: basin, dtype: int64,\n",
       " 'extraction_type_class': gravity         26780\n",
       " handpump        16456\n",
       " other            6430\n",
       " submersible      6179\n",
       " motorpump        2987\n",
       " rope pump         451\n",
       " wind-powered      117\n",
       " Name: extraction_type_class, dtype: int64,\n",
       " 'management': vwc                 40507\n",
       " wug                  6515\n",
       " water board          2933\n",
       " wua                  2535\n",
       " private operator     1971\n",
       " parastatal           1768\n",
       " water authority       904\n",
       " other                 844\n",
       " company               685\n",
       " unknown               561\n",
       " other - school         99\n",
       " trust                  78\n",
       " Name: management, dtype: int64,\n",
       " 'quality_group': good        50818\n",
       " salty        5195\n",
       " unknown      1876\n",
       " milky         804\n",
       " colored       490\n",
       " fluoride      217\n",
       " Name: quality_group, dtype: int64,\n",
       " 'quantity': enough          33186\n",
       " insufficient    15129\n",
       " dry              6246\n",
       " seasonal         4050\n",
       " unknown           789\n",
       " Name: quantity, dtype: int64,\n",
       " 'source_type': spring                  17021\n",
       " shallow well            16824\n",
       " borehole                11949\n",
       " river/lake              10377\n",
       " rainwater harvesting     2295\n",
       " dam                       656\n",
       " other                     278\n",
       " Name: source_type, dtype: int64}"
      ]
     },
     "execution_count": 27,
     "metadata": {},
     "output_type": "execute_result"
    }
   ],
   "source": [
    "# Reviewing columns with the highest number of categories within each of them \n",
    "value_counts_dict"
   ]
  },
  {
   "cell_type": "markdown",
   "id": "a7453185",
   "metadata": {},
   "source": [
    "Funder and Installer are the two columns with the highest number of categories and seem to have very similar results. We will first focus on funders. \n"
   ]
  },
  {
   "cell_type": "markdown",
   "id": "ec46abaf",
   "metadata": {},
   "source": [
    "##### Second step: Categorizing Columns Requiring It"
   ]
  },
  {
   "cell_type": "markdown",
   "id": "0605ca49",
   "metadata": {},
   "source": [
    "<u>Funders</u> like any column, contains 59,400 rows. It is formed by 1,897 unique values. In order to organize them into similar categories, a research of each funder was done to identify if the organization was considered:\n",
    "1. **Bilateral**: the government from another country funded the water well\n",
    "2. **Government**: the government of Tanzania, or a programme funded by the government, or local, governmental agencies funded the water well  \n",
    "3. **NPO_NGO**: the water well is funded by a non-profit organization or a non-governmental organization\n",
    "4. **Private**: the fund comes from a private source: either individual or a company \n",
    "5. **Religious**: a religious organization funded the well\n",
    "6. **Unknown & Minor**: the funder was not or could not be identified, or had funded less than 150 projects\n",
    "\n",
    "The research was divided into two categories: \n",
    "- those which had funded at 150 projects were researched individually\n",
    "- the others were categorized as minor funders\n",
    "\n",
    "In a normal distribution, data outside the 75th percentile would be considered outliers. The goal of the above detailed classification was to get as close to the 75th percentile as possible. <br>\n",
    "The column contains 59,400 rows, but currently has 3,658 funders identified as 'Unknown', leavingg 55,742 rows of funders to be categorized. Categorizing data up to the 75th percentile would classify over 41,806 rows. \n",
    "\n",
    "\n",
    "By setting the limit on funders who had paid for the wells to 150, this allowed to identify and categorize 43,177 funders, meeting our 75th percentile objective. "
   ]
  },
  {
   "cell_type": "code",
   "execution_count": 28,
   "id": "c6f83a59",
   "metadata": {},
   "outputs": [
    {
     "data": {
      "text/plain": [
       "Government Of Tanzania    9084\n",
       "Unknown                   3639\n",
       "Danida                    3114\n",
       "Hesawa                    2202\n",
       "Rwssp                     1374\n",
       "                          ... \n",
       "Muwasa                       1\n",
       "Msigw                        1\n",
       "Rc Mofu                      1\n",
       "Overland High School         1\n",
       "Samlo                        1\n",
       "Name: funder, Length: 1897, dtype: int64"
      ]
     },
     "execution_count": 28,
     "metadata": {},
     "output_type": "execute_result"
    }
   ],
   "source": [
    "categoricals['funder'].value_counts()"
   ]
  },
  {
   "cell_type": "code",
   "execution_count": 29,
   "id": "bf7cf7fc",
   "metadata": {},
   "outputs": [],
   "source": [
    "# Printing all rows for categorization but commented out for the rest of the code dfor better memory use\n",
    "# pd.set_option('display.max_rows', None)"
   ]
  },
  {
   "cell_type": "code",
   "execution_count": 30,
   "id": "3f00aca9",
   "metadata": {
    "scrolled": true
   },
   "outputs": [
    {
     "data": {
      "text/plain": [
       "funder                       \n",
       "Mkinga Distric Coun              150\n",
       "Lvia                             147\n",
       "Concern World Wide               145\n",
       "Unhcr                            137\n",
       "No                               134\n",
       "                                ... \n",
       "Makori                             1\n",
       "Makonder                           1\n",
       "Makondakonde Water Population      1\n",
       "Makona                             1\n",
       "Zingibali Secondary                1\n",
       "Length: 1837, dtype: int64"
      ]
     },
     "execution_count": 30,
     "metadata": {},
     "output_type": "execute_result"
    }
   ],
   "source": [
    "# Identifiying funders that funded up 150 water wells \n",
    "categoricals[['funder']].groupby('funder').filter(lambda x: len(x) <= 150).value_counts()"
   ]
  },
  {
   "cell_type": "code",
   "execution_count": 31,
   "id": "eb7b2b4b",
   "metadata": {
    "scrolled": false
   },
   "outputs": [
    {
     "data": {
      "text/plain": [
       "funder                        \n",
       "Government Of Tanzania            9084\n",
       "Unknown                           3639\n",
       "Danida                            3114\n",
       "Hesawa                            2202\n",
       "Rwssp                             1374\n",
       "World Bank                        1349\n",
       "Kkkt                              1287\n",
       "World Vision                      1246\n",
       "Unicef                            1057\n",
       "Tasaf                              877\n",
       "District Council                   843\n",
       "Dhv                                829\n",
       "Private Individual                 826\n",
       "Dwsp                               811\n",
       "0                                  777\n",
       "Norad                              765\n",
       "Germany Republi                    610\n",
       "Tcrs                               602\n",
       "Ministry Of Water                  590\n",
       "Water                              583\n",
       "Dwe                                484\n",
       "Netherlands                        470\n",
       "Hifab                              450\n",
       "Adb                                448\n",
       "Lga                                442\n",
       "Amref                              425\n",
       "Fini Water                         393\n",
       "Oxfam                              359\n",
       "Wateraid                           333\n",
       "Rc Church                          321\n",
       "Isf                                316\n",
       "Rudep                              312\n",
       "Mission                            301\n",
       "Private                            295\n",
       "Jaica                              280\n",
       "Roman                              275\n",
       "Rural Water Supply And Sanitat     270\n",
       "Adra                               263\n",
       "Ces(gmbh)                          260\n",
       "Jica                               259\n",
       "Shipo                              241\n",
       "Wsdp                               234\n",
       "Rc                                 230\n",
       "Finw                               219\n",
       "Dh                                 213\n",
       "Ded                                198\n",
       "Plan Int                           195\n",
       "Kiliwater                          189\n",
       "Dmdd                               186\n",
       "Go                                 181\n",
       "Lawatefuka Water Supply            180\n",
       "Oxfarm                             176\n",
       "Magadini-makiwaru Water            175\n",
       "Fw                                 173\n",
       "W.B                                170\n",
       "Kkkt_makwale                       166\n",
       "Ces (gmbh)                         165\n",
       "Wvt                                158\n",
       "Oikos E.Afrika                     155\n",
       "Nethalan                           152\n",
       "dtype: int64"
      ]
     },
     "execution_count": 31,
     "metadata": {},
     "output_type": "execute_result"
    }
   ],
   "source": [
    "# Counting funders that funded over 150 water wells \n",
    "categoricals[['funder']].groupby('funder').filter(lambda x: len(x) > 150).value_counts()"
   ]
  },
  {
   "cell_type": "code",
   "execution_count": 32,
   "id": "fe2afbd8",
   "metadata": {},
   "outputs": [
    {
     "data": {
      "text/plain": [
       "43177"
      ]
     },
     "execution_count": 32,
     "metadata": {},
     "output_type": "execute_result"
    }
   ],
   "source": [
    "# Ensuring enough data is categorized by counting how much would represent classiying funders that funded at least 150 wells\n",
    "categoricals[['funder']].groupby('funder').filter(lambda x: len(x) > 150).value_counts().sum()"
   ]
  },
  {
   "cell_type": "markdown",
   "id": "d55e76d3",
   "metadata": {},
   "source": [
    "A copy of the column `funder` will be created `funder_organization` to then replace each of the categories with the ones defined above."
   ]
  },
  {
   "cell_type": "code",
   "execution_count": 33,
   "id": "7ab2fefc",
   "metadata": {},
   "outputs": [
    {
     "data": {
      "text/plain": [
       "0                  Roman\n",
       "1                Grumeti\n",
       "2           Lottery Club\n",
       "3                 Unicef\n",
       "4            Action In A\n",
       "              ...       \n",
       "59395    Germany Republi\n",
       "59396        Cefa-njombe\n",
       "59397            Unknown\n",
       "59398              Malec\n",
       "59399         World Bank\n",
       "Name: funder_organization, Length: 59400, dtype: object"
      ]
     },
     "execution_count": 33,
     "metadata": {},
     "output_type": "execute_result"
    }
   ],
   "source": [
    "# Creating column funders_organization with values from funders \n",
    "categoricals['funder_organization'] = categoricals['funder']\n",
    "categoricals['funder_organization']"
   ]
  },
  {
   "cell_type": "code",
   "execution_count": 34,
   "id": "9b351f1b",
   "metadata": {},
   "outputs": [
    {
     "name": "stdout",
     "output_type": "stream",
     "text": [
      "Columns are equal.\n"
     ]
    }
   ],
   "source": [
    "# Verifying that the copy of the column was correctly done\n",
    "assert (categoricals['funder_organization'] == categoricals['funder']).all(), \"Columns are not equal.\"\n",
    "\n",
    "# If the assertion passes, it will not raise an error.\n",
    "print(\"Columns are equal.\")"
   ]
  },
  {
   "cell_type": "code",
   "execution_count": 35,
   "id": "b3a478e2",
   "metadata": {},
   "outputs": [],
   "source": [
    "# Storing each of the identified funder into the corresponding list to then replace them\n",
    "bilateral = [\"Danida\",\"Hesawa\",\"Norad\",\"Germany Republi\",\"Netherlands\",\"Rudep\",\"Nethalan\",\"World Bank\",\"W.B\"]\n",
    "government = [\"Government Of Tanzania\",\"Rwssp\",\"District Council\",\"Dwsp\",\"Water\",\"Dwe\",\"Lga\",\"Private\",\"Jaica\",\"Rural Water Supply And Sanitat\",\"Jica\",\"Wsdp\",\"Rc\"]\n",
    "NPO_NGO = [\"World Vision\",\"Unicef\",\"Tasaf\",\"Ministry Of Water\",\"Amref\",\"Oxfam\",\"Wateraid\",\"Mission\",\"Shipo\",\"Ded\",\"Plan Int\",\"Oxfarm\",\"Oikos E.Afrika\"]\n",
    "private = [\"Finw\",\"Kiliwater\",\"Dhv\",\"Hifab\",\"Adb\",\"Fini Water\",\"Isf\",\"Ces(gmbh)\",\"Fw\",\"Ces (gmbh)\",\"Private Individual\",\"Lawatefuka Water Supply\",\"Magadini-makiwaru Water\"]\n",
    "religious = [\"Kkkt\",\"Tcrs\",\"Rc Church\",\"Adra\",\"Dmdd\",\"Kkkt_makwale\",\"Wvt\",\"Roman\"]\n",
    "unknown = [\"Unknown\",\"0\",\"Dh\",\"Go\", \"Not Known \"]\n",
    "\n",
    "# Storing into a list the other funders: those that funded less than 150 wells\n",
    "unknown_n_minor = categoricals['funder_organization'].value_counts()[categoricals['funder_organization'].value_counts() <= 150].index.tolist()\n",
    "\n"
   ]
  },
  {
   "cell_type": "code",
   "execution_count": 36,
   "id": "3b5cab16",
   "metadata": {},
   "outputs": [],
   "source": [
    "# Replacing each list of funders by their assigned category\n",
    "categoricals['funder_organization'] = categoricals['funder_organization'].replace(bilateral, 'bilateral')\n",
    "categoricals['funder_organization'] = categoricals['funder_organization'].replace(government, 'government')\n",
    "categoricals['funder_organization'] = categoricals['funder_organization'].replace(NPO_NGO, 'NPO_NGO')\n",
    "categoricals['funder_organization'] = categoricals['funder_organization'].replace(private, 'private')\n",
    "categoricals['funder_organization'] = categoricals['funder_organization'].replace(religious, 'religious')\n",
    "categoricals['funder_organization'] = categoricals['funder_organization'].replace(unknown, 'unknown_n_minor')\n",
    "categoricals['funder_organization'] = categoricals['funder_organization'].replace(unknown_n_minor, 'unknown_n_minor')\n",
    "\n"
   ]
  },
  {
   "cell_type": "code",
   "execution_count": 37,
   "id": "bbaa3be0",
   "metadata": {
    "scrolled": true
   },
   "outputs": [
    {
     "data": {
      "text/plain": [
       "array(['religious', 'unknown_n_minor', 'NPO_NGO', 'government',\n",
       "       'bilateral', 'private'], dtype=object)"
      ]
     },
     "execution_count": 37,
     "metadata": {},
     "output_type": "execute_result"
    }
   ],
   "source": [
    "# Verifying all strings were correctly replaced\n",
    "categoricals['funder_organization'].unique()"
   ]
  },
  {
   "cell_type": "markdown",
   "id": "371df1b2",
   "metadata": {},
   "source": [
    "<u>Installer</u> \n"
   ]
  },
  {
   "cell_type": "markdown",
   "id": "47d61066",
   "metadata": {},
   "source": [
    "<u>Installer</u> also contains 59,400 rows. The 2,145 identifiers were summarized into 8 categories, similar to funders - as follows:\n",
    "1. **Bilateral**: the government from another country installed the water well\n",
    "2. **Community**: installed by citizens, or the community\n",
    "3. **Government**: the government of Tanzania, or a programme organized by the government, or local, governmental agencies installed the water well  \n",
    "4. **NPO_NGO**: the water well was installed by a non-profit organization or a non-governmental organization\n",
    "5. **Private**: the installation was done by a private source: either individual or a company \n",
    "6. **Religious**: a religious organization installed the well\n",
    "7. **Unknown and minor**: the installation was not or could not be identified, or has installed less than 100 wells\n",
    "\n",
    "The research was divided into two categories: \n",
    "- those which had installed at least 100 projects were researched individually\n",
    "- the others were categorized as minor installers\n",
    "\n",
    "Categorizing the above allowed to identify 45,658 - or 76.9%, which meets the 75th percentile goal. <br>"
   ]
  },
  {
   "cell_type": "code",
   "execution_count": 38,
   "id": "7609b686",
   "metadata": {
    "scrolled": false
   },
   "outputs": [],
   "source": [
    "# Verified if Funder was the same as Installer, checking by chunks of 20 \n",
    "\n",
    "# Defining the chunk size\n",
    "chunk_size = 20\n",
    "\n",
    "# Storing the total number of rows in the dataframe\n",
    "total_rows = len(categoricals)\n",
    "\n",
    "# Iterating through the DataFrame in chunks\n",
    "for i in range(0, total_rows, chunk_size) :\n",
    "    start_index = i\n",
    "    end_index = min(i + chunk_size, total_rows)\n",
    "    \n",
    "    # Reviewing the chunk of data in the 'column'\n",
    "    chunk = categoricals[['funder', 'installer']][start_index:end_index]\n",
    "    \n",
    "    # Processing the chunk\n",
    "#     print(chunk)"
   ]
  },
  {
   "cell_type": "code",
   "execution_count": 39,
   "id": "ebb027ed",
   "metadata": {
    "scrolled": false
   },
   "outputs": [
    {
     "data": {
      "text/plain": [
       "installer                    \n",
       "DWE                              17402\n",
       "Unknown                           3658\n",
       "Government                        1825\n",
       "RWE                               1206\n",
       "Commu                             1060\n",
       "                                 ...  \n",
       "WATER AID                          103\n",
       "FINI WATER                         103\n",
       "Halmashauri ya wilaya sikonge      102\n",
       "Wizara ya maji                     100\n",
       "HSW                                100\n",
       "Length: 85, dtype: int64"
      ]
     },
     "execution_count": 39,
     "metadata": {},
     "output_type": "execute_result"
    }
   ],
   "source": [
    "# Identifiying installers that funded at least 150 water wells \n",
    "categoricals[['installer']].groupby('installer').filter(lambda x: len(x)  >= 100).value_counts()"
   ]
  },
  {
   "cell_type": "code",
   "execution_count": 40,
   "id": "804db9a0",
   "metadata": {
    "scrolled": false
   },
   "outputs": [
    {
     "data": {
      "text/plain": [
       "45658"
      ]
     },
     "execution_count": 40,
     "metadata": {},
     "output_type": "execute_result"
    }
   ],
   "source": [
    "# Ensuring enough data is categorized by counting how much would represent classiying funders that funded at least 150 wells\n",
    "categoricals[['installer']].groupby('installer').filter(lambda x: len(x) > 100).value_counts().sum()"
   ]
  },
  {
   "cell_type": "markdown",
   "id": "ff7a4160",
   "metadata": {},
   "source": [
    "A copy of the column `installer` will be created `installer_organization` to then replace each of the categories with the ones defined above."
   ]
  },
  {
   "cell_type": "code",
   "execution_count": 41,
   "id": "bcd0d1a1",
   "metadata": {},
   "outputs": [
    {
     "data": {
      "text/plain": [
       "0               Roman\n",
       "1             GRUMETI\n",
       "2        World vision\n",
       "3              UNICEF\n",
       "4             Artisan\n",
       "             ...     \n",
       "59395             CES\n",
       "59396            Cefa\n",
       "59397         Unknown\n",
       "59398            Musa\n",
       "59399           World\n",
       "Name: installer_organization, Length: 59400, dtype: object"
      ]
     },
     "execution_count": 41,
     "metadata": {},
     "output_type": "execute_result"
    }
   ],
   "source": [
    "# Creating column funders_organization with values from funders \n",
    "categoricals['installer_organization'] = categoricals['installer']\n",
    "categoricals['installer_organization']"
   ]
  },
  {
   "cell_type": "code",
   "execution_count": 42,
   "id": "385095c3",
   "metadata": {},
   "outputs": [
    {
     "name": "stdout",
     "output_type": "stream",
     "text": [
      "Columns are equal.\n"
     ]
    }
   ],
   "source": [
    "# Verifying that the copy of the column was correctly done\n",
    "assert (categoricals['installer_organization'] == categoricals['installer']).all(), \"Columns are not equal.\"\n",
    "\n",
    "# If the assertion passes, it will not raise an error.\n",
    "print(\"Columns are equal.\")"
   ]
  },
  {
   "cell_type": "code",
   "execution_count": 43,
   "id": "57d8e157",
   "metadata": {},
   "outputs": [],
   "source": [
    "# Storing each of the identified funder into the corresponding list to then replace them\n",
    "bilateral_inst = [\"DANIDA\", \"Hesawa\", \"NORAD\", \"Norad\", \"Kuwait\", \"JAICA\", \"HE\"]\n",
    "community_inst = [\"Commu\", \"Community\", \"Villagers\", \"wananchi\"]\n",
    "government_inst = [\"DWE\", \"Government\", \"Central government\", \"District Council\", \"LGA\", \"District council\", \"Gover\",\"Idara ya maji\",\"Gove\",\"Sengerema Water Department\",\"DWSP\",\"Distri\",\"Centr\",\"Handeni Trunk Main(\",\"RWSSP\", \"Central govt\", \"GOVER\", \"JICA\", \"Central Government\",\"MUWSA\",\"Halmashauri ya wilaya sikonge\",\"HSW\",\"Wizara ya maji\"]\n",
    "NPO_NGO_inst = [\"World vision\",\"TASAF\",\"AMREF\",\"TWESA\",\"ACRA\",\"World Vision\",\"SEMA\",\"OXFAM\",\"UNICEF\",\"WVT\",\"SHIPO\",\"Mission\",\"World\",\"Amref\",\"TWE\",\"DED\",\"WATER AID\"]\n",
    "private_inst = [\"RWE\", \"CES\", \"WEDECO\", \"WU\", \"DW\", \"Da\", \"Kiliwater\", \"FinW\", \"DH\", \"Lawatefuka water sup\", \"Magadini-Makiwaru wa\", \"FW\", \"MWE\", \"Fini Water\", \"Private\", \"Artisan\", \"ISF\", \"Fini water\", \"DDCA\", \"Tardo\", \"Consulting Engineer\", \"FINI WATER\"]\n",
    "religious_inst = [\"KKKT\",\"TCRS\",\"DANID\",\"HESAWA\",\"Dmdd\",\"RC\",\"KKKT _ Konde and DWE\",\"RC CHURCH\"]\n",
    "unknown_inst = [\"Unknown\",\"0\",\"Is\",\"Ir\"]\n",
    "\n",
    "# Storing into a list the other funders: those that funded less than 150 wells\n",
    "minor_installers = categoricals['installer_organization'].value_counts()[categoricals['installer_organization'].value_counts() <= 100].index.tolist()\n",
    "\n"
   ]
  },
  {
   "cell_type": "code",
   "execution_count": 44,
   "id": "9fb47d83",
   "metadata": {},
   "outputs": [],
   "source": [
    "# Replacing each list of installer by their assigned category\n",
    "categoricals['installer_organization'] = categoricals['installer_organization'].replace(bilateral_inst, 'bilateral')\n",
    "categoricals['installer_organization'] = categoricals['installer_organization'].replace(community_inst, 'community')\n",
    "categoricals['installer_organization'] = categoricals['installer_organization'].replace(government_inst, 'government')\n",
    "categoricals['installer_organization'] = categoricals['installer_organization'].replace(NPO_NGO_inst, 'NPO_NGO')\n",
    "categoricals['installer_organization'] = categoricals['installer_organization'].replace(private_inst, 'private')\n",
    "categoricals['installer_organization'] = categoricals['installer_organization'].replace(religious_inst, 'religious')\n",
    "categoricals['installer_organization'] = categoricals['installer_organization'].replace(unknown_inst, 'unknown_n_minor')\n",
    "categoricals['installer_organization'] = categoricals['installer_organization'].replace(minor_installers, 'unknown_n_minor')\n",
    "\n"
   ]
  },
  {
   "cell_type": "code",
   "execution_count": 45,
   "id": "ce6d41ed",
   "metadata": {
    "scrolled": true
   },
   "outputs": [
    {
     "data": {
      "text/plain": [
       "array(['unknown_n_minor', 'NPO_NGO', 'government', 'bilateral',\n",
       "       'community', 'religious'], dtype=object)"
      ]
     },
     "execution_count": 45,
     "metadata": {},
     "output_type": "execute_result"
    }
   ],
   "source": [
    "# Verifying all strings were correctly replaced\n",
    "len(categoricals['installer_organization'].unique())\n",
    "categoricals['installer_organization'].unique()"
   ]
  },
  {
   "cell_type": "code",
   "execution_count": 46,
   "id": "c8e0af7b",
   "metadata": {},
   "outputs": [],
   "source": [
    "categoricals = categoricals.drop(['funder', 'installer'], axis=1)"
   ]
  },
  {
   "cell_type": "markdown",
   "id": "17a1e49d",
   "metadata": {},
   "source": [
    "<u>Management</u> \n"
   ]
  },
  {
   "cell_type": "markdown",
   "id": "3db8f2dc",
   "metadata": {},
   "source": [
    "External research was made to understand some of the terms, including [management definitions](https://washmatters.wateraid.org/publications/private-operation-in-the-rural-water-supply-in-central-tanzania-quick-fixes-and-slow) \n",
    "\n",
    "\n",
    "<u>Management</u>\n",
    "\n",
    "* vwc: Village Water Committee: regulatory body with elected membership. They are the default management framework\n",
    "* wug: Water User Group: sub-village level management groups responsible for operation and maintenance of the water point.\n",
    "* water board: legal entity, autonomous from village government\n",
    "* wua: Water User Association: A legal entity autonomous from village government that oversees the management of an entire extraction system.\n",
    "* private operator: A privately funded extension to a water system\n",
    "* parastatal: a company or organization which is owned by a country's government and often has some political power\n",
    "* water authority: \n",
    "* other: \n",
    "* company: A legal entity sometimes under contract\n",
    "* other - school: The water points are public but managed fully by the school\n",
    "* trust: legal entity, autonomous from village government \n",
    "* unknown\n"
   ]
  },
  {
   "cell_type": "markdown",
   "id": "06c35221",
   "metadata": {},
   "source": [
    "Following the research on these categories, some of them can be grouped further together. \n",
    "\n",
    "* vwc and wug = Village Water Committee and Water User Group both refer to a village or sub-village management group \n",
    "* water board and trust = are both defined as a legal entity, autonomous from village government\n",
    "* parastatal and water authority = eventually refer to organizations owned by the country's government\n",
    "* other and other-school = both contain management types that cannot be defined as the above classifications\n",
    "* private operator and company = both a privately funded extension to a water system\n"
   ]
  },
  {
   "cell_type": "code",
   "execution_count": 47,
   "id": "144d2c21",
   "metadata": {},
   "outputs": [],
   "source": [
    "# Grouping the above categories together \n",
    "\n",
    "# vwc and wug\n",
    "categoricals['management'] = categoricals['management'].replace('vwc', 'village_committee')\n",
    "categoricals['management'] = categoricals['management'].replace('wug', 'village_committee')\n",
    "\n",
    "# water board and trust\n",
    "categoricals['management'] = categoricals['management'].replace('water board', 'board_n_trust')\n",
    "categoricals['management'] = categoricals['management'].replace('trust', 'board_n_trust')\n",
    "\n",
    "# water authority and parastatal\n",
    "categoricals['management'] = categoricals['management'].replace('water authority', 'government')\n",
    "categoricals['management'] = categoricals['management'].replace('parastatal', 'government')\n",
    "\n",
    "# other and other school\n",
    "categoricals['management'] = categoricals['management'].replace('other - school', 'other')\n",
    "\n",
    "# private operator and company\n",
    "categoricals['management'] = categoricals['management'].replace('company', 'private operator')"
   ]
  },
  {
   "cell_type": "code",
   "execution_count": 48,
   "id": "9a7c3599",
   "metadata": {},
   "outputs": [
    {
     "data": {
      "text/plain": [
       "array(['village_committee', 'other', 'private operator', 'board_n_trust',\n",
       "       'wua', 'government', 'unknown'], dtype=object)"
      ]
     },
     "execution_count": 48,
     "metadata": {},
     "output_type": "execute_result"
    }
   ],
   "source": [
    "categoricals['management'].unique()"
   ]
  },
  {
   "cell_type": "code",
   "execution_count": 49,
   "id": "8a0e3faf",
   "metadata": {},
   "outputs": [
    {
     "data": {
      "text/plain": [
       "7"
      ]
     },
     "execution_count": 49,
     "metadata": {},
     "output_type": "execute_result"
    }
   ],
   "source": [
    "len(categoricals['management'].unique())"
   ]
  },
  {
   "cell_type": "markdown",
   "id": "e94edd75",
   "metadata": {},
   "source": [
    "##### Third step: Further Columns Dropping: Those With Similar Information"
   ]
  },
  {
   "cell_type": "markdown",
   "id": "7f459089",
   "metadata": {},
   "source": [
    "Now that both columns were categorized, they appear to show similar groups. In order to optimize the predictions, only one of the two columns should be kept. <br>\n",
    "While both funders and installers are important, when it comes to determining the functionality of a water well, the expertise and competence of the installers are usually the key factors. \n",
    "<br> The `installer_organization` column will be kept "
   ]
  },
  {
   "cell_type": "code",
   "execution_count": 50,
   "id": "ebbc90a5",
   "metadata": {},
   "outputs": [],
   "source": [
    "# Dropping funder_organization column\n",
    "categoricals = categoricals.drop(['funder_organization'], axis=1)"
   ]
  },
  {
   "cell_type": "code",
   "execution_count": 51,
   "id": "f8e94b5d",
   "metadata": {
    "scrolled": true
   },
   "outputs": [
    {
     "data": {
      "text/plain": [
       "Index(['basin', 'extraction_type_class', 'management', 'quality_group',\n",
       "       'quantity', 'source_type', 'installer_organization'],\n",
       "      dtype='object')"
      ]
     },
     "execution_count": 51,
     "metadata": {},
     "output_type": "execute_result"
    }
   ],
   "source": [
    "# Verifying the column was dropped\n",
    "categoricals.columns"
   ]
  },
  {
   "cell_type": "markdown",
   "id": "19c6c96d",
   "metadata": {},
   "source": [
    "#### 4. b. 5. Encoding Categorical Variables"
   ]
  },
  {
   "cell_type": "markdown",
   "id": "8aa92cce",
   "metadata": {},
   "source": [
    "This step enables non-numeric data to be processed and analyzed, facilitating meaningful pattern recognition and model training.\n",
    "It uses the one-hot encoding method, which converts each category as a binary vector: 1 indicating the presence of the category, 0 indicating its absence.  "
   ]
  },
  {
   "cell_type": "code",
   "execution_count": 52,
   "id": "289a9642",
   "metadata": {
    "scrolled": false
   },
   "outputs": [
    {
     "data": {
      "text/plain": [
       "Index(['basin_Internal', 'basin_Lake Nyasa', 'basin_Lake Rukwa',\n",
       "       'basin_Lake Tanganyika', 'basin_Lake Victoria', 'basin_Pangani',\n",
       "       'basin_Rufiji', 'basin_Ruvuma / Southern Coast', 'basin_Wami / Ruvu',\n",
       "       'extraction_type_class_gravity', 'extraction_type_class_handpump',\n",
       "       'extraction_type_class_motorpump', 'extraction_type_class_other',\n",
       "       'extraction_type_class_rope pump', 'extraction_type_class_submersible',\n",
       "       'extraction_type_class_wind-powered', 'management_board_n_trust',\n",
       "       'management_government', 'management_other',\n",
       "       'management_private operator', 'management_unknown',\n",
       "       'management_village_committee', 'management_wua',\n",
       "       'quality_group_colored', 'quality_group_fluoride', 'quality_group_good',\n",
       "       'quality_group_milky', 'quality_group_salty', 'quality_group_unknown',\n",
       "       'quantity_dry', 'quantity_enough', 'quantity_insufficient',\n",
       "       'quantity_seasonal', 'quantity_unknown', 'source_type_borehole',\n",
       "       'source_type_dam', 'source_type_other',\n",
       "       'source_type_rainwater harvesting', 'source_type_river/lake',\n",
       "       'source_type_shallow well', 'source_type_spring',\n",
       "       'installer_organization_NPO_NGO', 'installer_organization_bilateral',\n",
       "       'installer_organization_community', 'installer_organization_government',\n",
       "       'installer_organization_religious',\n",
       "       'installer_organization_unknown_n_minor'],\n",
       "      dtype='object')"
      ]
     },
     "execution_count": 52,
     "metadata": {},
     "output_type": "execute_result"
    }
   ],
   "source": [
    "# One-hot encoding the categorical columns\n",
    "one_hot_df = pd.get_dummies(categoricals)\n",
    "one_hot_df.columns"
   ]
  },
  {
   "cell_type": "code",
   "execution_count": 53,
   "id": "5f78d7f0",
   "metadata": {},
   "outputs": [
    {
     "data": {
      "text/plain": [
       "47"
      ]
     },
     "execution_count": 53,
     "metadata": {},
     "output_type": "execute_result"
    }
   ],
   "source": [
    "# Verifying how many columns this provided\n",
    "len(one_hot_df.columns)"
   ]
  },
  {
   "cell_type": "markdown",
   "id": "b3750242",
   "metadata": {},
   "source": [
    "#### 4. b. 6. Grouping Numeric and Encoded Categorical Variables"
   ]
  },
  {
   "cell_type": "markdown",
   "id": "1ec4b62f",
   "metadata": {},
   "source": [
    "Now that we have our encoded categorical variables, the rest of the numeric columns dataframe will be grouped to this new one_hot_df to have a useable dataframe for our models. "
   ]
  },
  {
   "cell_type": "code",
   "execution_count": 54,
   "id": "1b8a6db0",
   "metadata": {},
   "outputs": [],
   "source": [
    "# Creating a numeric df\n",
    "numeric_df = df.select_dtypes(include=['number'])"
   ]
  },
  {
   "cell_type": "code",
   "execution_count": 55,
   "id": "d329b9ca",
   "metadata": {},
   "outputs": [
    {
     "data": {
      "text/plain": [
       "Index(['amount_tsh', 'gps_height', 'population', 'public_meeting', 'permit',\n",
       "       'construction_year', 'status_group'],\n",
       "      dtype='object')"
      ]
     },
     "execution_count": 55,
     "metadata": {},
     "output_type": "execute_result"
    }
   ],
   "source": [
    "# Verifying its columns\n",
    "numeric_df.columns"
   ]
  },
  {
   "cell_type": "code",
   "execution_count": 56,
   "id": "3a6dfb66",
   "metadata": {},
   "outputs": [],
   "source": [
    "# Now grouping both numeric and encoded categorical dataframes\n",
    "combined_df = pd.concat([numeric_df, one_hot_df], axis=1)"
   ]
  },
  {
   "cell_type": "markdown",
   "id": "ee5d4314",
   "metadata": {},
   "source": [
    "#### 4. b. 7. Pre-modeling: exploration"
   ]
  },
  {
   "cell_type": "markdown",
   "id": "cca63364",
   "metadata": {},
   "source": [
    "Prior to modeling, let's explore the numeric DataFrame to get a sense of whether preprocessing will be necessary. "
   ]
  },
  {
   "cell_type": "code",
   "execution_count": 57,
   "id": "2003ee1a",
   "metadata": {
    "scrolled": false
   },
   "outputs": [
    {
     "data": {
      "text/html": [
       "<div>\n",
       "<style scoped>\n",
       "    .dataframe tbody tr th:only-of-type {\n",
       "        vertical-align: middle;\n",
       "    }\n",
       "\n",
       "    .dataframe tbody tr th {\n",
       "        vertical-align: top;\n",
       "    }\n",
       "\n",
       "    .dataframe thead th {\n",
       "        text-align: right;\n",
       "    }\n",
       "</style>\n",
       "<table border=\"1\" class=\"dataframe\">\n",
       "  <thead>\n",
       "    <tr style=\"text-align: right;\">\n",
       "      <th></th>\n",
       "      <th>amount_tsh</th>\n",
       "      <th>gps_height</th>\n",
       "      <th>population</th>\n",
       "      <th>public_meeting</th>\n",
       "      <th>permit</th>\n",
       "      <th>construction_year</th>\n",
       "      <th>status_group</th>\n",
       "    </tr>\n",
       "  </thead>\n",
       "  <tbody>\n",
       "    <tr>\n",
       "      <th>count</th>\n",
       "      <td>59400.000000</td>\n",
       "      <td>59400.000000</td>\n",
       "      <td>59400.000000</td>\n",
       "      <td>59400.000000</td>\n",
       "      <td>59400.000000</td>\n",
       "      <td>59400.000000</td>\n",
       "      <td>59400.000000</td>\n",
       "    </tr>\n",
       "    <tr>\n",
       "      <th>mean</th>\n",
       "      <td>317.650385</td>\n",
       "      <td>668.297239</td>\n",
       "      <td>179.909983</td>\n",
       "      <td>0.858771</td>\n",
       "      <td>0.654074</td>\n",
       "      <td>1300.652475</td>\n",
       "      <td>0.456919</td>\n",
       "    </tr>\n",
       "    <tr>\n",
       "      <th>std</th>\n",
       "      <td>2997.574558</td>\n",
       "      <td>693.116350</td>\n",
       "      <td>471.482176</td>\n",
       "      <td>0.348261</td>\n",
       "      <td>0.475673</td>\n",
       "      <td>951.620547</td>\n",
       "      <td>0.498145</td>\n",
       "    </tr>\n",
       "    <tr>\n",
       "      <th>min</th>\n",
       "      <td>0.000000</td>\n",
       "      <td>-90.000000</td>\n",
       "      <td>0.000000</td>\n",
       "      <td>0.000000</td>\n",
       "      <td>0.000000</td>\n",
       "      <td>0.000000</td>\n",
       "      <td>0.000000</td>\n",
       "    </tr>\n",
       "    <tr>\n",
       "      <th>25%</th>\n",
       "      <td>0.000000</td>\n",
       "      <td>0.000000</td>\n",
       "      <td>0.000000</td>\n",
       "      <td>1.000000</td>\n",
       "      <td>0.000000</td>\n",
       "      <td>0.000000</td>\n",
       "      <td>0.000000</td>\n",
       "    </tr>\n",
       "    <tr>\n",
       "      <th>50%</th>\n",
       "      <td>0.000000</td>\n",
       "      <td>369.000000</td>\n",
       "      <td>25.000000</td>\n",
       "      <td>1.000000</td>\n",
       "      <td>1.000000</td>\n",
       "      <td>1986.000000</td>\n",
       "      <td>0.000000</td>\n",
       "    </tr>\n",
       "    <tr>\n",
       "      <th>75%</th>\n",
       "      <td>20.000000</td>\n",
       "      <td>1319.250000</td>\n",
       "      <td>215.000000</td>\n",
       "      <td>1.000000</td>\n",
       "      <td>1.000000</td>\n",
       "      <td>2004.000000</td>\n",
       "      <td>1.000000</td>\n",
       "    </tr>\n",
       "    <tr>\n",
       "      <th>max</th>\n",
       "      <td>350000.000000</td>\n",
       "      <td>2770.000000</td>\n",
       "      <td>30500.000000</td>\n",
       "      <td>1.000000</td>\n",
       "      <td>1.000000</td>\n",
       "      <td>2013.000000</td>\n",
       "      <td>1.000000</td>\n",
       "    </tr>\n",
       "  </tbody>\n",
       "</table>\n",
       "</div>"
      ],
      "text/plain": [
       "          amount_tsh    gps_height    population  public_meeting  \\\n",
       "count   59400.000000  59400.000000  59400.000000    59400.000000   \n",
       "mean      317.650385    668.297239    179.909983        0.858771   \n",
       "std      2997.574558    693.116350    471.482176        0.348261   \n",
       "min         0.000000    -90.000000      0.000000        0.000000   \n",
       "25%         0.000000      0.000000      0.000000        1.000000   \n",
       "50%         0.000000    369.000000     25.000000        1.000000   \n",
       "75%        20.000000   1319.250000    215.000000        1.000000   \n",
       "max    350000.000000   2770.000000  30500.000000        1.000000   \n",
       "\n",
       "             permit  construction_year  status_group  \n",
       "count  59400.000000       59400.000000  59400.000000  \n",
       "mean       0.654074        1300.652475      0.456919  \n",
       "std        0.475673         951.620547      0.498145  \n",
       "min        0.000000           0.000000      0.000000  \n",
       "25%        0.000000           0.000000      0.000000  \n",
       "50%        1.000000        1986.000000      0.000000  \n",
       "75%        1.000000        2004.000000      1.000000  \n",
       "max        1.000000        2013.000000      1.000000  "
      ]
     },
     "metadata": {},
     "output_type": "display_data"
    },
    {
     "data": {
      "image/png": "[encoded data removed]",
      "text/plain": [
       "<Figure size 2000x1000 with 1 Axes>"
      ]
     },
     "metadata": {},
     "output_type": "display_data"
    }
   ],
   "source": [
    "# Importing FuncFormatter\n",
    "from matplotlib.ticker import FuncFormatter\n",
    "\n",
    "# Explore the dataset\n",
    "display(numeric_df.describe())\n",
    "\n",
    "# Creating a box plot of each column\n",
    "plt.figure(figsize=(20, 10))\n",
    "plt.boxplot([numeric_df[col] for col in numeric_df.columns])\n",
    "\n",
    "plt.xticks(range(1, len(numeric_df.columns.values) +1 ), numeric_df.columns.values, fontsize=13)\n",
    "plt.yticks(fontsize=13)\n",
    "\n",
    "# Format y-axis labels with commas at thousands\n",
    "y_formatter = FuncFormatter(lambda x, pos: \"{:,.0f}\".format(x))\n",
    "plt.gca().yaxis.set_major_formatter(y_formatter)\n",
    "\n",
    "\n",
    "plt.title(\"Box plot of all columns in dataset\", fontsize=16)\n",
    "\n",
    "plt.show()"
   ]
  },
  {
   "cell_type": "markdown",
   "id": "db0b8df0",
   "metadata": {},
   "source": [
    "The ranges of numbers for each column seem to have largely vary between one another, so the dataset will most likely require to be scaled to be used for modeling."
   ]
  },
  {
   "cell_type": "markdown",
   "id": "79fb212a",
   "metadata": {},
   "source": [
    "## 5. Modeling"
   ]
  },
  {
   "cell_type": "markdown",
   "id": "20b2a6c9",
   "metadata": {},
   "source": [
    "Several preprocessing techniques were applied across these models:\n",
    "1. Data Categorization \n",
    "2. Handling of Missing Values \n",
    "3. One-hot encoding categorical variables \n",
    "4. Scaling"
   ]
  },
  {
   "cell_type": "markdown",
   "id": "e475480f",
   "metadata": {},
   "source": [
    "4 main models were explored:\n",
    "1. Logistic Regression\n",
    "2. k-Nearest Neighbor \n",
    "3. Decision Tree\n",
    "4. Random Forest \n",
    "\n"
   ]
  },
  {
   "cell_type": "markdown",
   "id": "00740474",
   "metadata": {},
   "source": [
    "Each models' parameters were tuned using the following approaches:\n",
    "1. SMOTE\n",
    "3. Stratified K-Fold \n",
    "4. Recursive Features Elimination \n",
    "5. Hyperparameter tuning:\n",
    "    * manual \n",
    "    * Combinatoric Grid Searching\n",
    "\n"
   ]
  },
  {
   "cell_type": "markdown",
   "id": "f1c8829f",
   "metadata": {},
   "source": [
    "### 5. a. Logistic Regression"
   ]
  },
  {
   "cell_type": "markdown",
   "id": "0713cc30",
   "metadata": {},
   "source": [
    "#### 5. a. 1. Performing a Train-Test Split"
   ]
  },
  {
   "cell_type": "code",
   "execution_count": 58,
   "id": "9b7a044c",
   "metadata": {},
   "outputs": [],
   "source": [
    "# Splitting df into X and y\n",
    "X = combined_df.drop('status_group', axis=1)\n",
    "y = combined_df['status_group']"
   ]
  },
  {
   "cell_type": "markdown",
   "id": "ceb3017f",
   "metadata": {},
   "source": [
    "The dataset is being divided into two separate subsets: a training set, and a testing (or validation) set. The validation set will allow to assess the performance of the model. \n",
    "\n",
    "Two parameters are assigned when dividing the dataset:\n",
    "* random_state=42 \n",
    "   - setting a random seed of 42 ensures that the data split is reproducible\n",
    "* stratify=y \n",
    "   - stratified sampling ensures the class distribution is maintained in both sets to address potential class imbalance issues"
   ]
  },
  {
   "cell_type": "code",
   "execution_count": 59,
   "id": "c33bc649",
   "metadata": {},
   "outputs": [],
   "source": [
    "# Performing train-test split with random_state=42 and stratify=y \n",
    "X_train, X_test, y_train, y_test = train_test_split(X, y, random_state=42, stratify=y)"
   ]
  },
  {
   "cell_type": "markdown",
   "id": "f908178b",
   "metadata": {},
   "source": [
    "Because stratify=y was applied, the percentages of non functional water wells in the train and test target should be similar. "
   ]
  },
  {
   "cell_type": "code",
   "execution_count": 60,
   "id": "47beeafb",
   "metadata": {},
   "outputs": [
    {
     "name": "stdout",
     "output_type": "stream",
     "text": [
      "Train percent of non functional wells: 0.45692480359147025\n",
      "Test percent of non functional wells: 0.4569023569023569\n"
     ]
    }
   ],
   "source": [
    "# Inspecting the percentages of non functional water wells in train and test targets: \n",
    "print(\"Train percent of non functional wells:\", y_train.value_counts(normalize=True)[1])\n",
    "print(\"Test percent of non functional wells:\", y_test.value_counts(normalize=True)[1])"
   ]
  },
  {
   "cell_type": "markdown",
   "id": "e8b72202",
   "metadata": {},
   "source": [
    "#### 5. a. 2. Building and Evaluating a Baseline Model"
   ]
  },
  {
   "cell_type": "markdown",
   "id": "8eb2580f",
   "metadata": {},
   "source": [
    "We will begin by building  a vanilla logistic regression model that did not go through hyperparameter tuning. The random_state will be set to 42 for reproducibility.\n",
    "\n",
    "We will then evaluate the model on our training data (X_train and y_train), using the metrics for that purpose: \n",
    "- cross_val_score: function producing an accuracy score for each data point in our dataset through cross-validation.  \n",
    "- log loss: measures how closely the model's predicted probabilities match the actual class labels. A lower log loss indicates better model predictions.\n",
    "\n",
    "When using cross_val_score, we need to utilize \"negative log loss\" due to the internal implementation requirements. Consequently, the code negates the result to ensure proper computation."
   ]
  },
  {
   "cell_type": "code",
   "execution_count": 61,
   "id": "d3af7512",
   "metadata": {},
   "outputs": [],
   "source": [
    "# Importing the relevant class and function\n",
    "from sklearn.linear_model import LogisticRegression\n",
    "from sklearn.model_selection import cross_val_score\n"
   ]
  },
  {
   "cell_type": "code",
   "execution_count": 62,
   "id": "83dda040",
   "metadata": {},
   "outputs": [],
   "source": [
    "# Instantiating a LogisticRegression with random_state=42 for reproducibility\n",
    "baseline_model = LogisticRegression(random_state=42)"
   ]
  },
  {
   "cell_type": "code",
   "execution_count": 63,
   "id": "e0effe51",
   "metadata": {},
   "outputs": [
    {
     "name": "stderr",
     "output_type": "stream",
     "text": [
      "C:\\Users\\albane.colmenares\\AppData\\Local\\anaconda3\\Lib\\site-packages\\sklearn\\linear_model\\_logistic.py:458: ConvergenceWarning: lbfgs failed to converge (status=1):\n",
      "STOP: TOTAL NO. of ITERATIONS REACHED LIMIT.\n",
      "\n",
      "Increase the number of iterations (max_iter) or scale the data as shown in:\n",
      "    https://scikit-learn.org/stable/modules/preprocessing.html\n",
      "Please also refer to the documentation for alternative solver options:\n",
      "    https://scikit-learn.org/stable/modules/linear_model.html#logistic-regression\n",
      "  n_iter_i = _check_optimize_result(\n",
      "C:\\Users\\albane.colmenares\\AppData\\Local\\anaconda3\\Lib\\site-packages\\sklearn\\linear_model\\_logistic.py:458: ConvergenceWarning: lbfgs failed to converge (status=1):\n",
      "STOP: TOTAL NO. of ITERATIONS REACHED LIMIT.\n",
      "\n",
      "Increase the number of iterations (max_iter) or scale the data as shown in:\n",
      "    https://scikit-learn.org/stable/modules/preprocessing.html\n",
      "Please also refer to the documentation for alternative solver options:\n",
      "    https://scikit-learn.org/stable/modules/linear_model.html#logistic-regression\n",
      "  n_iter_i = _check_optimize_result(\n",
      "C:\\Users\\albane.colmenares\\AppData\\Local\\anaconda3\\Lib\\site-packages\\sklearn\\linear_model\\_logistic.py:458: ConvergenceWarning: lbfgs failed to converge (status=1):\n",
      "STOP: TOTAL NO. of ITERATIONS REACHED LIMIT.\n",
      "\n",
      "Increase the number of iterations (max_iter) or scale the data as shown in:\n",
      "    https://scikit-learn.org/stable/modules/preprocessing.html\n",
      "Please also refer to the documentation for alternative solver options:\n",
      "    https://scikit-learn.org/stable/modules/linear_model.html#logistic-regression\n",
      "  n_iter_i = _check_optimize_result(\n",
      "C:\\Users\\albane.colmenares\\AppData\\Local\\anaconda3\\Lib\\site-packages\\sklearn\\linear_model\\_logistic.py:458: ConvergenceWarning: lbfgs failed to converge (status=1):\n",
      "STOP: TOTAL NO. of ITERATIONS REACHED LIMIT.\n",
      "\n",
      "Increase the number of iterations (max_iter) or scale the data as shown in:\n",
      "    https://scikit-learn.org/stable/modules/preprocessing.html\n",
      "Please also refer to the documentation for alternative solver options:\n",
      "    https://scikit-learn.org/stable/modules/linear_model.html#logistic-regression\n",
      "  n_iter_i = _check_optimize_result(\n",
      "C:\\Users\\albane.colmenares\\AppData\\Local\\anaconda3\\Lib\\site-packages\\sklearn\\linear_model\\_logistic.py:458: ConvergenceWarning: lbfgs failed to converge (status=1):\n",
      "STOP: TOTAL NO. of ITERATIONS REACHED LIMIT.\n",
      "\n",
      "Increase the number of iterations (max_iter) or scale the data as shown in:\n",
      "    https://scikit-learn.org/stable/modules/preprocessing.html\n",
      "Please also refer to the documentation for alternative solver options:\n",
      "    https://scikit-learn.org/stable/modules/linear_model.html#logistic-regression\n",
      "  n_iter_i = _check_optimize_result(\n"
     ]
    },
    {
     "data": {
      "text/plain": [
       "0.55603059022353"
      ]
     },
     "execution_count": 63,
     "metadata": {},
     "output_type": "execute_result"
    }
   ],
   "source": [
    "# Using cross_val_score with scoring=\"neg_log_loss\" to evaluate the model on X_train and y_train\n",
    "baseline_neg_log_loss_cv = cross_val_score(baseline_model, X_train, y_train, scoring=\"neg_log_loss\")\n",
    "\n",
    "baseline_neg_log_loss_cv = -(baseline_neg_log_loss_cv.mean())\n",
    "baseline_neg_log_loss_cv"
   ]
  },
  {
   "cell_type": "markdown",
   "id": "3955ec03",
   "metadata": {},
   "source": [
    "Log loss is not particularly interpretable - so in order to make more sense of it, the above number will be compared to log loss if we had a model that just chose the majority class: 0. "
   ]
  },
  {
   "cell_type": "code",
   "execution_count": 64,
   "id": "5c94a0e3",
   "metadata": {},
   "outputs": [
    {
     "data": {
      "text/plain": [
       "16.469239245541385"
      ]
     },
     "execution_count": 64,
     "metadata": {},
     "output_type": "execute_result"
    }
   ],
   "source": [
    "# Calculating log loss if we had a model that just chose the majority class: 0 every time \n",
    "\n",
    "from sklearn.metrics import log_loss\n",
    "log_loss(y_train, np.zeros(len(y_train)))"
   ]
  },
  {
   "cell_type": "markdown",
   "id": "dcdc7b98",
   "metadata": {},
   "source": [
    "Because loss is a metric where lower is better, our baseline model is an improvement (0.556) over simply guessing the majority class every time (16.469).\n",
    "\n",
    "The value 0.556 will be a useful baseline as we continue modeling to see if we are the predictions are actually improving or just getting slightly better performance by chance.  "
   ]
  },
  {
   "cell_type": "markdown",
   "id": "b4121c7f",
   "metadata": {},
   "source": [
    "#### 5. a. 3. Preprocessing Data Through Custom Cross Validation Function"
   ]
  },
  {
   "cell_type": "markdown",
   "id": "3ac75d8d",
   "metadata": {},
   "source": [
    "Preprocessing is an important step in data science pipeline because it transforms raw data into a suitable format for training models. It also contributes to improve model accuracy and performance by handling issues like missing values, removing unnecessary columns, scaling, and encoding categorical variables."
   ]
  },
  {
   "cell_type": "markdown",
   "id": "45e52441",
   "metadata": {},
   "source": [
    "* **Addressing class imbalance - part 2: sampling with SMOTE**"
   ]
  },
  {
   "cell_type": "markdown",
   "id": "0c5e4904",
   "metadata": {},
   "source": [
    "Because we are using preprocessing techniques that differ for train and validation data, we will need a custom function rather than simply preprocessing the entire X_train and using cross_val_score from scikit-learn. "
   ]
  },
  {
   "cell_type": "markdown",
   "id": "81e3cfec",
   "metadata": {},
   "source": [
    "Due to the presence of a class imbalance, it is advisable to incorporate a resampling technique, with SMOTE being the specific method of choice.<br>\n",
    "SMOTE stands for synthetic minority oversampling. It creates synthetic examples of the minority class to help train the model. "
   ]
  },
  {
   "cell_type": "markdown",
   "id": "167ebd87",
   "metadata": {},
   "source": [
    "* **Scaling data**"
   ]
  },
  {
   "cell_type": "markdown",
   "id": "5141c39e",
   "metadata": {},
   "source": [
    "Certain variables predominantly have small values: around 0 or 1, whereas others contain values in the thousands. This indicates the need to introduce scaling to standardize and normalize the units of the different columns. \n",
    "\n",
    "This is also what caused the ConvergenceWarning to be raised: it shows the logistic regression's gradient descent algorithm is struggling to find an optimal answer. <br>\n",
    "The StandardScaler method will be used for scaling the dataset's features (independent variables) that are on a different scale."
   ]
  },
  {
   "cell_type": "markdown",
   "id": "5e05e585",
   "metadata": {},
   "source": [
    "* **Addressing class imbalance - part 3: StratifiedKFold**"
   ]
  },
  {
   "cell_type": "markdown",
   "id": "35c3d602",
   "metadata": {},
   "source": [
    " Stratified K-Fold cross-validation is a technique that ensures that each fold of the data maintains the same class distribution as the whole dataset. This is particularly important when dealing with imbalanced datasets. Using StratifiedKFold allows to get a more robust estimate of the model's performance.\n",
    "\n",
    "While it does not show it on the above code, cross_val_score also uses `StratifiedKFold` for classification tasks. <br>\n",
    "`StratifiedKFold` gives the necessary information to make 5 separate train-test split wihtin `X_train`. Then, `cross_val_score` contains other steps to fit and evaluate the provided model. \n",
    "\n",
    "Below, we will break down the same code above, but now using `StratifiedKfold`."
   ]
  },
  {
   "cell_type": "code",
   "execution_count": 65,
   "id": "20e65813",
   "metadata": {},
   "outputs": [
    {
     "name": "stderr",
     "output_type": "stream",
     "text": [
      "C:\\Users\\albane.colmenares\\AppData\\Local\\anaconda3\\Lib\\site-packages\\sklearn\\linear_model\\_logistic.py:458: ConvergenceWarning: lbfgs failed to converge (status=1):\n",
      "STOP: TOTAL NO. of ITERATIONS REACHED LIMIT.\n",
      "\n",
      "Increase the number of iterations (max_iter) or scale the data as shown in:\n",
      "    https://scikit-learn.org/stable/modules/preprocessing.html\n",
      "Please also refer to the documentation for alternative solver options:\n",
      "    https://scikit-learn.org/stable/modules/linear_model.html#logistic-regression\n",
      "  n_iter_i = _check_optimize_result(\n",
      "C:\\Users\\albane.colmenares\\AppData\\Local\\anaconda3\\Lib\\site-packages\\sklearn\\linear_model\\_logistic.py:458: ConvergenceWarning: lbfgs failed to converge (status=1):\n",
      "STOP: TOTAL NO. of ITERATIONS REACHED LIMIT.\n",
      "\n",
      "Increase the number of iterations (max_iter) or scale the data as shown in:\n",
      "    https://scikit-learn.org/stable/modules/preprocessing.html\n",
      "Please also refer to the documentation for alternative solver options:\n",
      "    https://scikit-learn.org/stable/modules/linear_model.html#logistic-regression\n",
      "  n_iter_i = _check_optimize_result(\n",
      "C:\\Users\\albane.colmenares\\AppData\\Local\\anaconda3\\Lib\\site-packages\\sklearn\\linear_model\\_logistic.py:458: ConvergenceWarning: lbfgs failed to converge (status=1):\n",
      "STOP: TOTAL NO. of ITERATIONS REACHED LIMIT.\n",
      "\n",
      "Increase the number of iterations (max_iter) or scale the data as shown in:\n",
      "    https://scikit-learn.org/stable/modules/preprocessing.html\n",
      "Please also refer to the documentation for alternative solver options:\n",
      "    https://scikit-learn.org/stable/modules/linear_model.html#logistic-regression\n",
      "  n_iter_i = _check_optimize_result(\n",
      "C:\\Users\\albane.colmenares\\AppData\\Local\\anaconda3\\Lib\\site-packages\\sklearn\\linear_model\\_logistic.py:458: ConvergenceWarning: lbfgs failed to converge (status=1):\n",
      "STOP: TOTAL NO. of ITERATIONS REACHED LIMIT.\n",
      "\n",
      "Increase the number of iterations (max_iter) or scale the data as shown in:\n",
      "    https://scikit-learn.org/stable/modules/preprocessing.html\n",
      "Please also refer to the documentation for alternative solver options:\n",
      "    https://scikit-learn.org/stable/modules/linear_model.html#logistic-regression\n",
      "  n_iter_i = _check_optimize_result(\n",
      "C:\\Users\\albane.colmenares\\AppData\\Local\\anaconda3\\Lib\\site-packages\\sklearn\\linear_model\\_logistic.py:458: ConvergenceWarning: lbfgs failed to converge (status=1):\n",
      "STOP: TOTAL NO. of ITERATIONS REACHED LIMIT.\n",
      "\n",
      "Increase the number of iterations (max_iter) or scale the data as shown in:\n",
      "    https://scikit-learn.org/stable/modules/preprocessing.html\n",
      "Please also refer to the documentation for alternative solver options:\n",
      "    https://scikit-learn.org/stable/modules/linear_model.html#logistic-regression\n",
      "  n_iter_i = _check_optimize_result(\n"
     ]
    },
    {
     "data": {
      "text/plain": [
       "0.55603059022353"
      ]
     },
     "execution_count": 65,
     "metadata": {},
     "output_type": "execute_result"
    }
   ],
   "source": [
    "# Equivalent of the code above, using StratifiedKFold\n",
    "from sklearn.metrics import make_scorer\n",
    "from sklearn.model_selection import StratifiedKFold\n",
    "from sklearn.base import clone\n",
    "\n",
    "# Creating negative log loss as it doesn't exist as something that can be imported\n",
    "neg_log_loss = make_scorer(log_loss, greater_is_better=False, needs_proba=True)\n",
    "\n",
    "# Instantiating the model (with same parameters as code above)\n",
    "baseline_model = LogisticRegression(random_state=42)\n",
    "\n",
    "# Creating a list to hold the score from each fold\n",
    "kfold_scores = np.ndarray(5)\n",
    "\n",
    "# Instantiating a splitter object and looping over its result\n",
    "kfold = StratifiedKFold()\n",
    "for fold, (train_index, val_index) in enumerate(kfold.split(X_train, y_train)):\n",
    "    # Extracting train and validation subsets using the provided indices\n",
    "    X_t, X_val = X_train.iloc[train_index], X_train.iloc[val_index]\n",
    "    y_t, y_val = y_train.iloc[train_index], y_train.iloc[val_index]\n",
    "    \n",
    "    # Cloning the provided model and fit it on the train subset\n",
    "    temp_model = clone(baseline_model)\n",
    "    temp_model.fit(X_t, y_t)\n",
    "    \n",
    "    # Evaluating the provided model on the validation subset\n",
    "    neg_log_loss_score = neg_log_loss(temp_model, X_val, y_val)\n",
    "    kfold_scores[fold] = neg_log_loss_score\n",
    "    \n",
    "-(kfold_scores.mean())"
   ]
  },
  {
   "cell_type": "markdown",
   "id": "0fdb2b5d",
   "metadata": {},
   "source": [
    "The log loss result is the same as the baseline log loss initially recorded, since the code essentially does the same as above. "
   ]
  },
  {
   "cell_type": "markdown",
   "id": "6514c8a3",
   "metadata": {},
   "source": [
    "Now we can tune parameters in order to address the class imbalance.\n",
    "\n",
    "By setting sampling_strategy=0.85, SMOTE will generate synthetic samples for the minority class to make it larger. It will aim to create enough synthetic samples so that the minority class (non-functional) has 85% as many samples as the majority class."
   ]
  },
  {
   "cell_type": "code",
   "execution_count": 66,
   "id": "f2478f9c",
   "metadata": {},
   "outputs": [
    {
     "data": {
      "text/plain": [
       "0.5439387616706302"
      ]
     },
     "execution_count": 66,
     "metadata": {},
     "output_type": "execute_result"
    }
   ],
   "source": [
    "# Importing relevant sklearn and imblearn classes\n",
    "from sklearn.preprocessing import StandardScaler\n",
    "from imblearn.over_sampling import SMOTE\n",
    "\n",
    "def custom_cross_val_score(estimator, X, y):\n",
    "    # Creating a list to hold the scores from each fold\n",
    "    kfold_train_scores = np.ndarray(5)\n",
    "    kfold_val_scores = np.ndarray(5)\n",
    "\n",
    "    # Instantiating a splitter object and loop over its result\n",
    "    kfold = StratifiedKFold(n_splits=5)\n",
    "    for fold, (train_index, val_index) in enumerate(kfold.split(X, y)):\n",
    "        # Extracting train and validation subsets using the provided indices\n",
    "        X_t, X_val = X.iloc[train_index], X.iloc[val_index]\n",
    "        y_t, y_val = y.iloc[train_index], y.iloc[val_index]\n",
    "        \n",
    "        # Instantiating StandardScaler\n",
    "        scaler = StandardScaler()\n",
    "        # Fitting and transforming X_t\n",
    "        X_t_scaled = scaler.fit_transform(X_t)\n",
    "        # Transforming X_val\n",
    "        X_val_scaled = scaler.transform(X_val)\n",
    "        \n",
    "        # Instantiating SMOTE with random_state=42 and sampling_strategy=0.85\n",
    "        sm = SMOTE(random_state=42, sampling_strategy=0.85)\n",
    "        # Fitting and transforming X_t_scaled and y_t using sm\n",
    "        X_t_oversampled, y_t_oversampled = sm.fit_resample(X_t_scaled, y_t)\n",
    "        \n",
    "        # Cloning the provided model and fitting it on the train subset\n",
    "        temp_model = clone(estimator)\n",
    "        temp_model.fit(X_t_oversampled, y_t_oversampled)\n",
    "        \n",
    "        # Evaluating the provided model on the train and validation subsets\n",
    "        neg_log_loss_score_train = neg_log_loss(temp_model, X_t_oversampled, y_t_oversampled)\n",
    "        neg_log_loss_score_val = neg_log_loss(temp_model, X_val_scaled, y_val)\n",
    "        kfold_train_scores[fold] = neg_log_loss_score_train\n",
    "        kfold_val_scores[fold] = neg_log_loss_score_val\n",
    "        \n",
    "    return kfold_train_scores, kfold_val_scores\n",
    "\n",
    "# Running LogisticRegression with the parameters class_weight={1: 0.85} which align with the weighting created by our SMOTE process\n",
    "model_with_preprocessing = LogisticRegression(random_state=42, class_weight={1: 0.85})\n",
    "\n",
    "\n",
    "preprocessed_train_scores, preprocessed_neg_log_loss_cv = custom_cross_val_score(model_with_preprocessing, X_train, y_train)\n",
    "- (preprocessed_neg_log_loss_cv.mean())\n"
   ]
  },
  {
   "cell_type": "markdown",
   "id": "df34ccde",
   "metadata": {},
   "source": [
    "This improvement is likely due to The combination of better cross-validation, feature scaling, and addressing class imbalance using SMOTE resulted in a lower negative log loss - in other words: a better model performance."
   ]
  },
  {
   "cell_type": "markdown",
   "id": "4f32e56c",
   "metadata": {},
   "source": [
    "#### 5. a. 4. Building and Evaluating Additional Logistic Regression Models"
   ]
  },
  {
   "cell_type": "markdown",
   "id": "683ae8bf",
   "metadata": {},
   "source": [
    "Using the function created in the previous step, we will build multiple logistic regression models with different hyperparameters in order to minimize log loss."
   ]
  },
  {
   "cell_type": "markdown",
   "id": "f583798a",
   "metadata": {},
   "source": [
    "We also want to verify whether our model is overfitting: have we over-trained on the training data and the model cannot perform well on the test data?\n",
    "We will then examine and compare the training and validation scores from our existing modeling process."
   ]
  },
  {
   "cell_type": "code",
   "execution_count": 67,
   "id": "b3119420",
   "metadata": {},
   "outputs": [
    {
     "name": "stdout",
     "output_type": "stream",
     "text": [
      "Train:      [0.54347459 0.54319387 0.54293029 0.54317623 0.54202016]\n",
      "Validation: [0.54269265 0.54391826 0.54369858 0.54329728 0.54608704]\n"
     ]
    }
   ],
   "source": [
    "# Comparing scores between train and test data\n",
    "print(\"Train:     \", -preprocessed_train_scores)\n",
    "print(\"Validation:\", -preprocessed_neg_log_loss_cv)"
   ]
  },
  {
   "cell_type": "markdown",
   "id": "c563cf66",
   "metadata": {},
   "source": [
    "It does not seem like we are overfitting. If we were, the scores on training data would be significantly better than those on the validation data, despite SMOTE limiting comparing these numbers directly."
   ]
  },
  {
   "cell_type": "markdown",
   "id": "07a8962e",
   "metadata": {},
   "source": [
    "#### Verifying if under-fitting"
   ]
  },
  {
   "cell_type": "markdown",
   "id": "d94c1c21",
   "metadata": {},
   "source": [
    "We could be underfitting due to a too high regularization. We will then verify the regularization used by default. "
   ]
  },
  {
   "cell_type": "code",
   "execution_count": 68,
   "id": "7327c727",
   "metadata": {},
   "outputs": [
    {
     "data": {
      "text/plain": [
       "{'C': 1.0,\n",
       " 'class_weight': {1: 0.85},\n",
       " 'dual': False,\n",
       " 'fit_intercept': True,\n",
       " 'intercept_scaling': 1,\n",
       " 'l1_ratio': None,\n",
       " 'max_iter': 100,\n",
       " 'multi_class': 'auto',\n",
       " 'n_jobs': None,\n",
       " 'penalty': 'l2',\n",
       " 'random_state': 42,\n",
       " 'solver': 'lbfgs',\n",
       " 'tol': 0.0001,\n",
       " 'verbose': 0,\n",
       " 'warm_start': False}"
      ]
     },
     "execution_count": 68,
     "metadata": {},
     "output_type": "execute_result"
    }
   ],
   "source": [
    "# Verifying the regularization used by default by our LogisticRegression model. \n",
    "model_with_preprocessing.get_params()"
   ]
  },
  {
   "cell_type": "markdown",
   "id": "9292325c",
   "metadata": {},
   "source": [
    "That first key-value pair, 'C': 1.0, specifies the regularization strength. <br>C is defined as the inverse of regularization strength and must be a positive float. Smaller values indicate stronger regularization. "
   ]
  },
  {
   "cell_type": "markdown",
   "id": "4d9096fc",
   "metadata": {},
   "source": [
    "#### Reducing Regularization"
   ]
  },
  {
   "cell_type": "markdown",
   "id": "5412b9a1",
   "metadata": {},
   "source": [
    "We will then instantiate a LogisticRegression model with the same hyperparameters as above, but with a lower regularization, so a higher `C`, before evaluating its performance."
   ]
  },
  {
   "cell_type": "code",
   "execution_count": 69,
   "id": "763102ee",
   "metadata": {},
   "outputs": [],
   "source": [
    "# Instantiating a model with lower regularization\n",
    "model_less_regularization = LogisticRegression(\n",
    "    random_state=42,\n",
    "    class_weight={1: 0.85},\n",
    "    C=1e5\n",
    ")"
   ]
  },
  {
   "cell_type": "code",
   "execution_count": 70,
   "id": "1c53ad94",
   "metadata": {},
   "outputs": [
    {
     "name": "stdout",
     "output_type": "stream",
     "text": [
      "Previous Model\n",
      "Train average:      0.5429590287181459\n",
      "Validation average: 0.5439387616706302\n",
      "Current Model\n",
      "Train average:      0.54295926022202\n",
      "Validation average: 0.5439400837684263\n"
     ]
    }
   ],
   "source": [
    "# Evaluating that model using custom_cross_val_score\n",
    "less_regularization_train_scores, less_regularization_val_scores = custom_cross_val_score(\n",
    "    model_less_regularization,\n",
    "    X_train,\n",
    "    y_train\n",
    ")\n",
    "\n",
    "\n",
    "print(\"Previous Model\")\n",
    "print(\"Train average:     \", -preprocessed_train_scores.mean())\n",
    "print(\"Validation average:\", -preprocessed_neg_log_loss_cv.mean())\n",
    "print(\"Current Model\")\n",
    "print(\"Train average:     \", -less_regularization_train_scores.mean())\n",
    "print(\"Validation average:\", -less_regularization_val_scores.mean())"
   ]
  },
  {
   "cell_type": "markdown",
   "id": "e7da7e0b",
   "metadata": {},
   "source": [
    "By reducing regularization, the results worsen slightly, both on the training set and the validation set. "
   ]
  },
  {
   "cell_type": "markdown",
   "id": "0531f00b",
   "metadata": {},
   "source": [
    "#### Alternative Solver"
   ]
  },
  {
   "cell_type": "markdown",
   "id": "05ae0a81",
   "metadata": {},
   "source": [
    "We will try using an alternative solver and type of regularization penalty to improve the model. We were currently using the default solver and type of regularization penalty:"
   ]
  },
  {
   "cell_type": "code",
   "execution_count": 71,
   "id": "817abf5d",
   "metadata": {},
   "outputs": [
    {
     "name": "stdout",
     "output_type": "stream",
     "text": [
      "solver: lbfgs\n",
      "penalty: l2\n"
     ]
    }
   ],
   "source": [
    "# Printing the current params used \n",
    "print(\"solver:\", model_less_regularization.get_params()[\"solver\"])\n",
    "print(\"penalty:\", model_less_regularization.get_params()[\"penalty\"])"
   ]
  },
  {
   "cell_type": "markdown",
   "id": "3e2f07f2",
   "metadata": {},
   "source": [
    "The `saga` penalty will be used, due to the size of our dataset. <br>\n",
    "We will then create a model that uses solver=\"saga\" and penalty=\"elasticnet\". We will then use the l1_ratio argument to specify the mixing of L1 and L2 regularization. We will specify this, by assigning a value between zero, to not use only L2 regularization - and less than one, to not use only L1 regularization."
   ]
  },
  {
   "cell_type": "code",
   "execution_count": 72,
   "id": "00558f32",
   "metadata": {},
   "outputs": [
    {
     "name": "stderr",
     "output_type": "stream",
     "text": [
      "C:\\Users\\albane.colmenares\\AppData\\Local\\anaconda3\\Lib\\site-packages\\sklearn\\linear_model\\_sag.py:350: ConvergenceWarning: The max_iter was reached which means the coef_ did not converge\n",
      "  warnings.warn(\n"
     ]
    },
    {
     "name": "stdout",
     "output_type": "stream",
     "text": [
      "Previous Model (Less Regularization)\n",
      "Train average:      0.54295926022202\n",
      "Validation average: 0.5439400837684263\n",
      "Current Model\n",
      "Train average:      0.5429589447903653\n",
      "Validation average: 0.5439392247714141\n"
     ]
    }
   ],
   "source": [
    "# Trying an alternative solver\n",
    "model_alternative_solver = LogisticRegression(\n",
    "    random_state=42,\n",
    "    class_weight={1: 0.85},\n",
    "    C=1e5,\n",
    "    solver=\"saga\",\n",
    "    penalty=\"elasticnet\",\n",
    "    l1_ratio=0.5\n",
    ")\n",
    "\n",
    "# Evaluating its performance\n",
    "alternative_solver_train_scores, alternative_solver_val_scores = custom_cross_val_score(\n",
    "    model_alternative_solver,\n",
    "    X_train,\n",
    "    y_train\n",
    ")\n",
    "\n",
    "print(\"Previous Model (Less Regularization)\")\n",
    "print(\"Train average:     \", -less_regularization_train_scores.mean())\n",
    "print(\"Validation average:\", -less_regularization_val_scores.mean())\n",
    "print(\"Current Model\")\n",
    "print(\"Train average:     \", -alternative_solver_train_scores.mean())\n",
    "print(\"Validation average:\", -alternative_solver_val_scores.mean())"
   ]
  },
  {
   "cell_type": "markdown",
   "id": "a2bc4679",
   "metadata": {},
   "source": [
    "Results are now better: \n",
    "\n",
    "Log loss now shows improvement compared to the previous model. However, despite better log loss results, the model is producing a ConvergenceWarning again.\n",
    "The tolerance `tol` specifies how close to zero the gradient must be in order to stop taking additional steps. It's possible that your model is finding a gradient that is close enough to zero, but slightly above the default tolerance, if everything otherwise looks good."
   ]
  },
  {
   "cell_type": "code",
   "execution_count": 73,
   "id": "c3a74880",
   "metadata": {},
   "outputs": [
    {
     "name": "stdout",
     "output_type": "stream",
     "text": [
      "Previous Model (Less Regularization)\n",
      "Train average:      0.54295926022202\n",
      "Validation average: 0.5439400837684263\n",
      "Current Model\n",
      "Train average:      0.5429587898155301\n",
      "Validation average: 0.5439388664468353\n"
     ]
    }
   ],
   "source": [
    "# Adding the tolerance parameter\n",
    "model_alternative_solver = LogisticRegression(\n",
    "    random_state=42,\n",
    "    class_weight={1: 0.85},\n",
    "    C=1e5,\n",
    "    solver=\"saga\",\n",
    "    penalty=\"elasticnet\",\n",
    "    l1_ratio=0.5,\n",
    "    tol=0.0002\n",
    "    \n",
    ")\n",
    "\n",
    "# Evaluating its performance\n",
    "alternative_solver_train_scores, alternative_solver_val_scores = custom_cross_val_score(\n",
    "    model_alternative_solver,\n",
    "    X_train,\n",
    "    y_train\n",
    ")\n",
    "\n",
    "print(\"Previous Model (Less Regularization)\")\n",
    "print(\"Train average:     \", -less_regularization_train_scores.mean())\n",
    "print(\"Validation average:\", -less_regularization_val_scores.mean())\n",
    "print(\"Current Model\")\n",
    "print(\"Train average:     \", -alternative_solver_train_scores.mean())\n",
    "print(\"Validation average:\", -alternative_solver_val_scores.mean())"
   ]
  },
  {
   "cell_type": "markdown",
   "id": "73b1f34a",
   "metadata": {},
   "source": [
    "Preprocess the full training set and test set appropriately, then evaluate the final model with various classification metrics in addition to log loss. "
   ]
  },
  {
   "cell_type": "code",
   "execution_count": 74,
   "id": "d0dcf080",
   "metadata": {},
   "outputs": [],
   "source": [
    "final_model = model_with_preprocessing"
   ]
  },
  {
   "cell_type": "markdown",
   "id": "0a8aaff9",
   "metadata": {},
   "source": [
    "In order to evaluate the final model, we will preprocess both the complete training and test data, train the model on the full training data, and then evaluate it on the full validation dataset. Log loss will still be used as the initial evaluation metric. "
   ]
  },
  {
   "cell_type": "markdown",
   "id": "605a9c7b",
   "metadata": {},
   "source": [
    "####  Preprocessing the Full Dataset"
   ]
  },
  {
   "cell_type": "code",
   "execution_count": 75,
   "id": "c5e6d55b",
   "metadata": {},
   "outputs": [],
   "source": [
    "# Instantiate StandardScaler\n",
    "scaler = StandardScaler()\n",
    "# Fitting and transforming X_train\n",
    "X_train_scaled = scaler.fit_transform(X_train)\n",
    "X_test_scaled = scaler.fit(X_test)\n",
    "\n",
    "# Converting into a DataFrame\n",
    "scaled_df_train = pd.DataFrame(X_train_scaled, columns=X.columns)\n",
    "scaled_df_train.head()\n",
    "\n",
    "\n",
    "# Transforming X_test\n",
    "X_test_scaled = scaler.transform(X_test)\n",
    "\n",
    "# Instantiating SMOTE with random_state=42 and sampling_strategy=0.85\n",
    "sm = SMOTE(random_state=42, sampling_strategy=0.85)\n",
    "\n",
    "# Fitting and transforming X_train_scaled and y_train using sm\n",
    "X_train_oversampled, y_train_oversampled =  sm.fit_resample(X_train_scaled, y_train)"
   ]
  },
  {
   "cell_type": "code",
   "execution_count": 76,
   "id": "0059bd38",
   "metadata": {},
   "outputs": [
    {
     "data": {
      "text/html": [
       "<style>#sk-container-id-1 {color: black;background-color: white;}#sk-container-id-1 pre{padding: 0;}#sk-container-id-1 div.sk-toggleable {background-color: white;}#sk-container-id-1 label.sk-toggleable__label {cursor: pointer;display: block;width: 100%;margin-bottom: 0;padding: 0.3em;box-sizing: border-box;text-align: center;}#sk-container-id-1 label.sk-toggleable__label-arrow:before {content: \"▸\";float: left;margin-right: 0.25em;color: #696969;}#sk-container-id-1 label.sk-toggleable__label-arrow:hover:before {color: black;}#sk-container-id-1 div.sk-estimator:hover label.sk-toggleable__label-arrow:before {color: black;}#sk-container-id-1 div.sk-toggleable__content {max-height: 0;max-width: 0;overflow: hidden;text-align: left;background-color: #f0f8ff;}#sk-container-id-1 div.sk-toggleable__content pre {margin: 0.2em;color: black;border-radius: 0.25em;background-color: #f0f8ff;}#sk-container-id-1 input.sk-toggleable__control:checked~div.sk-toggleable__content {max-height: 200px;max-width: 100%;overflow: auto;}#sk-container-id-1 input.sk-toggleable__control:checked~label.sk-toggleable__label-arrow:before {content: \"▾\";}#sk-container-id-1 div.sk-estimator input.sk-toggleable__control:checked~label.sk-toggleable__label {background-color: #d4ebff;}#sk-container-id-1 div.sk-label input.sk-toggleable__control:checked~label.sk-toggleable__label {background-color: #d4ebff;}#sk-container-id-1 input.sk-hidden--visually {border: 0;clip: rect(1px 1px 1px 1px);clip: rect(1px, 1px, 1px, 1px);height: 1px;margin: -1px;overflow: hidden;padding: 0;position: absolute;width: 1px;}#sk-container-id-1 div.sk-estimator {font-family: monospace;background-color: #f0f8ff;border: 1px dotted black;border-radius: 0.25em;box-sizing: border-box;margin-bottom: 0.5em;}#sk-container-id-1 div.sk-estimator:hover {background-color: #d4ebff;}#sk-container-id-1 div.sk-parallel-item::after {content: \"\";width: 100%;border-bottom: 1px solid gray;flex-grow: 1;}#sk-container-id-1 div.sk-label:hover label.sk-toggleable__label {background-color: #d4ebff;}#sk-container-id-1 div.sk-serial::before {content: \"\";position: absolute;border-left: 1px solid gray;box-sizing: border-box;top: 0;bottom: 0;left: 50%;z-index: 0;}#sk-container-id-1 div.sk-serial {display: flex;flex-direction: column;align-items: center;background-color: white;padding-right: 0.2em;padding-left: 0.2em;position: relative;}#sk-container-id-1 div.sk-item {position: relative;z-index: 1;}#sk-container-id-1 div.sk-parallel {display: flex;align-items: stretch;justify-content: center;background-color: white;position: relative;}#sk-container-id-1 div.sk-item::before, #sk-container-id-1 div.sk-parallel-item::before {content: \"\";position: absolute;border-left: 1px solid gray;box-sizing: border-box;top: 0;bottom: 0;left: 50%;z-index: -1;}#sk-container-id-1 div.sk-parallel-item {display: flex;flex-direction: column;z-index: 1;position: relative;background-color: white;}#sk-container-id-1 div.sk-parallel-item:first-child::after {align-self: flex-end;width: 50%;}#sk-container-id-1 div.sk-parallel-item:last-child::after {align-self: flex-start;width: 50%;}#sk-container-id-1 div.sk-parallel-item:only-child::after {width: 0;}#sk-container-id-1 div.sk-dashed-wrapped {border: 1px dashed gray;margin: 0 0.4em 0.5em 0.4em;box-sizing: border-box;padding-bottom: 0.4em;background-color: white;}#sk-container-id-1 div.sk-label label {font-family: monospace;font-weight: bold;display: inline-block;line-height: 1.2em;}#sk-container-id-1 div.sk-label-container {text-align: center;}#sk-container-id-1 div.sk-container {/* jupyter's `normalize.less` sets `[hidden] { display: none; }` but bootstrap.min.css set `[hidden] { display: none !important; }` so we also need the `!important` here to be able to override the default hidden behavior on the sphinx rendered scikit-learn.org. See: https://github.com/scikit-learn/scikit-learn/issues/21755 */display: inline-block !important;position: relative;}#sk-container-id-1 div.sk-text-repr-fallback {display: none;}</style><div id=\"sk-container-id-1\" class=\"sk-top-container\"><div class=\"sk-text-repr-fallback\"><pre>LogisticRegression(class_weight={1: 0.85}, random_state=42)</pre><b>In a Jupyter environment, please rerun this cell to show the HTML representation or trust the notebook. <br />On GitHub, the HTML representation is unable to render, please try loading this page with nbviewer.org.</b></div><div class=\"sk-container\" hidden><div class=\"sk-item\"><div class=\"sk-estimator sk-toggleable\"><input class=\"sk-toggleable__control sk-hidden--visually\" id=\"sk-estimator-id-1\" type=\"checkbox\" checked><label for=\"sk-estimator-id-1\" class=\"sk-toggleable__label sk-toggleable__label-arrow\">LogisticRegression</label><div class=\"sk-toggleable__content\"><pre>LogisticRegression(class_weight={1: 0.85}, random_state=42)</pre></div></div></div></div></div>"
      ],
      "text/plain": [
       "LogisticRegression(class_weight={1: 0.85}, random_state=42)"
      ]
     },
     "execution_count": 76,
     "metadata": {},
     "output_type": "execute_result"
    }
   ],
   "source": [
    "# Fitting the final model \n",
    "final_model.fit(X_train_oversampled, y_train_oversampled)"
   ]
  },
  {
   "cell_type": "markdown",
   "id": "51aa4bc8",
   "metadata": {},
   "source": [
    "####  Evaluating the Model on the Test Data\n",
    "\n",
    "Evaluating the model on the test dataset is essential to assess its performance on unseen data, and ensure it is not overfitting (if it learned so much on training data that it does not know to predict new data). \n",
    "To do this, 3 main score metrics will be used across this notebook: \n",
    "\n",
    "1. **Recall**\n",
    "2. **Log loss**\n",
    "3. **Accuracy**\n"
   ]
  },
  {
   "cell_type": "code",
   "execution_count": 77,
   "id": "701e1c94",
   "metadata": {
    "scrolled": false
   },
   "outputs": [
    {
     "name": "stdout",
     "output_type": "stream",
     "text": [
      "Evaluation scores for Logistic Regression - Preprocessed Model \n",
      "Log Loss: 0.5437687306560569\n",
      "Recall Score: 0.48312453942520267\n",
      "Accuracy Score: 0.712996632996633\n"
     ]
    }
   ],
   "source": [
    "# Relevant imports\n",
    "from sklearn.metrics import log_loss, accuracy_score, recall_score\n",
    "\n",
    "# Defining a function eval_scores to calculate and print score metrics for each model\n",
    "\n",
    "def eval_scores(model_name, model, X, y):\n",
    "    y_pred = model.predict(X)  # Predict the labels\n",
    "    y_pred_proba = model.predict_proba(X)  # Predict the probabilities\n",
    "    \n",
    "    log_loss_value = log_loss(y, y_pred_proba)\n",
    "    recall_value = recall_score(y, y_pred)\n",
    "    accuracy_value = accuracy_score(y, y_pred)\n",
    "    \n",
    "    \n",
    "    print(\"Evaluation scores for {} \".format(model_name))\n",
    "    \n",
    "    print(\"Log Loss: {}\".format(log_loss_value))\n",
    "    print(\"Recall Score: {}\".format(recall_value))\n",
    "    print(\"Accuracy Score: {}\".format(accuracy_value))\n",
    "    \n",
    "    return log_loss_value, recall_value, accuracy_value \n",
    "    \n",
    "model_name = 'Logistic Regression - Preprocessed Model'\n",
    "\n",
    "# Calling the function and recording into the defined values\n",
    "log_loss_reg, recall_reg, accuracy_reg = eval_scores(model_name, final_model, X_test_scaled, y_test)"
   ]
  },
  {
   "cell_type": "markdown",
   "id": "7f1868cb",
   "metadata": {},
   "source": [
    "This model has improved log loss compared to our initial baseline model which was about 0.555189.\n",
    "\n",
    "The model performance is slightly better when training on the full training set - which is rather typical, since models' performance improve, as data increases."
   ]
  },
  {
   "cell_type": "markdown",
   "id": "24985d0f",
   "metadata": {},
   "source": [
    "#### Accuracy\n",
    "The model has an accuracy of 0.71299 - which means it correctly identifies the deficiency of a water well about 71.2% of the time, whereas always guessing that a well is non functional would only be accurate about 45.7% of the time.\n",
    "\n",
    "#### Recall\n",
    "\n",
    "Due to the data's context, **recall**  is the important metric to report, as false negatives are a bigger problem: if a well is labeled as functional (0) when it really is non-functional (1) - in which case, it would be a false negative, the consequences would be dramatic: populations' health could be negatively impacted if they were to drink this well's water.\n",
    "\n",
    "With a recall of about 0.48312, there is about 48.02% that our model will correctly label a well as class 1: on functional. And about 51.98% chance our model will incorrectly label it as class 0 - functional. "
   ]
  },
  {
   "cell_type": "markdown",
   "id": "8fbba432",
   "metadata": {},
   "source": [
    "#### 5. a. 5. Recursive Feature Elimination"
   ]
  },
  {
   "cell_type": "markdown",
   "id": "a9185cd7",
   "metadata": {},
   "source": [
    "Now that we have a baseline model with a certain accuracy, let's see if we can improve its scores by diminishing the number of features. "
   ]
  },
  {
   "cell_type": "code",
   "execution_count": 78,
   "id": "2754f1ef",
   "metadata": {},
   "outputs": [],
   "source": [
    "# Importing the necessary library\n",
    "from sklearn.feature_selection import RFE"
   ]
  },
  {
   "cell_type": "code",
   "execution_count": 79,
   "id": "d74ba743",
   "metadata": {},
   "outputs": [],
   "source": [
    "# We will use the scaled data "
   ]
  },
  {
   "cell_type": "code",
   "execution_count": 80,
   "id": "1c0e8755",
   "metadata": {
    "scrolled": false
   },
   "outputs": [
    {
     "name": "stdout",
     "output_type": "stream",
     "text": [
      "Number of features: 5\n",
      "Log Loss: 0.5760099930466043\n",
      "Recall Score: 0.3663964627855564\n",
      "Accuracy Score: 0.691986531986532\n",
      "\n",
      "\n",
      "Number of features: 10\n",
      "Log Loss: 0.5614962020811218\n",
      "Recall Score: 0.44097273397199704\n",
      "Accuracy Score: 0.6987878787878787\n",
      "\n",
      "\n",
      "Number of features: 15\n",
      "Log Loss: 0.5529510510120974\n",
      "Recall Score: 0.4546794399410464\n",
      "Accuracy Score: 0.7088215488215488\n",
      "\n",
      "\n",
      "Number of features: 20\n",
      "Log Loss: 0.547401572047656\n",
      "Recall Score: 0.46543846720707444\n",
      "Accuracy Score: 0.7111111111111111\n",
      "\n",
      "\n",
      "Number of features: 25\n",
      "Log Loss: 0.5455984589040641\n",
      "Recall Score: 0.4810611643330877\n",
      "Accuracy Score: 0.7117171717171717\n",
      "\n",
      "\n",
      "Number of features: 30\n",
      "Log Loss: 0.5449018185834009\n",
      "Recall Score: 0.48179808400884305\n",
      "Accuracy Score: 0.7090909090909091\n",
      "\n",
      "\n",
      "Number of features: 35\n",
      "Log Loss: 0.5441150910932093\n",
      "Recall Score: 0.479587324981577\n",
      "Accuracy Score: 0.7103030303030303\n",
      "\n",
      "\n",
      "Number of features: 40\n",
      "Log Loss: 0.5437092711172613\n",
      "Recall Score: 0.48518791451731763\n",
      "Accuracy Score: 0.7141414141414142\n",
      "\n",
      "\n",
      "Number of features: 45\n",
      "Log Loss: 0.5437699554671055\n",
      "Recall Score: 0.4866617538688283\n",
      "Accuracy Score: 0.7140740740740741\n",
      "\n",
      "\n",
      "Number of features: 50\n",
      "Log Loss: 0.543764968761251\n",
      "Recall Score: 0.4829771554900516\n",
      "Accuracy Score: 0.712929292929293\n",
      "\n",
      "\n",
      "Number of features: 53\n",
      "Log Loss: 0.5437687306560569\n",
      "Recall Score: 0.48312453942520267\n",
      "Accuracy Score: 0.712996632996633\n",
      "\n",
      "\n"
     ]
    }
   ],
   "source": [
    "# Running RFE to understand best scores by number of features \n",
    "# between 5 and 50, by increments of 5 \n",
    "\n",
    "log_loss_scores = []\n",
    "accuracy_scores = []\n",
    "recall_scores = []\n",
    "\n",
    "for n in range(5, 51, 5):\n",
    "    # Instantiating the RFE object with our final model - and trying with 5 features\n",
    "    rfe = RFE(estimator=final_model, n_features_to_select=n)\n",
    "\n",
    "    # Fitting the RFE object to the training data \n",
    "    rfe.fit(X_train_oversampled, y_train_oversampled)\n",
    "\n",
    "    # Accessing the ranking of features\n",
    "    feature_ranking = rfe.ranking_\n",
    "    feature_support = rfe.support_ \n",
    "\n",
    "    # Using the top selected features \n",
    "    selected_features = X_train_oversampled[:, feature_support]\n",
    "\n",
    "    # Fitting the final Logistic Regression model using the selected features \n",
    "    final_model.fit(selected_features, y_train_oversampled)\n",
    "\n",
    "    # Using the top selected features on validation data\n",
    "    selected_X_test_scaled = X_test_scaled[:, feature_support]\n",
    "    \n",
    "    # Evaluating final_model with log loss\n",
    "    log_loss_reg_selected = log_loss(y_test, final_model.predict_proba(selected_X_test_scaled))\n",
    "    accuracy_reg_selected = accuracy_score(y_test, final_model.predict(selected_X_test_scaled))\n",
    "    recall_reg_selected = recall_score(y_test, final_model.predict(selected_X_test_scaled))\n",
    "    \n",
    "    # Recording each score into their variable\n",
    "    log_loss_scores.append(log_loss_reg_selected)\n",
    "    accuracy_scores.append(accuracy_reg_selected)\n",
    "    recall_scores.append(recall_reg_selected)\n",
    "    \n",
    "    # Printing evaluation scores\n",
    "    \n",
    "    print(\"Number of features: {}\".format(n))\n",
    "    print(\"Log Loss: {}\".format(log_loss_reg_selected))\n",
    "    print(\"Recall Score: {}\".format(recall_reg_selected))\n",
    "    print(\"Accuracy Score: {}\".format(accuracy_reg_selected))\n",
    "    print()\n",
    "    print()\n",
    "\n",
    "    \n",
    "# Adding final model's records\n",
    "log_loss_scores.append(log_loss_reg)\n",
    "recall_scores.append(recall_reg)\n",
    "accuracy_scores.append(accuracy_reg)\n",
    "    \n",
    "    \n",
    "# Printing final model scores: with 53 features\n",
    "    \n",
    "print(\"Number of features: 53\")\n",
    "print(\"Log Loss: {}\".format(log_loss_reg))\n",
    "print(\"Recall Score: {}\".format(recall_reg))\n",
    "print(\"Accuracy Score: {}\".format(accuracy_reg))\n",
    "print()\n",
    "print()"
   ]
  },
  {
   "cell_type": "markdown",
   "id": "e95688ff",
   "metadata": {},
   "source": [
    "Now, we have run and evaluated the models with all features. We will now determine the ones that recorded the top values. "
   ]
  },
  {
   "cell_type": "code",
   "execution_count": 81,
   "id": "6b567a5c",
   "metadata": {},
   "outputs": [],
   "source": [
    "# Making copies of scores to retrieve their best values \n",
    "log_loss_scores_list = log_loss_scores.copy() \n",
    "accuracy_scores_list = accuracy_scores.copy()\n",
    "recall_scores_list = recall_scores.copy()"
   ]
  },
  {
   "cell_type": "code",
   "execution_count": 82,
   "id": "8b20e559",
   "metadata": {},
   "outputs": [
    {
     "name": "stdout",
     "output_type": "stream",
     "text": [
      "Maximum value recall: 0.4866617538688283\n",
      "Index of maximum value recall: 8\n"
     ]
    }
   ],
   "source": [
    "# Findig the maximum value and its index\n",
    "max_value_rec = max(recall_scores_list)\n",
    "max_index_rec = recall_scores_list.index(max_value_rec)\n",
    "\n",
    "print(\"Maximum value recall:\", max_value_rec)\n",
    "print(\"Index of maximum value recall:\", max_index_rec)"
   ]
  },
  {
   "cell_type": "code",
   "execution_count": 83,
   "id": "0b21ab84",
   "metadata": {},
   "outputs": [
    {
     "name": "stdout",
     "output_type": "stream",
     "text": [
      "Minimum log loss: 0.5437092711172613\n",
      "Index of minimum log loss: 7\n",
      "Index of second minimum log loss: 8\n"
     ]
    }
   ],
   "source": [
    "# Find the maximum value and its index\n",
    "min_value = min(log_loss_scores_list)\n",
    "min_index = log_loss_scores_list.index(min_value)\n",
    "# Remove the minimum value to verify the second minimum value \n",
    "log_loss_scores_list.remove(min_value)\n",
    "second_min_value = min(log_loss_scores_list)\n",
    "second_min_index = log_loss_scores_list.index(second_min_value)\n",
    "\n",
    "print(\"Minimum log loss:\", min_value)\n",
    "print(\"Index of minimum log loss:\", min_index)\n",
    "print(\"Index of second minimum log loss:\", second_min_index)"
   ]
  },
  {
   "cell_type": "code",
   "execution_count": 84,
   "id": "532fda76",
   "metadata": {},
   "outputs": [
    {
     "name": "stdout",
     "output_type": "stream",
     "text": [
      "Maximum accuracy: 0.7141414141414142\n",
      "Index of maximum accuracy: 7\n",
      "Index of second maximum accuracy: 7\n"
     ]
    }
   ],
   "source": [
    "# Find the maximum value and its index\n",
    "max_value_acc = max(accuracy_scores_list)\n",
    "max_index_acc = accuracy_scores_list.index(max_value_acc)\n",
    "# Remove the maximum value to verify the second max value \n",
    "accuracy_scores_list.remove(max_value_acc)\n",
    "second_max_value = max(accuracy_scores_list)\n",
    "second_max_index_acc = accuracy_scores_list.index(second_max_value)\n",
    "\n",
    "print(\"Maximum accuracy:\", max_value_acc)\n",
    "print(\"Index of maximum accuracy:\", max_index_acc)\n",
    "print(\"Index of second maximum accuracy:\", second_max_index_acc)"
   ]
  },
  {
   "cell_type": "markdown",
   "id": "11178917",
   "metadata": {},
   "source": [
    "We will plot this on a chart to visualize each model's scores "
   ]
  },
  {
   "cell_type": "code",
   "execution_count": 85,
   "id": "a0142738",
   "metadata": {},
   "outputs": [],
   "source": [
    "# Ensuring that we have the same number of scores for each metric\n",
    "# print(len(log_loss_scores))\n",
    "# print(len(accuracy_scores))\n",
    "# print(len(recall_scores))"
   ]
  },
  {
   "cell_type": "code",
   "execution_count": 86,
   "id": "08704d45",
   "metadata": {
    "scrolled": false
   },
   "outputs": [
    {
     "data": {
      "image/png": "[encoded data removed]",
      "text/plain": [
       "<Figure size 1000x600 with 1 Axes>"
      ]
     },
     "metadata": {},
     "output_type": "display_data"
    }
   ],
   "source": [
    "# Creating the x-axis values \n",
    "x = range(1, 12)\n",
    "\n",
    "# Creating the line plot\n",
    "plt.figure(figsize=(10, 6))  # Adjust the figure size if needed\n",
    "plt.plot(x, log_loss_scores, label='Log Loss', marker='o', linestyle='-', color='#391600')\n",
    "plt.plot(x, accuracy_scores, label='Accuracy', marker='o', linestyle='-', color='#B88770')\n",
    "plt.plot(x, recall_scores, label='Recall', marker='o', linestyle='-', color='#599E91')\n",
    "\n",
    "# Customizing x-axis tick locations and labels\n",
    "x_ticks = [5, 10, 15, 20, 25, 30, 35, 40, 45, 50, 53]\n",
    "plt.xticks(x, x_ticks)\n",
    "\n",
    "# Adding labels and title\n",
    "plt.xlabel('No. of Selected Features')\n",
    "plt.ylabel('Scores')\n",
    "plt.title('RFE - Model Evaluation Metrics', fontsize=16)\n",
    "\n",
    "# Adding a legend\n",
    "plt.legend()\n",
    "\n",
    "# Showing the data label of the selected index\n",
    "index_to_annotate = 8  # 8th index\n",
    "plt.annotate(f'{log_loss_scores[index_to_annotate]:.5f}', (x[index_to_annotate], log_loss_scores[index_to_annotate]), textcoords=\"offset points\", xytext=(0,10), ha='center')\n",
    "plt.annotate(f'{accuracy_scores[index_to_annotate]:.5f}', (x[index_to_annotate], accuracy_scores[index_to_annotate]), textcoords=\"offset points\", xytext=(0,-15), ha='center')\n",
    "plt.annotate(f'{recall_scores[index_to_annotate]:.5f}', (x[index_to_annotate], recall_scores[index_to_annotate]), textcoords=\"offset points\", xytext=(0,10), ha='center')\n",
    "\n",
    "# Saving the plot as a PNG with a transparent background\n",
    "plt.savefig('images/RFE_models.png', transparent=True)\n",
    "\n",
    "# Showing the plot\n",
    "# plt.grid(True)\n",
    "plt.show()"
   ]
  },
  {
   "cell_type": "markdown",
   "id": "955edb62",
   "metadata": {},
   "source": [
    "#### Recording and Evaluating the Best Model with Selected Features "
   ]
  },
  {
   "cell_type": "markdown",
   "id": "b88bea60",
   "metadata": {},
   "source": [
    "Recording the model with the best results: with 45 features"
   ]
  },
  {
   "cell_type": "code",
   "execution_count": 87,
   "id": "5a2c1290",
   "metadata": {},
   "outputs": [],
   "source": [
    "# Instantiating the RFE object with our final model - and trying with 45 features\n",
    "best_rfe = RFE(estimator=final_model, n_features_to_select=45)\n",
    "\n",
    "# Fitting the RFE object to the training data \n",
    "best_rfe.fit(X_train_oversampled, y_train_oversampled)\n",
    "\n",
    "# Accessing the ranking of features\n",
    "feature_ranking = best_rfe.ranking_\n",
    "feature_support = best_rfe.support_ \n",
    "\n",
    "# Using the top selected features \n",
    "selected_features = X_train_oversampled[:, feature_support]\n",
    "\n",
    "# Fitting the final Logistic Regression model using the selected features \n",
    "final_model.fit(selected_features, y_train_oversampled)\n",
    "\n",
    "# Using the top selected features on validation data\n",
    "selected_X_test_scaled = X_test_scaled[:, feature_support]\n"
   ]
  },
  {
   "cell_type": "code",
   "execution_count": 88,
   "id": "cb79ca07",
   "metadata": {},
   "outputs": [
    {
     "name": "stdout",
     "output_type": "stream",
     "text": [
      "Evaluation scores for Logistic Regression - RFE \n",
      "Log Loss: 0.5437699554671055\n",
      "Recall Score: 0.4866617538688283\n",
      "Accuracy Score: 0.7140740740740741\n",
      "Number of features: 45\n"
     ]
    }
   ],
   "source": [
    "# Evaluating the model with log loss, recall and accuracy\n",
    "model_rfe = 'Logistic Regression - RFE'\n",
    "\n",
    "\n",
    "# Calling the function and recording into the defined values\n",
    "log_loss_reg_selected, recall_reg_selected, accuracy_reg_selected = eval_scores(model_rfe, final_model, selected_X_test_scaled, y_test)\n",
    "\n",
    "print(\"Number of features: {}\".format(45))"
   ]
  },
  {
   "cell_type": "code",
   "execution_count": 89,
   "id": "51d3b45b",
   "metadata": {},
   "outputs": [],
   "source": [
    "# Recording each score into their variable\n",
    "log_loss_scores.append(log_loss_reg_selected)\n",
    "accuracy_scores.append(accuracy_reg_selected)\n",
    "recall_scores.append(recall_reg_selected)"
   ]
  },
  {
   "cell_type": "markdown",
   "id": "a4e6dd4a",
   "metadata": {},
   "source": [
    "The below columns, where the selection is indicated as True were selected by the RFE process. Their rank indicates their importance for the model. "
   ]
  },
  {
   "cell_type": "code",
   "execution_count": 90,
   "id": "f661ec03",
   "metadata": {
    "scrolled": false
   },
   "outputs": [
    {
     "name": "stdout",
     "output_type": "stream",
     "text": [
      "amount_tsh selected=True rank=1\n",
      "gps_height selected=True rank=1\n",
      "population selected=True rank=1\n",
      "public_meeting selected=True rank=1\n",
      "permit selected=True rank=1\n",
      "construction_year selected=True rank=1\n",
      "basin_Internal selected=True rank=1\n",
      "basin_Lake Nyasa selected=True rank=1\n",
      "basin_Lake Rukwa selected=True rank=1\n",
      "basin_Lake Tanganyika selected=True rank=1\n",
      "basin_Lake Victoria selected=True rank=1\n",
      "basin_Pangani selected=True rank=1\n",
      "basin_Rufiji selected=True rank=1\n",
      "basin_Ruvuma / Southern Coast selected=True rank=1\n",
      "basin_Wami / Ruvu selected=True rank=1\n",
      "extraction_type_class_gravity selected=False rank=6\n",
      "extraction_type_class_handpump selected=True rank=1\n",
      "extraction_type_class_motorpump selected=False rank=5\n",
      "extraction_type_class_other selected=True rank=1\n",
      "extraction_type_class_rope pump selected=True rank=1\n",
      "extraction_type_class_submersible selected=True rank=1\n",
      "extraction_type_class_wind-powered selected=False rank=7\n",
      "management_board_n_trust selected=True rank=1\n",
      "management_government selected=True rank=1\n",
      "management_other selected=True rank=1\n",
      "management_private operator selected=True rank=1\n",
      "management_unknown selected=False rank=2\n",
      "management_village_committee selected=True rank=1\n",
      "management_wua selected=True rank=1\n",
      "quality_group_colored selected=True rank=1\n",
      "quality_group_fluoride selected=True rank=1\n",
      "quality_group_good selected=False rank=3\n",
      "quality_group_milky selected=True rank=1\n",
      "quality_group_salty selected=True rank=1\n",
      "quality_group_unknown selected=True rank=1\n",
      "quantity_dry selected=True rank=1\n",
      "quantity_enough selected=True rank=1\n",
      "quantity_insufficient selected=True rank=1\n",
      "quantity_seasonal selected=True rank=1\n",
      "quantity_unknown selected=False rank=9\n",
      "source_type_borehole selected=True rank=1\n",
      "source_type_dam selected=True rank=1\n",
      "source_type_other selected=True rank=1\n",
      "source_type_rainwater harvesting selected=True rank=1\n",
      "source_type_river/lake selected=False rank=8\n",
      "source_type_shallow well selected=True rank=1\n",
      "source_type_spring selected=True rank=1\n",
      "installer_organization_NPO_NGO selected=True rank=1\n",
      "installer_organization_bilateral selected=True rank=1\n",
      "installer_organization_community selected=True rank=1\n",
      "installer_organization_government selected=True rank=1\n",
      "installer_organization_religious selected=True rank=1\n",
      "installer_organization_unknown_n_minor selected=False rank=4\n"
     ]
    }
   ],
   "source": [
    "# Printing the columns with their selection and rank\n",
    "for i, col in zip(range(scaled_df_train.shape[1]), scaled_df_train.columns):\n",
    "    print(f\"{col} selected={best_rfe.support_[i]} rank={best_rfe.ranking_[i]}\")"
   ]
  },
  {
   "cell_type": "markdown",
   "id": "7029a6ea",
   "metadata": {},
   "source": [
    "#### 5. a. 6. Scores' Summary"
   ]
  },
  {
   "cell_type": "markdown",
   "id": "ac6264ea",
   "metadata": {},
   "source": [
    "The final scores for our Logistic Regression models, after having selected the best features are: "
   ]
  },
  {
   "cell_type": "code",
   "execution_count": 91,
   "id": "2683c4d6",
   "metadata": {
    "scrolled": false
   },
   "outputs": [
    {
     "name": "stdout",
     "output_type": "stream",
     "text": [
      "Log Loss: 0.5437699554671055\n",
      "The log loss is below 1 and indicate a decent accuracy in predicting probabilities and consequently, a decent model performance.\n",
      "\n",
      "Recall Score: 0.4866617538688283\n",
      "The true positive rate metric measuring the proportion of actual positive cases that the model correctly identifies is low. Less than 50% of positive cases were correctly identified.\n",
      "\n",
      "Accuracy Score: 0.7140740740740741\n",
      "\n",
      "The overall correctness of the model's predictions, considering both true positives and true negatives is decent: approximatively 71.41.%\n",
      "\n"
     ]
    }
   ],
   "source": [
    "print(\"Log Loss: {}\".format(log_loss_reg_selected))\n",
    "print(\"The log loss is below 1 and indicate a decent accuracy in predicting probabilities and consequently, a decent model performance.\")\n",
    "print()\n",
    "print(\"Recall Score: {}\".format(recall_reg_selected))\n",
    "print(\"The true positive rate metric measuring the proportion of actual positive cases that the model correctly identifies is low. Less than 50% of positive cases were correctly identified.\")\n",
    "print()\n",
    "print(\"Accuracy Score: {}\".format(accuracy_reg_selected))\n",
    "print()\n",
    "print(\"The overall correctness of the model's predictions, considering both true positives and true negatives is decent: approximatively 71.41.%\")\n",
    "print()\n"
   ]
  },
  {
   "cell_type": "markdown",
   "id": "8da9df70",
   "metadata": {},
   "source": [
    "### 5. b. K-Nearest Neighbors"
   ]
  },
  {
   "cell_type": "markdown",
   "id": "fc51d1a4",
   "metadata": {},
   "source": [
    "* **Training speed**: Fast. It stores training data for future use, with scikit-learn optimizations for quicker predictions.<br>\n",
    "* **Prediction speed**: Slower. The model examines all training records to find the k closest to a new record.<br>\n",
    "* **Scaling requirement**: to ensure consistent distance scales for the distance-based algorithm.<br>\n",
    "* **Key hyperparameters**: n_neighbors (controls the number of nearest neighbors; too few can overfit, too many can underfit), p, and metric (determines the distance measure for \"nearest\" neighbors)."
   ]
  },
  {
   "cell_type": "markdown",
   "id": "c2e9e462",
   "metadata": {},
   "source": [
    "#### 5. b. 1. Preparing Data for Modeling"
   ]
  },
  {
   "cell_type": "markdown",
   "id": "5fc8131d",
   "metadata": {},
   "source": [
    "X and y were defined for the Logistic Regression model"
   ]
  },
  {
   "cell_type": "code",
   "execution_count": 92,
   "id": "c5749ab9",
   "metadata": {
    "scrolled": false
   },
   "outputs": [
    {
     "data": {
      "text/plain": [
       "0    0\n",
       "1    0\n",
       "2    0\n",
       "3    1\n",
       "4    0\n",
       "Name: status_group, dtype: int64"
      ]
     },
     "execution_count": 92,
     "metadata": {},
     "output_type": "execute_result"
    }
   ],
   "source": [
    "# Verifying X and y\n",
    "X.head()\n",
    "y.head()"
   ]
  },
  {
   "cell_type": "markdown",
   "id": "7dbdc174",
   "metadata": {},
   "source": [
    "Now that the features that did not impact as much the baseline model were eliminated, we will filter the dataset on the selected columns only: "
   ]
  },
  {
   "cell_type": "code",
   "execution_count": 93,
   "id": "406a52a4",
   "metadata": {
    "scrolled": false
   },
   "outputs": [],
   "source": [
    "# Converting best_rfe.support_ to a list of column names\n",
    "selected_columns = X.columns[best_rfe.support_]\n",
    "\n",
    "# Creating a new DataFrame with only the selected columns\n",
    "X_selected = X[selected_columns]"
   ]
  },
  {
   "cell_type": "code",
   "execution_count": 94,
   "id": "7c76ff20",
   "metadata": {
    "scrolled": true
   },
   "outputs": [
    {
     "data": {
      "text/plain": [
       "59400"
      ]
     },
     "execution_count": 94,
     "metadata": {},
     "output_type": "execute_result"
    }
   ],
   "source": [
    "# Verifying that despite filtering on columns, the dataset length has not changed\n",
    "len(X_selected)"
   ]
  },
  {
   "cell_type": "code",
   "execution_count": 95,
   "id": "f43945b2",
   "metadata": {
    "scrolled": true
   },
   "outputs": [],
   "source": [
    "# Performing train-test split with random_state=42 and stratify=y, using the selected columns only\n",
    "X_train, X_test, y_train, y_test = train_test_split(X_selected, y, random_state=42, stratify=y)"
   ]
  },
  {
   "cell_type": "markdown",
   "id": "096de8f5",
   "metadata": {},
   "source": [
    "As we have seen when preparing data for Logistic Regression, columns have numbers in large ranges and data needs to be normalized. \n",
    "\n",
    "Normalization is done after splitting the data into training and test sets on purpose. This is prevent data leakage from the test set into the training set. \n",
    "\n",
    "Especially with K-NN classification, scaling the data ensures that all features contribute equally to the distance metrics. "
   ]
  },
  {
   "cell_type": "code",
   "execution_count": 96,
   "id": "08236fd6",
   "metadata": {},
   "outputs": [],
   "source": [
    "# Instantiating StandardScaler and fitting it on X_train\n",
    "scaler = StandardScaler()\n",
    "# scaler.fit(X_train)"
   ]
  },
  {
   "cell_type": "code",
   "execution_count": 97,
   "id": "dfe74645",
   "metadata": {},
   "outputs": [],
   "source": [
    "# Fitting and transforming train set - and transforming test set \n",
    "X_train_scaled = scaler.fit_transform(X_train)\n",
    "X_test_scaled = scaler.transform(X_test)"
   ]
  },
  {
   "cell_type": "code",
   "execution_count": 98,
   "id": "07a0e933",
   "metadata": {
    "scrolled": false
   },
   "outputs": [
    {
     "data": {
      "text/html": [
       "<div>\n",
       "<style scoped>\n",
       "    .dataframe tbody tr th:only-of-type {\n",
       "        vertical-align: middle;\n",
       "    }\n",
       "\n",
       "    .dataframe tbody tr th {\n",
       "        vertical-align: top;\n",
       "    }\n",
       "\n",
       "    .dataframe thead th {\n",
       "        text-align: right;\n",
       "    }\n",
       "</style>\n",
       "<table border=\"1\" class=\"dataframe\">\n",
       "  <thead>\n",
       "    <tr style=\"text-align: right;\">\n",
       "      <th></th>\n",
       "      <th>amount_tsh</th>\n",
       "      <th>gps_height</th>\n",
       "      <th>population</th>\n",
       "      <th>public_meeting</th>\n",
       "      <th>permit</th>\n",
       "      <th>construction_year</th>\n",
       "      <th>basin_Internal</th>\n",
       "      <th>basin_Lake Nyasa</th>\n",
       "      <th>basin_Lake Rukwa</th>\n",
       "      <th>basin_Lake Tanganyika</th>\n",
       "      <th>...</th>\n",
       "      <th>source_type_dam</th>\n",
       "      <th>source_type_other</th>\n",
       "      <th>source_type_rainwater harvesting</th>\n",
       "      <th>source_type_shallow well</th>\n",
       "      <th>source_type_spring</th>\n",
       "      <th>installer_organization_NPO_NGO</th>\n",
       "      <th>installer_organization_bilateral</th>\n",
       "      <th>installer_organization_community</th>\n",
       "      <th>installer_organization_government</th>\n",
       "      <th>installer_organization_religious</th>\n",
       "    </tr>\n",
       "  </thead>\n",
       "  <tbody>\n",
       "    <tr>\n",
       "      <th>0</th>\n",
       "      <td>-0.096832</td>\n",
       "      <td>0.772560</td>\n",
       "      <td>0.239329</td>\n",
       "      <td>0.403473</td>\n",
       "      <td>0.727060</td>\n",
       "      <td>0.741540</td>\n",
       "      <td>-0.388299</td>\n",
       "      <td>-0.306380</td>\n",
       "      <td>-0.204243</td>\n",
       "      <td>-0.347863</td>\n",
       "      <td>...</td>\n",
       "      <td>-0.103702</td>\n",
       "      <td>-0.067657</td>\n",
       "      <td>-0.201786</td>\n",
       "      <td>-0.629063</td>\n",
       "      <td>1.575555</td>\n",
       "      <td>-0.257685</td>\n",
       "      <td>-0.212915</td>\n",
       "      <td>-0.184593</td>\n",
       "      <td>-0.825307</td>\n",
       "      <td>-0.247222</td>\n",
       "    </tr>\n",
       "    <tr>\n",
       "      <th>1</th>\n",
       "      <td>-0.083585</td>\n",
       "      <td>-0.965035</td>\n",
       "      <td>-0.389074</td>\n",
       "      <td>0.403473</td>\n",
       "      <td>0.727060</td>\n",
       "      <td>0.744695</td>\n",
       "      <td>-0.388299</td>\n",
       "      <td>-0.306380</td>\n",
       "      <td>-0.204243</td>\n",
       "      <td>-0.347863</td>\n",
       "      <td>...</td>\n",
       "      <td>-0.103702</td>\n",
       "      <td>-0.067657</td>\n",
       "      <td>-0.201786</td>\n",
       "      <td>-0.629063</td>\n",
       "      <td>-0.634697</td>\n",
       "      <td>-0.257685</td>\n",
       "      <td>-0.212915</td>\n",
       "      <td>-0.184593</td>\n",
       "      <td>-0.825307</td>\n",
       "      <td>-0.247222</td>\n",
       "    </tr>\n",
       "    <tr>\n",
       "      <th>2</th>\n",
       "      <td>-0.098989</td>\n",
       "      <td>-0.965035</td>\n",
       "      <td>-0.391256</td>\n",
       "      <td>0.403473</td>\n",
       "      <td>-1.375402</td>\n",
       "      <td>-1.370154</td>\n",
       "      <td>-0.388299</td>\n",
       "      <td>3.263917</td>\n",
       "      <td>-0.204243</td>\n",
       "      <td>-0.347863</td>\n",
       "      <td>...</td>\n",
       "      <td>-0.103702</td>\n",
       "      <td>-0.067657</td>\n",
       "      <td>-0.201786</td>\n",
       "      <td>-0.629063</td>\n",
       "      <td>1.575555</td>\n",
       "      <td>-0.257685</td>\n",
       "      <td>-0.212915</td>\n",
       "      <td>-0.184593</td>\n",
       "      <td>-0.825307</td>\n",
       "      <td>-0.247222</td>\n",
       "    </tr>\n",
       "    <tr>\n",
       "      <th>3</th>\n",
       "      <td>-0.095908</td>\n",
       "      <td>0.675867</td>\n",
       "      <td>-0.063963</td>\n",
       "      <td>0.403473</td>\n",
       "      <td>0.727060</td>\n",
       "      <td>0.732075</td>\n",
       "      <td>-0.388299</td>\n",
       "      <td>-0.306380</td>\n",
       "      <td>-0.204243</td>\n",
       "      <td>-0.347863</td>\n",
       "      <td>...</td>\n",
       "      <td>-0.103702</td>\n",
       "      <td>-0.067657</td>\n",
       "      <td>-0.201786</td>\n",
       "      <td>-0.629063</td>\n",
       "      <td>1.575555</td>\n",
       "      <td>-0.257685</td>\n",
       "      <td>-0.212915</td>\n",
       "      <td>-0.184593</td>\n",
       "      <td>-0.825307</td>\n",
       "      <td>-0.247222</td>\n",
       "    </tr>\n",
       "    <tr>\n",
       "      <th>4</th>\n",
       "      <td>-0.098989</td>\n",
       "      <td>-0.965035</td>\n",
       "      <td>-0.391256</td>\n",
       "      <td>0.403473</td>\n",
       "      <td>0.727060</td>\n",
       "      <td>-1.370154</td>\n",
       "      <td>-0.388299</td>\n",
       "      <td>-0.306380</td>\n",
       "      <td>-0.204243</td>\n",
       "      <td>-0.347863</td>\n",
       "      <td>...</td>\n",
       "      <td>-0.103702</td>\n",
       "      <td>-0.067657</td>\n",
       "      <td>-0.201786</td>\n",
       "      <td>1.589666</td>\n",
       "      <td>-0.634697</td>\n",
       "      <td>-0.257685</td>\n",
       "      <td>-0.212915</td>\n",
       "      <td>-0.184593</td>\n",
       "      <td>1.211670</td>\n",
       "      <td>-0.247222</td>\n",
       "    </tr>\n",
       "  </tbody>\n",
       "</table>\n",
       "<p>5 rows × 45 columns</p>\n",
       "</div>"
      ],
      "text/plain": [
       "   amount_tsh  gps_height  population  public_meeting    permit  \\\n",
       "0   -0.096832    0.772560    0.239329        0.403473  0.727060   \n",
       "1   -0.083585   -0.965035   -0.389074        0.403473  0.727060   \n",
       "2   -0.098989   -0.965035   -0.391256        0.403473 -1.375402   \n",
       "3   -0.095908    0.675867   -0.063963        0.403473  0.727060   \n",
       "4   -0.098989   -0.965035   -0.391256        0.403473  0.727060   \n",
       "\n",
       "   construction_year  basin_Internal  basin_Lake Nyasa  basin_Lake Rukwa  \\\n",
       "0           0.741540       -0.388299         -0.306380         -0.204243   \n",
       "1           0.744695       -0.388299         -0.306380         -0.204243   \n",
       "2          -1.370154       -0.388299          3.263917         -0.204243   \n",
       "3           0.732075       -0.388299         -0.306380         -0.204243   \n",
       "4          -1.370154       -0.388299         -0.306380         -0.204243   \n",
       "\n",
       "   basin_Lake Tanganyika  ...  source_type_dam  source_type_other  \\\n",
       "0              -0.347863  ...        -0.103702          -0.067657   \n",
       "1              -0.347863  ...        -0.103702          -0.067657   \n",
       "2              -0.347863  ...        -0.103702          -0.067657   \n",
       "3              -0.347863  ...        -0.103702          -0.067657   \n",
       "4              -0.347863  ...        -0.103702          -0.067657   \n",
       "\n",
       "   source_type_rainwater harvesting  source_type_shallow well  \\\n",
       "0                         -0.201786                 -0.629063   \n",
       "1                         -0.201786                 -0.629063   \n",
       "2                         -0.201786                 -0.629063   \n",
       "3                         -0.201786                 -0.629063   \n",
       "4                         -0.201786                  1.589666   \n",
       "\n",
       "   source_type_spring  installer_organization_NPO_NGO  \\\n",
       "0            1.575555                       -0.257685   \n",
       "1           -0.634697                       -0.257685   \n",
       "2            1.575555                       -0.257685   \n",
       "3            1.575555                       -0.257685   \n",
       "4           -0.634697                       -0.257685   \n",
       "\n",
       "   installer_organization_bilateral  installer_organization_community  \\\n",
       "0                         -0.212915                         -0.184593   \n",
       "1                         -0.212915                         -0.184593   \n",
       "2                         -0.212915                         -0.184593   \n",
       "3                         -0.212915                         -0.184593   \n",
       "4                         -0.212915                         -0.184593   \n",
       "\n",
       "   installer_organization_government  installer_organization_religious  \n",
       "0                          -0.825307                         -0.247222  \n",
       "1                          -0.825307                         -0.247222  \n",
       "2                          -0.825307                         -0.247222  \n",
       "3                          -0.825307                         -0.247222  \n",
       "4                           1.211670                         -0.247222  \n",
       "\n",
       "[5 rows x 45 columns]"
      ]
     },
     "execution_count": 98,
     "metadata": {},
     "output_type": "execute_result"
    }
   ],
   "source": [
    "# Transforming the scaled data with selected features only into a DataFrame\n",
    "scaled_selec_df_train = pd.DataFrame(X_train_scaled, columns=X_selected.columns)\n",
    "# Inspecting it\n",
    "scaled_selec_df_train.head()"
   ]
  },
  {
   "cell_type": "markdown",
   "id": "bb57700f",
   "metadata": {},
   "source": [
    "#### 5. b. 2. Building a Baseline kNN Model"
   ]
  },
  {
   "cell_type": "markdown",
   "id": "2e41f781",
   "metadata": {},
   "source": [
    "We will first build an initial kNN model with the default hyperparameters. \n",
    "\n",
    "On this model, we will make predictions on the test set to measure its accuracy. "
   ]
  },
  {
   "cell_type": "code",
   "execution_count": 99,
   "id": "6e5b6028",
   "metadata": {},
   "outputs": [],
   "source": [
    "# Importing K-Nearest Neighbors classifier\n",
    "from sklearn.neighbors import KNeighborsClassifier\n",
    "\n",
    "# Creating the model\n",
    "knn_baseline_model = KNeighborsClassifier()\n",
    "\n",
    "# Fitting the classifier\n",
    "knn_baseline_model.fit(X_train_scaled, y_train)\n",
    "\n",
    "# Predicting on the test set\n",
    "test_preds = knn_baseline_model.predict(X_test_scaled)"
   ]
  },
  {
   "cell_type": "markdown",
   "id": "029d70e6",
   "metadata": {},
   "source": [
    "####  Evaluating the Baseline kNN Model"
   ]
  },
  {
   "cell_type": "markdown",
   "id": "a69227eb",
   "metadata": {},
   "source": [
    "In order to evaluate the model, similar to Logistic Regression, cross_val_score will be used, with the scoring=\"neg_log_loss\". As done on previous models, the mean of the cross-validated scores with be calculated and values negated. \n",
    "We will also evaluate the models using the two selected evaluation metrics: **Accuracy and Recall**. The evaluation will be done by passing the functions a set of `labels` (actual values) and a set of `preds` (predictions produced by the model). "
   ]
  },
  {
   "cell_type": "code",
   "execution_count": 100,
   "id": "639acc93",
   "metadata": {},
   "outputs": [
    {
     "name": "stdout",
     "output_type": "stream",
     "text": [
      "Evaluation scores for kNN - Baseline \n",
      "Log Loss: 1.82165057395066\n",
      "Recall Score: 0.7064112011790715\n",
      "Accuracy Score: 0.7681481481481481\n"
     ]
    }
   ],
   "source": [
    "# Evaluating the baseline kNN model with our pre-defined function\n",
    "\n",
    "knn_model = 'kNN - Baseline'\n",
    "\n",
    "log_loss_knnbase, recall_knnbase, accuracy_knnbase = eval_scores(knn_model, knn_baseline_model, X_test_scaled, y_test)"
   ]
  },
  {
   "cell_type": "code",
   "execution_count": 101,
   "id": "c42c3e75",
   "metadata": {
    "scrolled": true
   },
   "outputs": [
    {
     "name": "stdout",
     "output_type": "stream",
     "text": [
      "Cross Validation Log Loss: 1.8462741717078024\n"
     ]
    }
   ],
   "source": [
    "# Performing cross-validation as well\n",
    "\n",
    "# Importing the necessary functions\n",
    "from sklearn.model_selection import cross_val_score\n",
    "knn_baseline_log_losscv = -cross_val_score(knn_baseline_model, X_train_scaled, y_train, scoring=\"neg_log_loss\").mean()\n",
    "\n",
    "print(\"Cross Validation Log Loss: {}\".format(knn_baseline_log_losscv))\n"
   ]
  },
  {
   "cell_type": "markdown",
   "id": "0e980b44",
   "metadata": {},
   "source": [
    "* **Log Loss**: A log loss above 1 suggests that the model's predictions are less confident or less accurate.\n",
    "\n",
    "* **Recall**: A recall score of about 0.7064 (70.64%) means that the model correctly identified roughly 70.64% of all actual positive instances (non functional wells) in the dataset. \n",
    "\n",
    "* **Accuracy**: An accuracy score of about 0.7651 (76.51%) indicates that the model correctly predicted 76.51% of all instances in the dataset.  \n"
   ]
  },
  {
   "cell_type": "markdown",
   "id": "96c56246",
   "metadata": {},
   "source": [
    "The negative log loss resulting from the baseline KNN model is far larger than the one recorded on our Logistic Regression models. We will then try to fine tune the parameters to see whether the model can make more accurate predictions."
   ]
  },
  {
   "cell_type": "markdown",
   "id": "5a53cfab",
   "metadata": {},
   "source": [
    "#### 5. b. 3. Building Iterative Models to Find the Best kNN Model"
   ]
  },
  {
   "cell_type": "markdown",
   "id": "66c5f1da",
   "metadata": {},
   "source": [
    "<u>n_neighbors=50</u>"
   ]
  },
  {
   "cell_type": "markdown",
   "id": "86d5f3bc",
   "metadata": {},
   "source": [
    "Maybe we are overfitting, since the default neighbors of 5 seems small compared to the large number of records in this dataset. Let's increase that number of neighbors 10x to see if it improves the results"
   ]
  },
  {
   "cell_type": "code",
   "execution_count": 102,
   "id": "7e2028ed",
   "metadata": {},
   "outputs": [],
   "source": [
    "# Trying other models\n",
    "# Instantiating a model with 50 neighbors \n",
    "knn_second_model = KNeighborsClassifier(n_neighbors=50)\n",
    "\n",
    "# Fitting the second classifier \n",
    "knn_second_model.fit(X_train_scaled, y_train)\n",
    "\n",
    "# Predicting on the test set\n",
    "second_test_preds = knn_second_model.predict(X_test_scaled)"
   ]
  },
  {
   "cell_type": "markdown",
   "id": "10575b95",
   "metadata": {},
   "source": [
    "####  Evaluating kNN Model with 50 neighbors"
   ]
  },
  {
   "cell_type": "code",
   "execution_count": 103,
   "id": "cd351388",
   "metadata": {},
   "outputs": [
    {
     "name": "stdout",
     "output_type": "stream",
     "text": [
      "Cross Validation Log Loss: 0.5297369958984322\n"
     ]
    }
   ],
   "source": [
    "# Performing cross-validation as well\n",
    "knn_second_model_log_losscv = -cross_val_score(knn_second_model, X_train_scaled, y_train, scoring=\"neg_log_loss\").mean()\n",
    "\n",
    "print(\"Cross Validation Log Loss: {}\".format(knn_second_model_log_losscv))"
   ]
  },
  {
   "cell_type": "code",
   "execution_count": 104,
   "id": "040b834f",
   "metadata": {},
   "outputs": [
    {
     "name": "stdout",
     "output_type": "stream",
     "text": [
      "Evaluation scores for kNN - 50 Neighors \n",
      "Log Loss: 0.5235108061042335\n",
      "Recall Score: 0.6100221075902726\n",
      "Accuracy Score: 0.7476094276094276\n"
     ]
    }
   ],
   "source": [
    "# Evaluating the baseline kNN model with our pre-defined function\n",
    "\n",
    "knn_model_second = 'kNN - 50 Neighors'\n",
    "\n",
    "log_loss_knn_second, recall_knn_second, accuracy_knn_second = eval_scores(knn_model_second, knn_second_model, X_test_scaled, y_test)"
   ]
  },
  {
   "cell_type": "markdown",
   "id": "a6a8481d",
   "metadata": {},
   "source": [
    "These results show a clear improvement. Nevertheless recall remain somewhat low, for the importance it has. We will try to improve the model by changing the distance metric from euclidean to manhattan. \n"
   ]
  },
  {
   "cell_type": "markdown",
   "id": "64cfa24e",
   "metadata": {},
   "source": [
    "<u>n_neighbors=50, metric='manhattan'</u>"
   ]
  },
  {
   "cell_type": "code",
   "execution_count": 105,
   "id": "414473f0",
   "metadata": {},
   "outputs": [],
   "source": [
    "# Trying other models\n",
    "# Instantiating a model with 50 neighbors \n",
    "knn_third_model = KNeighborsClassifier(n_neighbors=50, metric=\"manhattan\")\n",
    "\n",
    "# Fitting the second classifier \n",
    "knn_third_model.fit(X_train_scaled, y_train)\n",
    "\n",
    "# Predicting on the test set\n",
    "third_test_preds = knn_third_model.predict(X_test_scaled)"
   ]
  },
  {
   "cell_type": "markdown",
   "id": "eac24b29",
   "metadata": {},
   "source": [
    "####  Evaluating kNN Model with 50 neighbors and metric 'manhattan'"
   ]
  },
  {
   "cell_type": "code",
   "execution_count": 106,
   "id": "3100447c",
   "metadata": {},
   "outputs": [
    {
     "name": "stdout",
     "output_type": "stream",
     "text": [
      "Cross Validation Log Loss: 0.5206290263313449\n"
     ]
    }
   ],
   "source": [
    "# Performing cross-validation log loss\n",
    "knn_third_model_log_losscv = -cross_val_score(knn_third_model, X_train_scaled, y_train, scoring=\"neg_log_loss\").mean()\n",
    "\n",
    "print(\"Cross Validation Log Loss: {}\".format(knn_third_model_log_losscv))"
   ]
  },
  {
   "cell_type": "code",
   "execution_count": 107,
   "id": "ff430e84",
   "metadata": {},
   "outputs": [
    {
     "name": "stdout",
     "output_type": "stream",
     "text": [
      "Evaluation scores for kNN - 50 Neighbors - Manhattan \n",
      "Log Loss: 0.5110744915489972\n",
      "Recall Score: 0.6296241709653648\n",
      "Accuracy Score: 0.7534680134680135\n"
     ]
    }
   ],
   "source": [
    "# Evaluating the baseline kNN model with our pre-defined function\n",
    "knn_model_third = 'kNN - 50 Neighbors - Manhattan'\n",
    "\n",
    "log_loss_knn_third, recall_knn_third, accuracy_knn_third = eval_scores(knn_model_third, knn_third_model, X_test_scaled, y_test)"
   ]
  },
  {
   "cell_type": "markdown",
   "id": "4f6bd825",
   "metadata": {},
   "source": [
    "These results continue increasing. We will test increasing again the number of neighbors to verify whether this improves model performance even more. "
   ]
  },
  {
   "cell_type": "markdown",
   "id": "3894db1f",
   "metadata": {},
   "source": [
    "<u>n_neighbors=75, metric='manhattan'</u>"
   ]
  },
  {
   "cell_type": "code",
   "execution_count": 108,
   "id": "65e185a9",
   "metadata": {},
   "outputs": [],
   "source": [
    "# Can we improve performance if increasing the number of neighbors again\n",
    "# Instantiating a model with 50 neighbors \n",
    "knn_fourth_model = KNeighborsClassifier(n_neighbors=75, metric=\"manhattan\")\n",
    "\n",
    "# Fitting the second classifier \n",
    "knn_fourth_model.fit(X_train_scaled, y_train)\n",
    "\n",
    "# Predicting on the test set\n",
    "fourth_test_preds = knn_fourth_model.predict(X_test_scaled)"
   ]
  },
  {
   "cell_type": "markdown",
   "id": "12f49449",
   "metadata": {},
   "source": [
    "####  Evaluating kNN Model with 75 neighbors and metric 'manhattan'"
   ]
  },
  {
   "cell_type": "code",
   "execution_count": 109,
   "id": "935457d9",
   "metadata": {},
   "outputs": [
    {
     "name": "stdout",
     "output_type": "stream",
     "text": [
      "Cross Validation Log Loss: 0.5125236772308649\n"
     ]
    }
   ],
   "source": [
    "# Performing cross-validation as well\n",
    "knn_fourth_model_log_losscv = -cross_val_score(knn_fourth_model, X_train_scaled, y_train, scoring=\"neg_log_loss\").mean()\n",
    "\n",
    "print(\"Cross Validation Log Loss: {}\".format(knn_fourth_model_log_losscv))"
   ]
  },
  {
   "cell_type": "code",
   "execution_count": 110,
   "id": "a33a5f18",
   "metadata": {},
   "outputs": [
    {
     "name": "stdout",
     "output_type": "stream",
     "text": [
      "Evaluation scores for kNN - 75 Neighbors - Manhattan \n",
      "Log Loss: 0.5080102239905967\n",
      "Recall Score: 0.6306558585114223\n",
      "Accuracy Score: 0.749023569023569\n"
     ]
    }
   ],
   "source": [
    "# Evaluating the baseline kNN model with our pre-defined function\n",
    "knn_model_fourth = 'kNN - 75 Neighbors - Manhattan'\n",
    "\n",
    "log_loss_knn_fourth, recall_knn_fourth, accuracy_knn_fourth = eval_scores(knn_model_fourth, knn_fourth_model, X_test_scaled, y_test)"
   ]
  },
  {
   "cell_type": "markdown",
   "id": "54bd36f4",
   "metadata": {},
   "source": [
    "Increasing the number of neighbors along with keeping the Manhattan metric improved the k-Nearst Neighbors model performance and allowed to reach the best results for this model and compared to logistic regression as well. "
   ]
  },
  {
   "cell_type": "markdown",
   "id": "fce0eef4",
   "metadata": {},
   "source": [
    "#### 5. b. 4. Choosing and Evaluating the Best Model"
   ]
  },
  {
   "cell_type": "code",
   "execution_count": 111,
   "id": "18772dfe",
   "metadata": {},
   "outputs": [],
   "source": [
    "# Storing the best model in the variable knn_best_model\n",
    "knn_best_model = knn_fourth_model"
   ]
  },
  {
   "cell_type": "code",
   "execution_count": 112,
   "id": "8c9c3b4c",
   "metadata": {},
   "outputs": [],
   "source": [
    "# Storing all results into three different lists to plot them into a line graph\n",
    "log_loss_knn = [log_loss_knnbase, log_loss_knn_second,log_loss_knn_third, log_loss_knn_fourth]\n",
    "recall_knn = [recall_knnbase, recall_knn_second, recall_knn_third, recall_knn_fourth]\n",
    "accuracy_knn = [accuracy_knnbase, accuracy_knn_second, accuracy_knn_third, accuracy_knn_fourth]\n"
   ]
  },
  {
   "cell_type": "code",
   "execution_count": 113,
   "id": "8ba13423",
   "metadata": {},
   "outputs": [
    {
     "data": {
      "image/png": "[encoded data removed]",
      "text/plain": [
       "<Figure size 1000x600 with 1 Axes>"
      ]
     },
     "metadata": {},
     "output_type": "display_data"
    }
   ],
   "source": [
    "# Creating the x-axis values \n",
    "x = range(1, 5)\n",
    "\n",
    "# Creating the line plot\n",
    "plt.figure(figsize=(10, 6))  # Adjust the figure size if needed\n",
    "plt.plot(x, log_loss_knn, label='Log Loss', marker='o', linestyle='-', color='#391600')\n",
    "plt.plot(x, accuracy_knn, label='Accuracy', marker='o', linestyle='-', color='#B88770')\n",
    "plt.plot(x, recall_knn, label='Recall', marker='o', linestyle='-', color='#599E91')\n",
    "\n",
    "# Customizing x-axis tick locations and labels\n",
    "x_ticks = [\"kNN base\",\"kNN second\",\"kNN third\",\"kNN fourth\"]\n",
    "plt.xticks(x, x_ticks)\n",
    "\n",
    "# Adding labels and title\n",
    "plt.xlabel('k-Nearest Neighbor Models')\n",
    "plt.ylabel('Scores')\n",
    "plt.title('Model Evaluation Metrics - kNN', fontsize=16)\n",
    "\n",
    "# Adding a legend\n",
    "plt.legend()\n",
    "\n",
    "# Showing the data label of the selected index\n",
    "index_to_annotate = 3  # 3nd index\n",
    "plt.annotate(f'{log_loss_knn[index_to_annotate]:.5f}', (x[index_to_annotate], log_loss_knn[index_to_annotate]), textcoords=\"offset points\", xytext=(0,8), ha='center')\n",
    "plt.annotate(f'{accuracy_knn[index_to_annotate]:.5f}', (x[index_to_annotate], accuracy_knn[index_to_annotate]), textcoords=\"offset points\", xytext=(0,8), ha='center')\n",
    "plt.annotate(f'{recall_knn[index_to_annotate]:.5f}', (x[index_to_annotate], recall_knn[index_to_annotate]), textcoords=\"offset points\", xytext=(0,8), ha='center')\n",
    "\n",
    "# Saving the plot as a PNG with a transparent background\n",
    "plt.savefig('images/knn_models.png', transparent=True)\n",
    "\n",
    "# Showing the plot\n",
    "plt.show()"
   ]
  },
  {
   "cell_type": "markdown",
   "id": "76e9c350",
   "metadata": {},
   "source": [
    "#### 5. b. 5. Scores' Summary"
   ]
  },
  {
   "cell_type": "code",
   "execution_count": 114,
   "id": "5cb33033",
   "metadata": {},
   "outputs": [
    {
     "name": "stdout",
     "output_type": "stream",
     "text": [
      "Evaluation scores for Best kNN \n",
      "Log Loss: 0.5080102239905967\n",
      "Recall Score: 0.6306558585114223\n",
      "Accuracy Score: 0.749023569023569\n"
     ]
    }
   ],
   "source": [
    "# Calculating accuracy and recall\n",
    "knn_model_best = 'Best kNN'\n",
    "\n",
    "log_loss_knn_fourth, recall_knn_fourth, accuracy_knn_fourth = eval_scores(knn_model_best, knn_best_model, X_test_scaled, y_test)"
   ]
  },
  {
   "cell_type": "markdown",
   "id": "cbfd5e23",
   "metadata": {},
   "source": [
    "These results indicate that the model is relatively accurate in predicting the functionality of water wells, with good log loss and accuracy values. \n",
    "\n",
    "However, the performance could be improved in correctly identifying non-functional wells, as the recall score is moderate but not very high."
   ]
  },
  {
   "cell_type": "code",
   "execution_count": 115,
   "id": "670d2a5f",
   "metadata": {
    "scrolled": false
   },
   "outputs": [
    {
     "name": "stdout",
     "output_type": "stream",
     "text": [
      "Log Loss: 0.5080102239905967\n",
      "The log loss is lower than the best one provided by Logistic Regression models (0.5437699554671055). The accuracy in predicting probabilities is improving.\n",
      "\n",
      "Recall Score: 0.6306558585114223\n",
      "The true positive rate metric has highly increased compared to the 0.4866617538688283 recorded from Logistic Regression models. The model now correctly identifies actual non-functional rates 63% of the time.\n",
      "\n",
      "Accuracy Score: 0.749023569023569\n",
      "The model correctly predicted close to 75% of wells' conditions. This is an improvement compared to the previously recorded 0.7140740740740741\n",
      "\n"
     ]
    }
   ],
   "source": [
    "# Model summary\n",
    "\n",
    "print(\"Log Loss: {}\".format(log_loss_knn_fourth))\n",
    "print(\"The log loss is lower than the best one provided by Logistic Regression models ({}\".format(log_loss_reg_selected) +\"). The accuracy in predicting probabilities is improving.\")\n",
    "print()\n",
    "print(\"Recall Score: {}\".format(recall_knn_fourth))\n",
    "print(\"The true positive rate metric has highly increased compared to the {}\".format(recall_reg_selected) +\" recorded from Logistic Regression models. The model now correctly identifies actual non-functional rates 63% of the time.\")\n",
    "print()\n",
    "print(\"Accuracy Score: {}\".format(accuracy_knn_fourth))\n",
    "print(\"The model correctly predicted close to 75% of wells' conditions. This is an improvement compared to the previously recorded {}\".format(accuracy_reg_selected))\n",
    "print()\n"
   ]
  },
  {
   "cell_type": "markdown",
   "id": "7accd1db",
   "metadata": {},
   "source": [
    "### 5. c. Decision Trees"
   ]
  },
  {
   "cell_type": "markdown",
   "id": "6e35ae4f",
   "metadata": {},
   "source": [
    "Decision trees provide a flexible and interpretable machine learning approach, allowing various options to adapt to different datasets and objectives by fine-tuning hyperparameters.\n",
    "\n",
    "* **Training speed**: Decision tree training can be slow due to considering splits involving all features, potentially leading to exponential computational time.<br>\n",
    "* **Prediction speed**:Prediction with decision trees is medium-fast as it involves applying conditional statements, making it faster than some methods like k-nearest neighbors (kNN) but slower than others like logistic regression.<br>\n",
    "* **Scaling requirement**:Decision trees do not require feature scaling, and for handling categorical data, you can use a LabelEncoder, as they don't assume equal distances between categories.<br>\n",
    "* **Key hyperparameters**: Various hyperparameters related to \"pruning\" the tree are offered. Adjusting hyperparameters such as max_depth, min_samples_split, and others can control overfitting, but finding the right balance is crucial. The splitting logic can be modified as well by changing criteria to \"entropy\" or the splitter to \"random\"."
   ]
  },
  {
   "cell_type": "markdown",
   "id": "e62181c8",
   "metadata": {},
   "source": [
    "#### 5. c. 1. Preparing Data for Modeling"
   ]
  },
  {
   "cell_type": "markdown",
   "id": "ac64aae4",
   "metadata": {},
   "source": [
    "The data was previously prepared - we will just ensure it uses the most recently selected ones. "
   ]
  },
  {
   "cell_type": "code",
   "execution_count": 116,
   "id": "dc965b49",
   "metadata": {},
   "outputs": [
    {
     "data": {
      "text/html": [
       "<div>\n",
       "<style scoped>\n",
       "    .dataframe tbody tr th:only-of-type {\n",
       "        vertical-align: middle;\n",
       "    }\n",
       "\n",
       "    .dataframe tbody tr th {\n",
       "        vertical-align: top;\n",
       "    }\n",
       "\n",
       "    .dataframe thead th {\n",
       "        text-align: right;\n",
       "    }\n",
       "</style>\n",
       "<table border=\"1\" class=\"dataframe\">\n",
       "  <thead>\n",
       "    <tr style=\"text-align: right;\">\n",
       "      <th></th>\n",
       "      <th>amount_tsh</th>\n",
       "      <th>gps_height</th>\n",
       "      <th>population</th>\n",
       "      <th>public_meeting</th>\n",
       "      <th>permit</th>\n",
       "      <th>construction_year</th>\n",
       "      <th>basin_Internal</th>\n",
       "      <th>basin_Lake Nyasa</th>\n",
       "      <th>basin_Lake Rukwa</th>\n",
       "      <th>basin_Lake Tanganyika</th>\n",
       "      <th>...</th>\n",
       "      <th>source_type_dam</th>\n",
       "      <th>source_type_other</th>\n",
       "      <th>source_type_rainwater harvesting</th>\n",
       "      <th>source_type_shallow well</th>\n",
       "      <th>source_type_spring</th>\n",
       "      <th>installer_organization_NPO_NGO</th>\n",
       "      <th>installer_organization_bilateral</th>\n",
       "      <th>installer_organization_community</th>\n",
       "      <th>installer_organization_government</th>\n",
       "      <th>installer_organization_religious</th>\n",
       "    </tr>\n",
       "  </thead>\n",
       "  <tbody>\n",
       "    <tr>\n",
       "      <th>0</th>\n",
       "      <td>6000.0</td>\n",
       "      <td>1390</td>\n",
       "      <td>109</td>\n",
       "      <td>1</td>\n",
       "      <td>0</td>\n",
       "      <td>1999</td>\n",
       "      <td>0</td>\n",
       "      <td>1</td>\n",
       "      <td>0</td>\n",
       "      <td>0</td>\n",
       "      <td>...</td>\n",
       "      <td>0</td>\n",
       "      <td>0</td>\n",
       "      <td>0</td>\n",
       "      <td>0</td>\n",
       "      <td>1</td>\n",
       "      <td>0</td>\n",
       "      <td>0</td>\n",
       "      <td>0</td>\n",
       "      <td>0</td>\n",
       "      <td>0</td>\n",
       "    </tr>\n",
       "    <tr>\n",
       "      <th>1</th>\n",
       "      <td>0.0</td>\n",
       "      <td>1399</td>\n",
       "      <td>280</td>\n",
       "      <td>0</td>\n",
       "      <td>1</td>\n",
       "      <td>2010</td>\n",
       "      <td>0</td>\n",
       "      <td>0</td>\n",
       "      <td>0</td>\n",
       "      <td>0</td>\n",
       "      <td>...</td>\n",
       "      <td>0</td>\n",
       "      <td>0</td>\n",
       "      <td>1</td>\n",
       "      <td>0</td>\n",
       "      <td>0</td>\n",
       "      <td>0</td>\n",
       "      <td>0</td>\n",
       "      <td>0</td>\n",
       "      <td>0</td>\n",
       "      <td>0</td>\n",
       "    </tr>\n",
       "    <tr>\n",
       "      <th>2</th>\n",
       "      <td>25.0</td>\n",
       "      <td>686</td>\n",
       "      <td>250</td>\n",
       "      <td>1</td>\n",
       "      <td>1</td>\n",
       "      <td>2009</td>\n",
       "      <td>0</td>\n",
       "      <td>0</td>\n",
       "      <td>0</td>\n",
       "      <td>0</td>\n",
       "      <td>...</td>\n",
       "      <td>1</td>\n",
       "      <td>0</td>\n",
       "      <td>0</td>\n",
       "      <td>0</td>\n",
       "      <td>0</td>\n",
       "      <td>1</td>\n",
       "      <td>0</td>\n",
       "      <td>0</td>\n",
       "      <td>0</td>\n",
       "      <td>0</td>\n",
       "    </tr>\n",
       "    <tr>\n",
       "      <th>3</th>\n",
       "      <td>0.0</td>\n",
       "      <td>263</td>\n",
       "      <td>58</td>\n",
       "      <td>1</td>\n",
       "      <td>1</td>\n",
       "      <td>1986</td>\n",
       "      <td>0</td>\n",
       "      <td>0</td>\n",
       "      <td>0</td>\n",
       "      <td>0</td>\n",
       "      <td>...</td>\n",
       "      <td>0</td>\n",
       "      <td>0</td>\n",
       "      <td>0</td>\n",
       "      <td>0</td>\n",
       "      <td>0</td>\n",
       "      <td>1</td>\n",
       "      <td>0</td>\n",
       "      <td>0</td>\n",
       "      <td>0</td>\n",
       "      <td>0</td>\n",
       "    </tr>\n",
       "    <tr>\n",
       "      <th>4</th>\n",
       "      <td>0.0</td>\n",
       "      <td>0</td>\n",
       "      <td>0</td>\n",
       "      <td>1</td>\n",
       "      <td>1</td>\n",
       "      <td>0</td>\n",
       "      <td>0</td>\n",
       "      <td>0</td>\n",
       "      <td>0</td>\n",
       "      <td>0</td>\n",
       "      <td>...</td>\n",
       "      <td>0</td>\n",
       "      <td>0</td>\n",
       "      <td>1</td>\n",
       "      <td>0</td>\n",
       "      <td>0</td>\n",
       "      <td>0</td>\n",
       "      <td>0</td>\n",
       "      <td>0</td>\n",
       "      <td>0</td>\n",
       "      <td>0</td>\n",
       "    </tr>\n",
       "  </tbody>\n",
       "</table>\n",
       "<p>5 rows × 45 columns</p>\n",
       "</div>"
      ],
      "text/plain": [
       "   amount_tsh  gps_height  population  public_meeting  permit  \\\n",
       "0      6000.0        1390         109               1       0   \n",
       "1         0.0        1399         280               0       1   \n",
       "2        25.0         686         250               1       1   \n",
       "3         0.0         263          58               1       1   \n",
       "4         0.0           0           0               1       1   \n",
       "\n",
       "   construction_year  basin_Internal  basin_Lake Nyasa  basin_Lake Rukwa  \\\n",
       "0               1999               0                 1                 0   \n",
       "1               2010               0                 0                 0   \n",
       "2               2009               0                 0                 0   \n",
       "3               1986               0                 0                 0   \n",
       "4                  0               0                 0                 0   \n",
       "\n",
       "   basin_Lake Tanganyika  ...  source_type_dam  source_type_other  \\\n",
       "0                      0  ...                0                  0   \n",
       "1                      0  ...                0                  0   \n",
       "2                      0  ...                1                  0   \n",
       "3                      0  ...                0                  0   \n",
       "4                      0  ...                0                  0   \n",
       "\n",
       "   source_type_rainwater harvesting  source_type_shallow well  \\\n",
       "0                                 0                         0   \n",
       "1                                 1                         0   \n",
       "2                                 0                         0   \n",
       "3                                 0                         0   \n",
       "4                                 1                         0   \n",
       "\n",
       "   source_type_spring  installer_organization_NPO_NGO  \\\n",
       "0                   1                               0   \n",
       "1                   0                               0   \n",
       "2                   0                               1   \n",
       "3                   0                               1   \n",
       "4                   0                               0   \n",
       "\n",
       "   installer_organization_bilateral  installer_organization_community  \\\n",
       "0                                 0                                 0   \n",
       "1                                 0                                 0   \n",
       "2                                 0                                 0   \n",
       "3                                 0                                 0   \n",
       "4                                 0                                 0   \n",
       "\n",
       "   installer_organization_government  installer_organization_religious  \n",
       "0                                  0                                 0  \n",
       "1                                  0                                 0  \n",
       "2                                  0                                 0  \n",
       "3                                  0                                 0  \n",
       "4                                  0                                 0  \n",
       "\n",
       "[5 rows x 45 columns]"
      ]
     },
     "execution_count": 116,
     "metadata": {},
     "output_type": "execute_result"
    }
   ],
   "source": [
    "# Inspecting the previously selected data\n",
    "X_selected.head()"
   ]
  },
  {
   "cell_type": "code",
   "execution_count": 117,
   "id": "d1bb4503",
   "metadata": {},
   "outputs": [
    {
     "data": {
      "text/plain": [
       "array([-0.09683244,  0.77256034,  0.23932872,  0.40347329,  0.72706019,\n",
       "        0.74153963, -0.38829914, -0.30638037, -0.20424344, -0.3478628 ,\n",
       "       -0.45503338,  2.36767225, -0.39591952, -0.28684949, -0.33466192,\n",
       "       -0.6192023 , -0.34928022, -0.08717455, -0.34019174,  4.33386844,\n",
       "       -0.21810497, -0.12597954, -0.21480924, -1.95071958, -0.21233873,\n",
       "       -0.09262986, -0.06207394, -0.11899384, -0.30991743, -0.18052296,\n",
       "       -0.34330472,  0.89146314, -0.58555843, -0.27214584, -0.50140253,\n",
       "       -0.10370223, -0.06765749, -0.20178612, -0.62906313,  1.57555488,\n",
       "       -0.25768539, -0.21291538, -0.18459295, -0.82530726, -0.2472216 ])"
      ]
     },
     "execution_count": 117,
     "metadata": {},
     "output_type": "execute_result"
    }
   ],
   "source": [
    "# Despite scaling not being necessary, we can keep the test and train splits we used for previous models. \n",
    "# Inspecting the preprocessed train split data\n",
    "X_train_scaled[0]"
   ]
  },
  {
   "cell_type": "markdown",
   "id": "946b5151",
   "metadata": {},
   "source": [
    "#### 5. c. 2. Building a Baseline Decision Tree Model"
   ]
  },
  {
   "cell_type": "markdown",
   "id": "78be4544",
   "metadata": {},
   "source": [
    "Build and evaluate a baseline decision tree model, using default hyperparameters (with the exception of random_state=42 for reproducibility)."
   ]
  },
  {
   "cell_type": "code",
   "execution_count": 118,
   "id": "bca0c5e0",
   "metadata": {
    "scrolled": false
   },
   "outputs": [
    {
     "data": {
      "text/plain": [
       "6.27616100716701"
      ]
     },
     "execution_count": 118,
     "metadata": {},
     "output_type": "execute_result"
    }
   ],
   "source": [
    "# Impoting the library\n",
    "from sklearn.tree import DecisionTreeClassifier\n",
    "\n",
    "# Instantiating the model \n",
    "dtree_baseline_model = DecisionTreeClassifier(random_state=42)\n",
    "\n",
    "# Fitting the model to the training data\n",
    "dtree_baseline_model.fit(X_train_scaled, y_train)\n",
    "\n",
    "# Calculating and print cross_val negative log loss\n",
    "dtree_baseline_log_losscv = -cross_val_score(dtree_baseline_model, X_train_scaled, y_train, scoring=\"neg_log_loss\").mean()\n",
    "dtree_baseline_log_losscv"
   ]
  },
  {
   "cell_type": "markdown",
   "id": "9b0479be",
   "metadata": {},
   "source": [
    "**Evaluating the model**"
   ]
  },
  {
   "cell_type": "code",
   "execution_count": 119,
   "id": "099b2c78",
   "metadata": {},
   "outputs": [
    {
     "name": "stdout",
     "output_type": "stream",
     "text": [
      "Evaluation scores for Decision Tree Baseline \n",
      "Log Loss: 5.974108406144881\n",
      "Recall Score: 0.6997789240972734\n",
      "Accuracy Score: 0.7667340067340067\n"
     ]
    }
   ],
   "source": [
    "# Evaluating the model\n",
    "dt_model_base = 'Decision Tree Baseline'\n",
    "\n",
    "# Running the evaluation metrics thanks to the previously defined function\n",
    "log_loss_dt_base, recall_dt_base, accuracy_dt_base = eval_scores(\n",
    "    dt_model_base, dtree_baseline_model, X_test_scaled, y_test)"
   ]
  },
  {
   "cell_type": "markdown",
   "id": "b0593c48",
   "metadata": {},
   "source": [
    "The scores indicate much worse results than either the logistic regression or the kNN models, particularly the log loss. \n",
    "\n",
    "The first assumption is that the model was highly overfitting,  since it was not \"pruned\" at all."
   ]
  },
  {
   "cell_type": "markdown",
   "id": "0f9fe479",
   "metadata": {},
   "source": [
    "#### 5. c. 3. Building Iterative Models to Find the Best Decision Tree Model"
   ]
  },
  {
   "cell_type": "markdown",
   "id": "0893185e",
   "metadata": {},
   "source": [
    "The parameter that will be modified will be to increase the number of minimum samples leaf. \n",
    "\n",
    "Increasing this parameter simplifies the tree structure,  allows to promote better generalization to new data and reduces the risk of overfitting. \n"
   ]
  },
  {
   "cell_type": "markdown",
   "id": "09f7e09f",
   "metadata": {},
   "source": [
    "As opposed to modeling with  k-Nearest Neighbors, scaling is not necessarily required when using a Decision Tree classifier. \n",
    "Since Decision Trees make splits based on individual features, they are not impacted by the scale of other ones."
   ]
  },
  {
   "cell_type": "markdown",
   "id": "35f2a2ce",
   "metadata": {},
   "source": [
    "<u>min_samples_leaf: 10</u>"
   ]
  },
  {
   "cell_type": "code",
   "execution_count": 120,
   "id": "0e84d9fb",
   "metadata": {},
   "outputs": [
    {
     "data": {
      "text/plain": [
       "1.2344897344424464"
      ]
     },
     "execution_count": 120,
     "metadata": {},
     "output_type": "execute_result"
    }
   ],
   "source": [
    "# Instantiating the model with new parameter\n",
    "dtree_second_model = DecisionTreeClassifier(random_state=42, min_samples_leaf=10)\n",
    "\n",
    "# Fitting the model to the training data\n",
    "dtree_second_model.fit(X_train_scaled, y_train)\n",
    "\n",
    "# Calculating and print cross_val negative log loss\n",
    "dtree_second_log_losscv = -cross_val_score(dtree_second_model, X_train_scaled, y_train, scoring=\"neg_log_loss\").mean()\n",
    "dtree_second_log_losscv"
   ]
  },
  {
   "cell_type": "markdown",
   "id": "08c56315",
   "metadata": {},
   "source": [
    "**Evaluating the model**"
   ]
  },
  {
   "cell_type": "code",
   "execution_count": 121,
   "id": "81f7f320",
   "metadata": {
    "scrolled": true
   },
   "outputs": [
    {
     "name": "stdout",
     "output_type": "stream",
     "text": [
      "Evaluation scores for Second Decision Tree  \n",
      "Log Loss: 1.155028437585271\n",
      "Recall Score: 0.7022844509948416\n",
      "Accuracy Score: 0.7772390572390573\n"
     ]
    }
   ],
   "source": [
    "# Evaluating the model\n",
    "dt_second_model = 'Second Decision Tree '\n",
    "\n",
    "# Running the evaluation metrics thanks to the previously defined function\n",
    "log_loss_dt_second, recall_dt_second, accuracy_dt_second = eval_scores(\n",
    "    dt_second_model, dtree_second_model, X_test_scaled, y_test)"
   ]
  },
  {
   "cell_type": "markdown",
   "id": "1273d9c3",
   "metadata": {},
   "source": [
    "Raising the minimum number of samples per leaf from 1 to 10 effectively reduce overfitting.\n",
    "\n",
    "We will now try to increase it further to review whether this can improve further the model's performance.  "
   ]
  },
  {
   "cell_type": "markdown",
   "id": "b180be4b",
   "metadata": {},
   "source": [
    "<u>min_samples_leaf: 100</u>"
   ]
  },
  {
   "cell_type": "code",
   "execution_count": 122,
   "id": "be89d841",
   "metadata": {
    "scrolled": true
   },
   "outputs": [
    {
     "data": {
      "text/plain": [
       "0.5100548158664351"
      ]
     },
     "execution_count": 122,
     "metadata": {},
     "output_type": "execute_result"
    }
   ],
   "source": [
    "# Instantiating the model with new parameter\n",
    "dtree_third_model = DecisionTreeClassifier(random_state=42, min_samples_leaf=100)\n",
    "\n",
    "# Fitting the model to the training data\n",
    "dtree_third_model.fit(X_train_scaled, y_train)\n",
    "\n",
    "# Calculating and printing cross_val negative log loss\n",
    "dtree_third_log_loss = -cross_val_score(dtree_third_model, X_train_scaled, y_train, scoring=\"neg_log_loss\").mean()\n",
    "dtree_third_log_loss"
   ]
  },
  {
   "cell_type": "markdown",
   "id": "2c878a14",
   "metadata": {},
   "source": [
    "**Evaluating the model**"
   ]
  },
  {
   "cell_type": "code",
   "execution_count": 123,
   "id": "7335aff8",
   "metadata": {
    "scrolled": true
   },
   "outputs": [
    {
     "name": "stdout",
     "output_type": "stream",
     "text": [
      "Evaluation scores for Third Decision Tree  \n",
      "Log Loss: 0.5229459255686422\n",
      "Recall Score: 0.6471628592483419\n",
      "Accuracy Score: 0.7608080808080808\n"
     ]
    }
   ],
   "source": [
    "# Evaluating the model\n",
    "dt_third_model = 'Third Decision Tree '\n",
    "\n",
    "# Running the evaluation metrics thanks to the previously defined function\n",
    "log_loss_dt_third, recall_dt_third, accuracy_dt_third = eval_scores(\n",
    "    dt_third_model, dtree_third_model, X_test_scaled, y_test)"
   ]
  },
  {
   "cell_type": "markdown",
   "id": "1b590407",
   "metadata": {},
   "source": [
    "The scoring metrics are now comparable to the ones we got previously, with a log loss below 1. Nevertheless, recall was reduced and went from 0.70 to below 0.65. \n",
    "\n",
    "The dataset was imbalanced and although data was scaled, Decision Trees are not sensitive to scaling the same way other models are. We will then indicate that the dataset is imbalanced, through the `class_weight` parameter. "
   ]
  },
  {
   "cell_type": "markdown",
   "id": "a18be648",
   "metadata": {},
   "source": [
    "<u>class_weight: balanced</u>"
   ]
  },
  {
   "cell_type": "code",
   "execution_count": 124,
   "id": "d04a25bd",
   "metadata": {
    "scrolled": true
   },
   "outputs": [
    {
     "data": {
      "text/plain": [
       "0.5116867402863869"
      ]
     },
     "execution_count": 124,
     "metadata": {},
     "output_type": "execute_result"
    }
   ],
   "source": [
    "# Instantiating the model with new parameter\n",
    "dtree_fourth_model = DecisionTreeClassifier(random_state=42, min_samples_leaf=100, class_weight=\"balanced\")\n",
    "\n",
    "# Fitting the model to the training data\n",
    "dtree_fourth_model.fit(X_train_scaled, y_train)\n",
    "\n",
    "# Calculating and printing cross_val negative log loss\n",
    "dtree_fourth_log_loss = -cross_val_score(dtree_fourth_model, X_train_scaled, y_train, scoring=\"neg_log_loss\").mean()\n",
    "dtree_fourth_log_loss"
   ]
  },
  {
   "cell_type": "markdown",
   "id": "25b3cd85",
   "metadata": {},
   "source": [
    "**Evaluating the model**"
   ]
  },
  {
   "cell_type": "code",
   "execution_count": 125,
   "id": "bb993ed0",
   "metadata": {
    "scrolled": false
   },
   "outputs": [
    {
     "name": "stdout",
     "output_type": "stream",
     "text": [
      "Evaluation scores for Fourth Decision Tree  \n",
      "Log Loss: 0.524840138829187\n",
      "Recall Score: 0.6957995578481946\n",
      "Accuracy Score: 0.7574410774410775\n"
     ]
    }
   ],
   "source": [
    "# Evaluating the model\n",
    "dt_fourth_model = 'Fourth Decision Tree '\n",
    "\n",
    "# Running the evaluation metrics thanks to the previously defined function\n",
    "log_loss_dt_fourth, recall_dt_fourth, accuracy_dt_fourth = eval_scores(\n",
    "    dt_fourth_model, dtree_fourth_model, X_test_scaled, y_test)"
   ]
  },
  {
   "cell_type": "markdown",
   "id": "5e1bcde8",
   "metadata": {},
   "source": [
    "While Recall score increased, both log loss and accuracy decreased, which indicates the `class_weight` parameter did not improve the model. We will remove it next. \n",
    "\n",
    "The next element we will try modifying to improve the model is the number of dimensions. We will use `max_features`=\"sqrt\": which considers a number of dimensions equal to the square root of the total number of dimensions at each node for splitting.  "
   ]
  },
  {
   "cell_type": "markdown",
   "id": "185525f4",
   "metadata": {},
   "source": [
    "<u>max_features: \"sqrt\"</u>"
   ]
  },
  {
   "cell_type": "code",
   "execution_count": 126,
   "id": "2de54bb9",
   "metadata": {
    "scrolled": true
   },
   "outputs": [
    {
     "data": {
      "text/plain": [
       "0.5456138857386612"
      ]
     },
     "execution_count": 126,
     "metadata": {},
     "output_type": "execute_result"
    }
   ],
   "source": [
    "# Instantiating the model with new parameter\n",
    "dtree_fifth_model = DecisionTreeClassifier(random_state=42, min_samples_leaf=100, max_features=\"sqrt\")\n",
    "\n",
    "# Fitting the model to the training data\n",
    "dtree_fifth_model.fit(X_train_scaled, y_train)\n",
    "\n",
    "# Calculating and printing cross_val negative log loss\n",
    "dtree_fifth_log_loss = -cross_val_score(dtree_fifth_model, X_train, y_train, scoring=\"neg_log_loss\").mean()\n",
    "dtree_fifth_log_loss"
   ]
  },
  {
   "cell_type": "markdown",
   "id": "96a4f644",
   "metadata": {},
   "source": [
    "**Evaluating the model**"
   ]
  },
  {
   "cell_type": "code",
   "execution_count": 127,
   "id": "3bc9f286",
   "metadata": {
    "scrolled": true
   },
   "outputs": [
    {
     "name": "stdout",
     "output_type": "stream",
     "text": [
      "Evaluation scores for Fifth Decision Tree  \n",
      "Log Loss: 0.5277621778643636\n",
      "Recall Score: 0.5515106853352985\n",
      "Accuracy Score: 0.7234343434343434\n"
     ]
    }
   ],
   "source": [
    "# Evaluating the model\n",
    "dt_fifth_model = 'Fifth Decision Tree '\n",
    "\n",
    "# Running the evaluation metrics thanks to the previously defined function\n",
    "log_loss_dt_fifth, recall_dt_fifth, accuracy_dt_fifth = eval_scores(\n",
    "    dt_fifth_model, dtree_fifth_model, X_test_scaled, y_test)"
   ]
  },
  {
   "cell_type": "markdown",
   "id": "601fc3e2",
   "metadata": {},
   "source": [
    "All scores now worsened. We will try one last minimum samples leaf parameter tuning to review whether this can improve the model again.  "
   ]
  },
  {
   "cell_type": "markdown",
   "id": "f63f671f",
   "metadata": {},
   "source": [
    "<u>min_samples_leaf: 75</u>"
   ]
  },
  {
   "cell_type": "code",
   "execution_count": 128,
   "id": "3cd7f6d9",
   "metadata": {
    "scrolled": true
   },
   "outputs": [
    {
     "data": {
      "text/plain": [
       "0.518644268665539"
      ]
     },
     "execution_count": 128,
     "metadata": {},
     "output_type": "execute_result"
    }
   ],
   "source": [
    "# Instantiating the model with new parameter\n",
    "dtree_sixth_model = DecisionTreeClassifier(random_state=42, min_samples_leaf=75)\n",
    "\n",
    "# Fitting the model to the training data\n",
    "dtree_sixth_model.fit(X_train_scaled, y_train)\n",
    "\n",
    "# Calculating and printing cross_val negative log loss\n",
    "dtree_sixth_log_loss = -cross_val_score(dtree_sixth_model, X_train_scaled, y_train, scoring=\"neg_log_loss\").mean()\n",
    "dtree_sixth_log_loss"
   ]
  },
  {
   "cell_type": "markdown",
   "id": "01b9a725",
   "metadata": {},
   "source": [
    "**Evaluating the model**"
   ]
  },
  {
   "cell_type": "code",
   "execution_count": 129,
   "id": "3aac3a88",
   "metadata": {
    "scrolled": true
   },
   "outputs": [
    {
     "name": "stdout",
     "output_type": "stream",
     "text": [
      "Evaluation scores for Sixth Decision Tree  \n",
      "Log Loss: 0.5300264883742485\n",
      "Recall Score: 0.653647752394989\n",
      "Accuracy Score: 0.7698989898989899\n"
     ]
    }
   ],
   "source": [
    "# Evaluating the model\n",
    "dt_sixth_model = 'Sixth Decision Tree '\n",
    "\n",
    "# Running the evaluation metrics thanks to the previously defined function\n",
    "log_loss_dt_sixth, recall_dt_sixth, accuracy_dt_sixth = eval_scores(\n",
    "    dt_sixth_model, dtree_sixth_model, X_test_scaled, y_test)"
   ]
  },
  {
   "cell_type": "markdown",
   "id": "85ecb413",
   "metadata": {},
   "source": [
    "Tuning manually the hyperparameters did not improve the model performance. \n",
    "We will revert to Combinatoric Grid Searching. "
   ]
  },
  {
   "cell_type": "markdown",
   "id": "8d2412c9",
   "metadata": {},
   "source": [
    "#### 5. c. 4. Hyperparameter Tuning with Combinatoric Grid Searching"
   ]
  },
  {
   "cell_type": "markdown",
   "id": "ac77d172",
   "metadata": {},
   "source": [
    "Since we could not get results as good as we did through KNN, using Decision Trees, let's try to search for optimal hyperparameters using Combinatoric Grid Searching - or GridSearchCV.  \n",
    "We will instantiate a baseline DecisionTreeClassifier, without including any parameter to ensure they can be optimized through GridSearchCV. "
   ]
  },
  {
   "cell_type": "code",
   "execution_count": 130,
   "id": "deee4f29",
   "metadata": {},
   "outputs": [
    {
     "name": "stdout",
     "output_type": "stream",
     "text": [
      "Mean Cross Validation Score: 75.90%\n"
     ]
    }
   ],
   "source": [
    "# Relevant imports\n",
    "from sklearn.model_selection import GridSearchCV\n",
    "\n",
    "# Instantiating a DecisionTreeClassifier\n",
    "dt_clf = DecisionTreeClassifier()\n",
    "\n",
    "# Fitting the model to the training data\n",
    "dt_clf.fit(X_train_scaled, y_train)\n",
    "\n",
    "# Performing a 3-fold cross-validation on the training data using this classifier\n",
    "dt_cv_score = cross_val_score(dt_clf, X_train_scaled, y_train, cv=3)\n",
    "\n",
    "# Calculating the mean cross-validation score from the model\n",
    "mean_dt_cv_score = np.mean(dt_cv_score)\n",
    "\n",
    "print(f\"Mean Cross Validation Score: {mean_dt_cv_score :.2%}\")"
   ]
  },
  {
   "cell_type": "code",
   "execution_count": 131,
   "id": "86dea4e4",
   "metadata": {},
   "outputs": [
    {
     "name": "stdout",
     "output_type": "stream",
     "text": [
      "Evaluation scores for Vanilla DT  \n",
      "Log Loss: 6.1025917810301165\n",
      "Recall Score: 0.6957995578481946\n",
      "Accuracy Score: 0.7634343434343435\n"
     ]
    }
   ],
   "source": [
    "# Evaluating the initial model\n",
    "dt_clf_model = 'Vanilla DT '\n",
    "\n",
    "# Running the evaluation metrics thanks to the previously defined function\n",
    "log_loss_dt_clf, recall_dt_clf, accuracy_dt_clf = eval_scores(\n",
    "    dt_clf_model, dt_clf, X_test_scaled, y_test)"
   ]
  },
  {
   "cell_type": "code",
   "execution_count": 132,
   "id": "bcbf5dc2",
   "metadata": {},
   "outputs": [],
   "source": [
    "# Creating the Grid Search\n",
    "dt_param_grid = {\n",
    "    'criterion': ['gini', 'entropy'],  # Split criterion (impurity function)\n",
    "    'splitter': ['best', 'random'],    # Strategy to choose the split at each node\n",
    "    'max_depth': [None, 10, 20, 30],   # Maximum depth of the tree\n",
    "    'min_samples_split': [2, 5, 10],  # Minimum number of samples required to split an internal node\n",
    "    'min_samples_leaf': [1, 2, 4],    # Minimum number of samples required to be at a leaf node\n",
    "}"
   ]
  },
  {
   "cell_type": "markdown",
   "id": "354c5619",
   "metadata": {},
   "source": [
    "We now can use this dt_param_grid dictionary as an argument when creating our GridSearch object"
   ]
  },
  {
   "cell_type": "markdown",
   "id": "94dc9823",
   "metadata": {},
   "source": [
    "Grid Search trains a model on the dataset for every distinct set of parameters, ultimately providing the configuration that produced the best-performing model. To prevent the influence of random variations, it is common practice to apply K-Fold cross-validation. Here, we chose K=3 so 3 different models will be trained for each of the unique parameter combination. "
   ]
  },
  {
   "cell_type": "code",
   "execution_count": 133,
   "id": "a2cb1095",
   "metadata": {},
   "outputs": [],
   "source": [
    "# Instantiating GridSearchCV\n",
    "dt_grid_search = GridSearchCV(dt_clf, dt_param_grid, cv=3, return_train_score=True)\n",
    "\n",
    "# Fitting to the data\n",
    "dt_grid_search.fit(X_train_scaled, y_train)\n",
    "\n",
    "# Making predictions on the test data\n",
    "y_pred = dt_grid_search.predict(X_test_scaled)"
   ]
  },
  {
   "cell_type": "markdown",
   "id": "da1ad66d",
   "metadata": {},
   "source": [
    "<u>Examining the best parameters</u> "
   ]
  },
  {
   "cell_type": "code",
   "execution_count": 134,
   "id": "6517473f",
   "metadata": {
    "scrolled": false
   },
   "outputs": [
    {
     "name": "stdout",
     "output_type": "stream",
     "text": [
      "Mean Training Score: 83.14%\n",
      "Mean Test Score: 78.08%\n"
     ]
    }
   ],
   "source": [
    "# Mean training score\n",
    "dt_gs_training_score = np.mean(dt_grid_search.cv_results_[\"mean_train_score\"])\n",
    "\n",
    "# Mean test score\n",
    "dt_gs_testing_score = dt_grid_search.score(X_test_scaled, y_test)\n",
    "\n",
    "\n",
    "print(f\"Mean Training Score: {dt_gs_training_score :.2%}\")\n",
    "print(f\"Mean Test Score: {dt_gs_testing_score :.2%}\")\n"
   ]
  },
  {
   "cell_type": "markdown",
   "id": "b97af45b",
   "metadata": {},
   "source": [
    "**Evaluating the model**"
   ]
  },
  {
   "cell_type": "code",
   "execution_count": 135,
   "id": "8b784948",
   "metadata": {
    "scrolled": false
   },
   "outputs": [
    {
     "name": "stdout",
     "output_type": "stream",
     "text": [
      "Evaluation scores for GridsearchCV DT Model  \n",
      "Log Loss: 2.8294973974473665\n",
      "Recall Score: 0.6820928518791451\n",
      "Accuracy Score: 0.7808080808080808\n"
     ]
    }
   ],
   "source": [
    "# Evaluating the model\n",
    "dt_gs = 'GridsearchCV DT Model '\n",
    "\n",
    "# Running the evaluation metrics thanks to the previously defined function\n",
    "log_loss_dt_gs, recall_dt_gs, accuracy_dt_gs = eval_scores(\n",
    "    dt_gs, dt_grid_search, X_test_scaled, y_test)"
   ]
  },
  {
   "cell_type": "code",
   "execution_count": 136,
   "id": "114862ca",
   "metadata": {},
   "outputs": [
    {
     "name": "stdout",
     "output_type": "stream",
     "text": [
      "Best Parameter Combination Found During Grid Search:\n"
     ]
    },
    {
     "data": {
      "text/plain": [
       "{'criterion': 'entropy',\n",
       " 'max_depth': None,\n",
       " 'min_samples_leaf': 2,\n",
       " 'min_samples_split': 5,\n",
       " 'splitter': 'random'}"
      ]
     },
     "execution_count": 136,
     "metadata": {},
     "output_type": "execute_result"
    }
   ],
   "source": [
    "# Examining best parameters\n",
    "print(\"Best Parameter Combination Found During Grid Search:\")\n",
    "dt_grid_search.best_params_"
   ]
  },
  {
   "cell_type": "code",
   "execution_count": 137,
   "id": "230e4538",
   "metadata": {},
   "outputs": [],
   "source": [
    "# Defining log loss as the scoring metric (with a 'neg_' prefix to get the negative log loss)\n",
    "log_loss_scorer = make_scorer(log_loss, greater_is_better=False, needs_proba=True)\n",
    "\n",
    "# Performing cross-validation using log loss as the scoring metric\n",
    "log_loss_cv_score = cross_val_score(dt_grid_search, X_train_scaled, y_train, cv=3, scoring=log_loss_scorer)"
   ]
  },
  {
   "cell_type": "code",
   "execution_count": 138,
   "id": "71836d27",
   "metadata": {},
   "outputs": [
    {
     "name": "stdout",
     "output_type": "stream",
     "text": [
      "Mean Log Loss Score: 1.8561\n"
     ]
    }
   ],
   "source": [
    "mean_log_loss_cv_score = -np.mean(log_loss_cv_score)  # Negate the mean value to get the positive log loss value\n",
    "\n",
    "print(f\"Mean Log Loss Score: {mean_log_loss_cv_score:.4f}\")"
   ]
  },
  {
   "cell_type": "markdown",
   "id": "abe72776",
   "metadata": {},
   "source": [
    "#### 5. c. 5. Choosing and Evaluating the Best Model"
   ]
  },
  {
   "cell_type": "code",
   "execution_count": 139,
   "id": "b3f13cc3",
   "metadata": {},
   "outputs": [],
   "source": [
    "# Storing all results into three different lists to plot them into a line graph\n",
    "\n",
    "log_loss_dt = [log_loss_dt_base, log_loss_dt_second, log_loss_dt_third, log_loss_dt_fourth, log_loss_dt_fifth, log_loss_dt_sixth, log_loss_dt_gs]\n",
    "recall_dt = [recall_dt_base, recall_dt_second, recall_dt_third, recall_dt_fourth, recall_dt_fifth, recall_dt_sixth, recall_dt_gs]\n",
    "accuracy_dt = [accuracy_dt_base, accuracy_dt_second, accuracy_dt_third, accuracy_dt_fourth, accuracy_dt_fifth, accuracy_dt_sixth, accuracy_dt_gs]"
   ]
  },
  {
   "cell_type": "code",
   "execution_count": 140,
   "id": "a5b3bd09",
   "metadata": {},
   "outputs": [],
   "source": [
    "# Printing results\n",
    "# print(log_loss_dt)\n",
    "# print(accuracy_dt)\n",
    "# print(recall_dt)"
   ]
  },
  {
   "cell_type": "code",
   "execution_count": 141,
   "id": "04d3c1ff",
   "metadata": {},
   "outputs": [
    {
     "data": {
      "image/png": "[encoded data removed]",
      "text/plain": [
       "<Figure size 1000x600 with 1 Axes>"
      ]
     },
     "metadata": {},
     "output_type": "display_data"
    }
   ],
   "source": [
    "# Creating the x-axis values \n",
    "x = range(1, 8)\n",
    "\n",
    "# Creating the line plot\n",
    "plt.figure(figsize=(10, 6))  # Adjust the figure size if needed\n",
    "plt.plot(x, log_loss_dt, label='Log Loss', marker='o', linestyle='-', color='#391600')\n",
    "plt.plot(x, accuracy_dt, label='Accuracy', marker='o', linestyle='-', color='#B88770')\n",
    "plt.plot(x, recall_dt, label='Recall', marker='o', linestyle='-', color='#599E91')\n",
    "\n",
    "# Customizing x-axis tick locations and labels\n",
    "x_ticks = [\"DT base\",\"DT second\",\"DT third\",\"DT fourth\",\"DT fifth\",\"DT sixth\",\"DT gs\"]\n",
    "plt.xticks(x, x_ticks)\n",
    "\n",
    "# Adding labels and title\n",
    "plt.xlabel('Decision Tree Models')\n",
    "plt.ylabel('Scores')\n",
    "plt.title('Model Evaluation Metrics - Decision Trees', fontsize=16)\n",
    "\n",
    "# Adding a legend\n",
    "plt.legend()\n",
    "\n",
    "# Showing the data label of the selected index\n",
    "index_to_annotate = 6  # 2nd index\n",
    "plt.annotate(f'Log loss: {log_loss_dt[index_to_annotate]:.5f}', (x[index_to_annotate], log_loss_dt[index_to_annotate]), textcoords=\"offset points\", xytext=(-25,5), ha='center')\n",
    "plt.annotate(f'Accuracy: {accuracy_dt[index_to_annotate]:.5f}', (x[index_to_annotate], accuracy_dt[index_to_annotate]), textcoords=\"offset points\", xytext=(-25,5), ha='center')\n",
    "plt.annotate(f'Recall: {recall_dt[index_to_annotate]:.5f}', (x[index_to_annotate], recall_dt[index_to_annotate]), textcoords=\"offset points\", xytext=(-25,-15), ha='center')\n",
    "\n",
    "# Save image\n",
    "plt.savefig('images/DT_models.png', transparent=True)\n",
    "\n",
    "# Showing the plot\n",
    "plt.show()"
   ]
  },
  {
   "cell_type": "code",
   "execution_count": 142,
   "id": "d1e362ab",
   "metadata": {},
   "outputs": [],
   "source": [
    "# Storing the best decision tree model into the relevant variable\n",
    "dt_best_model = dt_grid_search.best_estimator_"
   ]
  },
  {
   "cell_type": "markdown",
   "id": "0668a583",
   "metadata": {},
   "source": [
    "#### 5. c. 6. Scores' Summary"
   ]
  },
  {
   "cell_type": "code",
   "execution_count": 143,
   "id": "47b02138",
   "metadata": {
    "scrolled": true
   },
   "outputs": [
    {
     "name": "stdout",
     "output_type": "stream",
     "text": [
      "Evaluation scores for GridsearchCV DT Model  \n",
      "Log Loss: 2.8294973974473665\n",
      "Recall Score: 0.6820928518791451\n",
      "Accuracy Score: 0.7808080808080808\n"
     ]
    }
   ],
   "source": [
    "# Evaluating the model\n",
    "dt_best = 'GridsearchCV DT Model '\n",
    "\n",
    "# Running the evaluation metrics thanks to the previously defined function\n",
    "log_loss_dt_best, recall_dt_best, accuracy_dt_best = eval_scores(\n",
    "    dt_best, dt_best_model, X_test_scaled, y_test)"
   ]
  },
  {
   "cell_type": "markdown",
   "id": "e6aa1dbf",
   "metadata": {},
   "source": [
    "The chosen model prioritizes recall, which measures how well it identifies positive cases. It achieves a recall score of 0.7795, indicating strong performance in this aspect. While the log loss value is higher at 1.5316, signifying uncertainty in predictions, the model maintains an accuracy of 0.6825, offering a good balance between overall accuracy and recall. This makes the model suitable for scenarios where correctly finding positive cases is crucial.\n"
   ]
  },
  {
   "cell_type": "code",
   "execution_count": 144,
   "id": "3cdf576d",
   "metadata": {
    "scrolled": true
   },
   "outputs": [
    {
     "name": "stdout",
     "output_type": "stream",
     "text": [
      "Log Loss: 2.8294973974473665\n",
      "The log loss is much higher than the previous best model: kNN: (0.5080102239905967). The accuracy in predicting probabilities has decreased.\n",
      "\n",
      "Recall Score: 0.6820928518791451\n",
      "Nevertheless, the true positive rate metric has highly increased compared to the 0.6306558585114223 recorded from Logistic Regression models. The model now correctly identifies actual non-functional rates 68% of the time.\n",
      "\n",
      "Accuracy Score: 0.7808080808080808\n",
      "The model correctly predicted close to 78% of wells' conditions. This is an improvement compared to the previously recorded 0.749023569023569\n",
      "\n"
     ]
    }
   ],
   "source": [
    "print(\"Log Loss: {}\".format(log_loss_dt_best))\n",
    "print(\"The log loss is much higher than the previous best model: kNN: ({}\".format(log_loss_knn_fourth) +\"). The accuracy in predicting probabilities has decreased.\")\n",
    "print()\n",
    "print(\"Recall Score: {}\".format(recall_dt_best))\n",
    "print(\"Nevertheless, the true positive rate metric has highly increased compared to the {}\".format(recall_knn_fourth) +\" recorded from Logistic Regression models. The model now correctly identifies actual non-functional rates 68% of the time.\")\n",
    "print()\n",
    "print(\"Accuracy Score: {}\".format(accuracy_dt_best))\n",
    "print(\"The model correctly predicted close to 78% of wells' conditions. This is an improvement compared to the previously recorded {}\".format(accuracy_knn_fourth))\n",
    "print()\n"
   ]
  },
  {
   "cell_type": "markdown",
   "id": "4ea7a8d6",
   "metadata": {},
   "source": [
    "#### 5. c. 7. Features Importance"
   ]
  },
  {
   "cell_type": "markdown",
   "id": "88b00413",
   "metadata": {},
   "source": [
    "We have already determined using RFE the features which had the most impact on our model - but this we will now evaluate them again, using our most recent decision tree.   "
   ]
  },
  {
   "cell_type": "code",
   "execution_count": 145,
   "id": "c2fbb890",
   "metadata": {
    "scrolled": false
   },
   "outputs": [
    {
     "data": {
      "text/plain": [
       "array([0.0507576 , 0.09948664, 0.06600995, 0.01577058, 0.03197783,\n",
       "       0.11090866, 0.01167471, 0.01601341, 0.00716773, 0.01392774,\n",
       "       0.01102854, 0.00760748, 0.01498785, 0.01000259, 0.00706389,\n",
       "       0.01703881, 0.07077598, 0.00298241, 0.01142929, 0.00260366,\n",
       "       0.00582402, 0.0035386 , 0.00778659, 0.01770807, 0.0033241 ,\n",
       "       0.00186556, 0.00151301, 0.00419771, 0.01473871, 0.00815003,\n",
       "       0.17735185, 0.01701401, 0.00734805, 0.00628314, 0.02159481,\n",
       "       0.00308274, 0.00216566, 0.01590384, 0.01083265, 0.02907742,\n",
       "       0.01054186, 0.00717038, 0.00571707, 0.02882617, 0.00922861])"
      ]
     },
     "execution_count": 145,
     "metadata": {},
     "output_type": "execute_result"
    }
   ],
   "source": [
    "# Inspecting feature importances\n",
    "dt_best_model.feature_importances_"
   ]
  },
  {
   "cell_type": "markdown",
   "id": "6d38251a",
   "metadata": {},
   "source": [
    "It is difficult to grasp the importance of features from the above graph - they will be plotted on a graph for a better understanding. "
   ]
  },
  {
   "cell_type": "markdown",
   "id": "d439fcee",
   "metadata": {},
   "source": [
    "To do this, we will first create a color map corresponding to the current color theme/palette."
   ]
  },
  {
   "cell_type": "code",
   "execution_count": 146,
   "id": "1c567149",
   "metadata": {},
   "outputs": [],
   "source": [
    "# Importing relevant packages\n",
    "from matplotlib.colors import LinearSegmentedColormap\n",
    "\n",
    "# Defining a colormap that interpolates between the two defined colors\n",
    "colors = [\"#FFF7F2\", \"#B88770\"]\n",
    "n_bins = 20 \n",
    "\n",
    "# Creating the custom colormap\n",
    "custom_cmap = LinearSegmentedColormap.from_list(\"custom_cmap\", colors, N=n_bins)\n"
   ]
  },
  {
   "cell_type": "code",
   "execution_count": 147,
   "id": "d45c9781",
   "metadata": {},
   "outputs": [
    {
     "data": {
      "image/png": "[encoded data removed]",
      "text/plain": [
       "<Figure size 800x800 with 2 Axes>"
      ]
     },
     "metadata": {},
     "output_type": "display_data"
    }
   ],
   "source": [
    "# Importing relevant packages\n",
    "from matplotlib.colors import Normalize\n",
    "from matplotlib.cm import ScalarMappable\n",
    "\n",
    "# Visualizing feature importances with automatically determined colors and sorted in descending order\n",
    "def plot_top_feature_importances(model, X_columns, top_n, cmap=custom_cmap):\n",
    "    n_features = X_columns.shape[0]\n",
    "    feature_importances = model.feature_importances_\n",
    "\n",
    "    # Sorting feature importances in descending order and get the corresponding indices\n",
    "    sorted_indices = np.argsort(feature_importances)[::-1]\n",
    "\n",
    "    # Selecting the top 'top_n' features\n",
    "    top_indices = sorted_indices[:top_n]\n",
    "\n",
    "    # Sorting the feature names based on the selected top indices\n",
    "    top_feature_names = X_columns[top_indices]\n",
    "\n",
    "    # Sorting the feature importances for the selected top features\n",
    "    top_feature_importances = feature_importances[top_indices]\n",
    "\n",
    "    # Reverse the order to make it descending\n",
    "    top_feature_names = top_feature_names[::-1]\n",
    "    top_feature_importances = top_feature_importances[::-1]\n",
    "\n",
    "    # Determining the minimum and maximum importance values\n",
    "    min_importance = np.min(top_feature_importances) - 0.08\n",
    "    max_importance = np.max(top_feature_importances)\n",
    "\n",
    "    # Creating a colormap\n",
    "    cmap = plt.get_cmap(cmap)\n",
    "\n",
    "    # Normalizing importance values\n",
    "    norm = Normalize(vmin=min_importance, vmax=max_importance)\n",
    "\n",
    "    # Assigning colors to the bars based on the normalized importance values\n",
    "    colors = cmap(norm(top_feature_importances))\n",
    "\n",
    "    # Creating the figure and axis\n",
    "    fig, ax = plt.subplots(figsize=(8, 8))\n",
    "\n",
    "    bars = ax.barh(range(top_n), top_feature_importances, align='center', color=colors)\n",
    "    plt.yticks(range(top_n), top_feature_names)\n",
    "    plt.xlabel('Feature importance')\n",
    "    plt.ylabel('Feature')\n",
    "    plt.title('Top {} Most Important Features for the Model'.format(top_n), fontsize=16)\n",
    "\n",
    "    # Adding a colorbar to the right of the plot\n",
    "    sm = ScalarMappable(cmap=cmap, norm=norm)\n",
    "    sm.set_array([])\n",
    "    plt.colorbar(sm, ax=ax, orientation='vertical', aspect=30)\n",
    "\n",
    "    # Adding a vertical line at 0.05\n",
    "    ax.axvline(x=0.05, color='#402E32', linestyle='--', label='Threshold at 0.05')\n",
    "\n",
    "# Calling the function with the model and the column names, displaying the top 10 features\n",
    "plot_top_feature_importances(dt_best_model, X_selected.columns, top_n=10)\n",
    "plt.show()"
   ]
  },
  {
   "cell_type": "markdown",
   "id": "6ae75624",
   "metadata": {},
   "source": [
    "The training accuracy score was better than the test one, indicating the model is slightly overfitting. \n",
    "We will try a fourth model: Random Forest, which is effective at overfitting."
   ]
  },
  {
   "cell_type": "markdown",
   "id": "20c23396",
   "metadata": {},
   "source": [
    "### 5. d. Random Forest"
   ]
  },
  {
   "cell_type": "markdown",
   "id": "2de5d2c3",
   "metadata": {},
   "source": [
    "We will use the last Decision Trees model as a baseline. "
   ]
  },
  {
   "cell_type": "markdown",
   "id": "c600b0ce",
   "metadata": {},
   "source": [
    "Random Forest is an ensemble method that combines the strength of multiple decision trees to improve model performance, and which is effective in reducing overfitting compared to single decision trees.\n",
    "\n",
    "* **Training Speed**: Moderate. Random Forest builds multiple decision trees in parallel, which is faster than single trees but still slower than linear models.\n",
    "\n",
    "* **Prediction Speed**: Fast. Aggregating predictions from multiple trees is efficient.\n",
    "\n",
    "* **Scaling Requirement**: No scaling required. It's not sensitive to feature scaling and handles categorical data well.\n",
    "\n",
    "* **Key Hyperparameters**: Important hyperparameters include n_estimators (number of trees), max_depth (tree depth), min_samples_split, min_samples_leaf, max_features, and criterion (splitting metric).\n"
   ]
  },
  {
   "cell_type": "markdown",
   "id": "b1c05b94",
   "metadata": {},
   "source": [
    "#### 5. d. 1. Preparing Data for Modeling"
   ]
  },
  {
   "cell_type": "markdown",
   "id": "fa1b62ac",
   "metadata": {},
   "source": [
    "The data was previously prepared - we will just ensure it uses the most recently selected ones. "
   ]
  },
  {
   "cell_type": "markdown",
   "id": "b2f63304",
   "metadata": {},
   "source": [
    "#### 5. d. 2. Building an Initial Random Forest Classifier"
   ]
  },
  {
   "cell_type": "code",
   "execution_count": 148,
   "id": "e5895786",
   "metadata": {},
   "outputs": [],
   "source": [
    "# from sklearn.ensemble import BaggingClassifier\n",
    "from sklearn.ensemble import RandomForestClassifier"
   ]
  },
  {
   "cell_type": "code",
   "execution_count": 149,
   "id": "2e4d939a",
   "metadata": {
    "scrolled": true
   },
   "outputs": [
    {
     "data": {
      "text/html": [
       "<style>#sk-container-id-2 {color: black;background-color: white;}#sk-container-id-2 pre{padding: 0;}#sk-container-id-2 div.sk-toggleable {background-color: white;}#sk-container-id-2 label.sk-toggleable__label {cursor: pointer;display: block;width: 100%;margin-bottom: 0;padding: 0.3em;box-sizing: border-box;text-align: center;}#sk-container-id-2 label.sk-toggleable__label-arrow:before {content: \"▸\";float: left;margin-right: 0.25em;color: #696969;}#sk-container-id-2 label.sk-toggleable__label-arrow:hover:before {color: black;}#sk-container-id-2 div.sk-estimator:hover label.sk-toggleable__label-arrow:before {color: black;}#sk-container-id-2 div.sk-toggleable__content {max-height: 0;max-width: 0;overflow: hidden;text-align: left;background-color: #f0f8ff;}#sk-container-id-2 div.sk-toggleable__content pre {margin: 0.2em;color: black;border-radius: 0.25em;background-color: #f0f8ff;}#sk-container-id-2 input.sk-toggleable__control:checked~div.sk-toggleable__content {max-height: 200px;max-width: 100%;overflow: auto;}#sk-container-id-2 input.sk-toggleable__control:checked~label.sk-toggleable__label-arrow:before {content: \"▾\";}#sk-container-id-2 div.sk-estimator input.sk-toggleable__control:checked~label.sk-toggleable__label {background-color: #d4ebff;}#sk-container-id-2 div.sk-label input.sk-toggleable__control:checked~label.sk-toggleable__label {background-color: #d4ebff;}#sk-container-id-2 input.sk-hidden--visually {border: 0;clip: rect(1px 1px 1px 1px);clip: rect(1px, 1px, 1px, 1px);height: 1px;margin: -1px;overflow: hidden;padding: 0;position: absolute;width: 1px;}#sk-container-id-2 div.sk-estimator {font-family: monospace;background-color: #f0f8ff;border: 1px dotted black;border-radius: 0.25em;box-sizing: border-box;margin-bottom: 0.5em;}#sk-container-id-2 div.sk-estimator:hover {background-color: #d4ebff;}#sk-container-id-2 div.sk-parallel-item::after {content: \"\";width: 100%;border-bottom: 1px solid gray;flex-grow: 1;}#sk-container-id-2 div.sk-label:hover label.sk-toggleable__label {background-color: #d4ebff;}#sk-container-id-2 div.sk-serial::before {content: \"\";position: absolute;border-left: 1px solid gray;box-sizing: border-box;top: 0;bottom: 0;left: 50%;z-index: 0;}#sk-container-id-2 div.sk-serial {display: flex;flex-direction: column;align-items: center;background-color: white;padding-right: 0.2em;padding-left: 0.2em;position: relative;}#sk-container-id-2 div.sk-item {position: relative;z-index: 1;}#sk-container-id-2 div.sk-parallel {display: flex;align-items: stretch;justify-content: center;background-color: white;position: relative;}#sk-container-id-2 div.sk-item::before, #sk-container-id-2 div.sk-parallel-item::before {content: \"\";position: absolute;border-left: 1px solid gray;box-sizing: border-box;top: 0;bottom: 0;left: 50%;z-index: -1;}#sk-container-id-2 div.sk-parallel-item {display: flex;flex-direction: column;z-index: 1;position: relative;background-color: white;}#sk-container-id-2 div.sk-parallel-item:first-child::after {align-self: flex-end;width: 50%;}#sk-container-id-2 div.sk-parallel-item:last-child::after {align-self: flex-start;width: 50%;}#sk-container-id-2 div.sk-parallel-item:only-child::after {width: 0;}#sk-container-id-2 div.sk-dashed-wrapped {border: 1px dashed gray;margin: 0 0.4em 0.5em 0.4em;box-sizing: border-box;padding-bottom: 0.4em;background-color: white;}#sk-container-id-2 div.sk-label label {font-family: monospace;font-weight: bold;display: inline-block;line-height: 1.2em;}#sk-container-id-2 div.sk-label-container {text-align: center;}#sk-container-id-2 div.sk-container {/* jupyter's `normalize.less` sets `[hidden] { display: none; }` but bootstrap.min.css set `[hidden] { display: none !important; }` so we also need the `!important` here to be able to override the default hidden behavior on the sphinx rendered scikit-learn.org. See: https://github.com/scikit-learn/scikit-learn/issues/21755 */display: inline-block !important;position: relative;}#sk-container-id-2 div.sk-text-repr-fallback {display: none;}</style><div id=\"sk-container-id-2\" class=\"sk-top-container\"><div class=\"sk-text-repr-fallback\"><pre>RandomForestClassifier(max_depth=5)</pre><b>In a Jupyter environment, please rerun this cell to show the HTML representation or trust the notebook. <br />On GitHub, the HTML representation is unable to render, please try loading this page with nbviewer.org.</b></div><div class=\"sk-container\" hidden><div class=\"sk-item\"><div class=\"sk-estimator sk-toggleable\"><input class=\"sk-toggleable__control sk-hidden--visually\" id=\"sk-estimator-id-2\" type=\"checkbox\" checked><label for=\"sk-estimator-id-2\" class=\"sk-toggleable__label sk-toggleable__label-arrow\">RandomForestClassifier</label><div class=\"sk-toggleable__content\"><pre>RandomForestClassifier(max_depth=5)</pre></div></div></div></div></div>"
      ],
      "text/plain": [
       "RandomForestClassifier(max_depth=5)"
      ]
     },
     "execution_count": 149,
     "metadata": {},
     "output_type": "execute_result"
    }
   ],
   "source": [
    "# Instantiating and fitting a 'vanilla' RandomForestClassifier\n",
    "forest = RandomForestClassifier(n_estimators=100, max_depth= 5)\n",
    "forest.fit(X_train_scaled, y_train)"
   ]
  },
  {
   "cell_type": "markdown",
   "id": "26ce62dc",
   "metadata": {},
   "source": [
    "The `score` method for classifiers in scikit-learn by default computes the accuracy"
   ]
  },
  {
   "cell_type": "code",
   "execution_count": 150,
   "id": "3021457b",
   "metadata": {},
   "outputs": [
    {
     "data": {
      "text/plain": [
       "0.7146576879910214"
      ]
     },
     "execution_count": 150,
     "metadata": {},
     "output_type": "execute_result"
    }
   ],
   "source": [
    "# Inspecting the training accuracy score\n",
    "forest.score(X_train_scaled, y_train)"
   ]
  },
  {
   "cell_type": "code",
   "execution_count": 151,
   "id": "8723e310",
   "metadata": {
    "scrolled": true
   },
   "outputs": [
    {
     "data": {
      "text/plain": [
       "0.714949494949495"
      ]
     },
     "execution_count": 151,
     "metadata": {},
     "output_type": "execute_result"
    }
   ],
   "source": [
    "# Inspecting the test accuracy score\n",
    "forest.score(X_test_scaled, y_test)"
   ]
  },
  {
   "cell_type": "markdown",
   "id": "7e757c44",
   "metadata": {},
   "source": [
    "This model looks like it is currently performing better than others and shows no signs of overfitting. Nevertheless, we will compare it with the same measures as all other models, using our `eval_scores` function.  "
   ]
  },
  {
   "cell_type": "markdown",
   "id": "bbdf54d3",
   "metadata": {},
   "source": [
    "**Evaluating the model**"
   ]
  },
  {
   "cell_type": "code",
   "execution_count": 152,
   "id": "3ff30f5a",
   "metadata": {
    "scrolled": false
   },
   "outputs": [
    {
     "name": "stdout",
     "output_type": "stream",
     "text": [
      "Evaluation scores for Initial Forest \n",
      "Log Loss: 0.564303903341768\n",
      "Recall Score: 0.4683861459100958\n",
      "Accuracy Score: 0.714949494949495\n"
     ]
    }
   ],
   "source": [
    "# Evaluating the model\n",
    "forest_model = 'Initial Forest'\n",
    "\n",
    "# Running the evaluation metrics thanks to the previously defined function\n",
    "log_loss_f, recall_f, accuracy_f = eval_scores(\n",
    "    forest_model, forest, X_test_scaled, y_test)"
   ]
  },
  {
   "cell_type": "markdown",
   "id": "355d2688",
   "metadata": {},
   "source": [
    "While accuracy looks relatively high and log loss low, the recall score is much lower than we would expect - especially knowing the importance of recall in this context.  "
   ]
  },
  {
   "cell_type": "markdown",
   "id": "680dda74",
   "metadata": {},
   "source": [
    "#### 5. d. 3. Building Iterative Models to Find the Best Random Forest Model"
   ]
  },
  {
   "cell_type": "markdown",
   "id": "6c0145a3",
   "metadata": {},
   "source": [
    "We will now try to improve the model by reducing its depth and reducing the number of features chosen. "
   ]
  },
  {
   "cell_type": "markdown",
   "id": "696f1a70",
   "metadata": {},
   "source": [
    "<u>Random Forest 2</u>"
   ]
  },
  {
   "cell_type": "code",
   "execution_count": 153,
   "id": "b10f9e5a",
   "metadata": {
    "scrolled": true
   },
   "outputs": [
    {
     "data": {
      "text/html": [
       "<style>#sk-container-id-3 {color: black;background-color: white;}#sk-container-id-3 pre{padding: 0;}#sk-container-id-3 div.sk-toggleable {background-color: white;}#sk-container-id-3 label.sk-toggleable__label {cursor: pointer;display: block;width: 100%;margin-bottom: 0;padding: 0.3em;box-sizing: border-box;text-align: center;}#sk-container-id-3 label.sk-toggleable__label-arrow:before {content: \"▸\";float: left;margin-right: 0.25em;color: #696969;}#sk-container-id-3 label.sk-toggleable__label-arrow:hover:before {color: black;}#sk-container-id-3 div.sk-estimator:hover label.sk-toggleable__label-arrow:before {color: black;}#sk-container-id-3 div.sk-toggleable__content {max-height: 0;max-width: 0;overflow: hidden;text-align: left;background-color: #f0f8ff;}#sk-container-id-3 div.sk-toggleable__content pre {margin: 0.2em;color: black;border-radius: 0.25em;background-color: #f0f8ff;}#sk-container-id-3 input.sk-toggleable__control:checked~div.sk-toggleable__content {max-height: 200px;max-width: 100%;overflow: auto;}#sk-container-id-3 input.sk-toggleable__control:checked~label.sk-toggleable__label-arrow:before {content: \"▾\";}#sk-container-id-3 div.sk-estimator input.sk-toggleable__control:checked~label.sk-toggleable__label {background-color: #d4ebff;}#sk-container-id-3 div.sk-label input.sk-toggleable__control:checked~label.sk-toggleable__label {background-color: #d4ebff;}#sk-container-id-3 input.sk-hidden--visually {border: 0;clip: rect(1px 1px 1px 1px);clip: rect(1px, 1px, 1px, 1px);height: 1px;margin: -1px;overflow: hidden;padding: 0;position: absolute;width: 1px;}#sk-container-id-3 div.sk-estimator {font-family: monospace;background-color: #f0f8ff;border: 1px dotted black;border-radius: 0.25em;box-sizing: border-box;margin-bottom: 0.5em;}#sk-container-id-3 div.sk-estimator:hover {background-color: #d4ebff;}#sk-container-id-3 div.sk-parallel-item::after {content: \"\";width: 100%;border-bottom: 1px solid gray;flex-grow: 1;}#sk-container-id-3 div.sk-label:hover label.sk-toggleable__label {background-color: #d4ebff;}#sk-container-id-3 div.sk-serial::before {content: \"\";position: absolute;border-left: 1px solid gray;box-sizing: border-box;top: 0;bottom: 0;left: 50%;z-index: 0;}#sk-container-id-3 div.sk-serial {display: flex;flex-direction: column;align-items: center;background-color: white;padding-right: 0.2em;padding-left: 0.2em;position: relative;}#sk-container-id-3 div.sk-item {position: relative;z-index: 1;}#sk-container-id-3 div.sk-parallel {display: flex;align-items: stretch;justify-content: center;background-color: white;position: relative;}#sk-container-id-3 div.sk-item::before, #sk-container-id-3 div.sk-parallel-item::before {content: \"\";position: absolute;border-left: 1px solid gray;box-sizing: border-box;top: 0;bottom: 0;left: 50%;z-index: -1;}#sk-container-id-3 div.sk-parallel-item {display: flex;flex-direction: column;z-index: 1;position: relative;background-color: white;}#sk-container-id-3 div.sk-parallel-item:first-child::after {align-self: flex-end;width: 50%;}#sk-container-id-3 div.sk-parallel-item:last-child::after {align-self: flex-start;width: 50%;}#sk-container-id-3 div.sk-parallel-item:only-child::after {width: 0;}#sk-container-id-3 div.sk-dashed-wrapped {border: 1px dashed gray;margin: 0 0.4em 0.5em 0.4em;box-sizing: border-box;padding-bottom: 0.4em;background-color: white;}#sk-container-id-3 div.sk-label label {font-family: monospace;font-weight: bold;display: inline-block;line-height: 1.2em;}#sk-container-id-3 div.sk-label-container {text-align: center;}#sk-container-id-3 div.sk-container {/* jupyter's `normalize.less` sets `[hidden] { display: none; }` but bootstrap.min.css set `[hidden] { display: none !important; }` so we also need the `!important` here to be able to override the default hidden behavior on the sphinx rendered scikit-learn.org. See: https://github.com/scikit-learn/scikit-learn/issues/21755 */display: inline-block !important;position: relative;}#sk-container-id-3 div.sk-text-repr-fallback {display: none;}</style><div id=\"sk-container-id-3\" class=\"sk-top-container\"><div class=\"sk-text-repr-fallback\"><pre>RandomForestClassifier(max_depth=2, max_features=5, n_estimators=5)</pre><b>In a Jupyter environment, please rerun this cell to show the HTML representation or trust the notebook. <br />On GitHub, the HTML representation is unable to render, please try loading this page with nbviewer.org.</b></div><div class=\"sk-container\" hidden><div class=\"sk-item\"><div class=\"sk-estimator sk-toggleable\"><input class=\"sk-toggleable__control sk-hidden--visually\" id=\"sk-estimator-id-3\" type=\"checkbox\" checked><label for=\"sk-estimator-id-3\" class=\"sk-toggleable__label sk-toggleable__label-arrow\">RandomForestClassifier</label><div class=\"sk-toggleable__content\"><pre>RandomForestClassifier(max_depth=2, max_features=5, n_estimators=5)</pre></div></div></div></div></div>"
      ],
      "text/plain": [
       "RandomForestClassifier(max_depth=2, max_features=5, n_estimators=5)"
      ]
     },
     "execution_count": 153,
     "metadata": {},
     "output_type": "execute_result"
    }
   ],
   "source": [
    "# Instantiate and fit a RandomForestClassifier\n",
    "forest_2 = RandomForestClassifier(n_estimators=5, max_features=5, max_depth= 2)\n",
    "forest_2.fit(X_train_scaled, y_train)"
   ]
  },
  {
   "cell_type": "markdown",
   "id": "f71e3bf2",
   "metadata": {},
   "source": [
    "**Evaluating the model**"
   ]
  },
  {
   "cell_type": "code",
   "execution_count": 154,
   "id": "2bcac862",
   "metadata": {
    "scrolled": false
   },
   "outputs": [
    {
     "name": "stdout",
     "output_type": "stream",
     "text": [
      "Evaluation scores for Second Forest Model \n",
      "Log Loss: 0.6128007432340652\n",
      "Recall Score: 0.3671333824613117\n",
      "Accuracy Score: 0.6925925925925925\n"
     ]
    }
   ],
   "source": [
    "# Evaluating the model\n",
    "forest_2_model = 'Second Forest Model'\n",
    "\n",
    "# Running the evaluation metrics thanks to the previously defined function\n",
    "log_loss_f2, recall_f2, accuracy_f2 = eval_scores(\n",
    "    forest_2_model, forest_2, X_test_scaled, y_test)"
   ]
  },
  {
   "cell_type": "markdown",
   "id": "ce5b1d54",
   "metadata": {},
   "source": [
    "Log loss is increasing and recall is decreasing, we are not improving our model. We will use Combinatoric Grid Searching for hyperparameter tuning to do so."
   ]
  },
  {
   "cell_type": "markdown",
   "id": "097d265c",
   "metadata": {},
   "source": [
    "#### 5. d. 4. Hyperparameter Tuning with Combinatoric Grid Searching - Random Forest\n"
   ]
  },
  {
   "cell_type": "code",
   "execution_count": 155,
   "id": "88e64df9",
   "metadata": {},
   "outputs": [],
   "source": [
    "# Instantiating Random Forecast classifier object\n",
    "rf_classifier = RandomForestClassifier()"
   ]
  },
  {
   "cell_type": "code",
   "execution_count": 156,
   "id": "2dfeaa95",
   "metadata": {},
   "outputs": [],
   "source": [
    "# Defining the hyperparameter grid we want to search\n",
    "param_grid = {\n",
    "    'n_estimators': [100, 200, 300],   # Number of trees in the forest\n",
    "    'max_depth': [None, 10, 20, 30],  # Maximum depth of each tree\n",
    "    'min_samples_split': [2, 5, 10],  # Minimum number of samples required to split an internal node\n",
    "    'min_samples_leaf': [1, 2, 4],    # Minimum number of samples required to be at a leaf node\n",
    "\n",
    "}"
   ]
  },
  {
   "cell_type": "code",
   "execution_count": 157,
   "id": "b24011e2",
   "metadata": {},
   "outputs": [],
   "source": [
    "# Defining a custom scoring function for recall\n",
    "scorer = make_scorer(recall_score)"
   ]
  },
  {
   "cell_type": "code",
   "execution_count": 158,
   "id": "f4f0b851",
   "metadata": {},
   "outputs": [],
   "source": [
    "# Creating a GridSearchCV object\n",
    "grid_search = GridSearchCV(estimator=rf_classifier, param_grid=param_grid, cv=5, scoring=scorer, n_jobs=-1)\n"
   ]
  },
  {
   "cell_type": "code",
   "execution_count": 159,
   "id": "5695a54a",
   "metadata": {
    "scrolled": true
   },
   "outputs": [
    {
     "data": {
      "text/html": [
       "<style>#sk-container-id-4 {color: black;background-color: white;}#sk-container-id-4 pre{padding: 0;}#sk-container-id-4 div.sk-toggleable {background-color: white;}#sk-container-id-4 label.sk-toggleable__label {cursor: pointer;display: block;width: 100%;margin-bottom: 0;padding: 0.3em;box-sizing: border-box;text-align: center;}#sk-container-id-4 label.sk-toggleable__label-arrow:before {content: \"▸\";float: left;margin-right: 0.25em;color: #696969;}#sk-container-id-4 label.sk-toggleable__label-arrow:hover:before {color: black;}#sk-container-id-4 div.sk-estimator:hover label.sk-toggleable__label-arrow:before {color: black;}#sk-container-id-4 div.sk-toggleable__content {max-height: 0;max-width: 0;overflow: hidden;text-align: left;background-color: #f0f8ff;}#sk-container-id-4 div.sk-toggleable__content pre {margin: 0.2em;color: black;border-radius: 0.25em;background-color: #f0f8ff;}#sk-container-id-4 input.sk-toggleable__control:checked~div.sk-toggleable__content {max-height: 200px;max-width: 100%;overflow: auto;}#sk-container-id-4 input.sk-toggleable__control:checked~label.sk-toggleable__label-arrow:before {content: \"▾\";}#sk-container-id-4 div.sk-estimator input.sk-toggleable__control:checked~label.sk-toggleable__label {background-color: #d4ebff;}#sk-container-id-4 div.sk-label input.sk-toggleable__control:checked~label.sk-toggleable__label {background-color: #d4ebff;}#sk-container-id-4 input.sk-hidden--visually {border: 0;clip: rect(1px 1px 1px 1px);clip: rect(1px, 1px, 1px, 1px);height: 1px;margin: -1px;overflow: hidden;padding: 0;position: absolute;width: 1px;}#sk-container-id-4 div.sk-estimator {font-family: monospace;background-color: #f0f8ff;border: 1px dotted black;border-radius: 0.25em;box-sizing: border-box;margin-bottom: 0.5em;}#sk-container-id-4 div.sk-estimator:hover {background-color: #d4ebff;}#sk-container-id-4 div.sk-parallel-item::after {content: \"\";width: 100%;border-bottom: 1px solid gray;flex-grow: 1;}#sk-container-id-4 div.sk-label:hover label.sk-toggleable__label {background-color: #d4ebff;}#sk-container-id-4 div.sk-serial::before {content: \"\";position: absolute;border-left: 1px solid gray;box-sizing: border-box;top: 0;bottom: 0;left: 50%;z-index: 0;}#sk-container-id-4 div.sk-serial {display: flex;flex-direction: column;align-items: center;background-color: white;padding-right: 0.2em;padding-left: 0.2em;position: relative;}#sk-container-id-4 div.sk-item {position: relative;z-index: 1;}#sk-container-id-4 div.sk-parallel {display: flex;align-items: stretch;justify-content: center;background-color: white;position: relative;}#sk-container-id-4 div.sk-item::before, #sk-container-id-4 div.sk-parallel-item::before {content: \"\";position: absolute;border-left: 1px solid gray;box-sizing: border-box;top: 0;bottom: 0;left: 50%;z-index: -1;}#sk-container-id-4 div.sk-parallel-item {display: flex;flex-direction: column;z-index: 1;position: relative;background-color: white;}#sk-container-id-4 div.sk-parallel-item:first-child::after {align-self: flex-end;width: 50%;}#sk-container-id-4 div.sk-parallel-item:last-child::after {align-self: flex-start;width: 50%;}#sk-container-id-4 div.sk-parallel-item:only-child::after {width: 0;}#sk-container-id-4 div.sk-dashed-wrapped {border: 1px dashed gray;margin: 0 0.4em 0.5em 0.4em;box-sizing: border-box;padding-bottom: 0.4em;background-color: white;}#sk-container-id-4 div.sk-label label {font-family: monospace;font-weight: bold;display: inline-block;line-height: 1.2em;}#sk-container-id-4 div.sk-label-container {text-align: center;}#sk-container-id-4 div.sk-container {/* jupyter's `normalize.less` sets `[hidden] { display: none; }` but bootstrap.min.css set `[hidden] { display: none !important; }` so we also need the `!important` here to be able to override the default hidden behavior on the sphinx rendered scikit-learn.org. See: https://github.com/scikit-learn/scikit-learn/issues/21755 */display: inline-block !important;position: relative;}#sk-container-id-4 div.sk-text-repr-fallback {display: none;}</style><div id=\"sk-container-id-4\" class=\"sk-top-container\"><div class=\"sk-text-repr-fallback\"><pre>GridSearchCV(cv=5, estimator=RandomForestClassifier(), n_jobs=-1,\n",
       "             param_grid={&#x27;max_depth&#x27;: [None, 10, 20, 30],\n",
       "                         &#x27;min_samples_leaf&#x27;: [1, 2, 4],\n",
       "                         &#x27;min_samples_split&#x27;: [2, 5, 10],\n",
       "                         &#x27;n_estimators&#x27;: [100, 200, 300]},\n",
       "             scoring=make_scorer(recall_score))</pre><b>In a Jupyter environment, please rerun this cell to show the HTML representation or trust the notebook. <br />On GitHub, the HTML representation is unable to render, please try loading this page with nbviewer.org.</b></div><div class=\"sk-container\" hidden><div class=\"sk-item sk-dashed-wrapped\"><div class=\"sk-label-container\"><div class=\"sk-label sk-toggleable\"><input class=\"sk-toggleable__control sk-hidden--visually\" id=\"sk-estimator-id-4\" type=\"checkbox\" ><label for=\"sk-estimator-id-4\" class=\"sk-toggleable__label sk-toggleable__label-arrow\">GridSearchCV</label><div class=\"sk-toggleable__content\"><pre>GridSearchCV(cv=5, estimator=RandomForestClassifier(), n_jobs=-1,\n",
       "             param_grid={&#x27;max_depth&#x27;: [None, 10, 20, 30],\n",
       "                         &#x27;min_samples_leaf&#x27;: [1, 2, 4],\n",
       "                         &#x27;min_samples_split&#x27;: [2, 5, 10],\n",
       "                         &#x27;n_estimators&#x27;: [100, 200, 300]},\n",
       "             scoring=make_scorer(recall_score))</pre></div></div></div><div class=\"sk-parallel\"><div class=\"sk-parallel-item\"><div class=\"sk-item\"><div class=\"sk-label-container\"><div class=\"sk-label sk-toggleable\"><input class=\"sk-toggleable__control sk-hidden--visually\" id=\"sk-estimator-id-5\" type=\"checkbox\" ><label for=\"sk-estimator-id-5\" class=\"sk-toggleable__label sk-toggleable__label-arrow\">estimator: RandomForestClassifier</label><div class=\"sk-toggleable__content\"><pre>RandomForestClassifier()</pre></div></div></div><div class=\"sk-serial\"><div class=\"sk-item\"><div class=\"sk-estimator sk-toggleable\"><input class=\"sk-toggleable__control sk-hidden--visually\" id=\"sk-estimator-id-6\" type=\"checkbox\" ><label for=\"sk-estimator-id-6\" class=\"sk-toggleable__label sk-toggleable__label-arrow\">RandomForestClassifier</label><div class=\"sk-toggleable__content\"><pre>RandomForestClassifier()</pre></div></div></div></div></div></div></div></div></div></div>"
      ],
      "text/plain": [
       "GridSearchCV(cv=5, estimator=RandomForestClassifier(), n_jobs=-1,\n",
       "             param_grid={'max_depth': [None, 10, 20, 30],\n",
       "                         'min_samples_leaf': [1, 2, 4],\n",
       "                         'min_samples_split': [2, 5, 10],\n",
       "                         'n_estimators': [100, 200, 300]},\n",
       "             scoring=make_scorer(recall_score))"
      ]
     },
     "execution_count": 159,
     "metadata": {},
     "output_type": "execute_result"
    }
   ],
   "source": [
    "# Fitting the GridSearchCV\n",
    "grid_search.fit(X_train_scaled, y_train)"
   ]
  },
  {
   "cell_type": "code",
   "execution_count": 160,
   "id": "ce576e79",
   "metadata": {},
   "outputs": [],
   "source": [
    "# Accessing the best parameters and the best model \n",
    "best_forest_params = grid_search.best_params_\n",
    "best_forest_model = grid_search.best_estimator_"
   ]
  },
  {
   "cell_type": "markdown",
   "id": "0923393e",
   "metadata": {},
   "source": [
    "**Evaluating the model**"
   ]
  },
  {
   "cell_type": "code",
   "execution_count": 161,
   "id": "73e3a746",
   "metadata": {
    "scrolled": false
   },
   "outputs": [
    {
     "name": "stdout",
     "output_type": "stream",
     "text": [
      "Evaluation scores for GridSearch Model \n",
      "Log Loss: 0.466290759250241\n",
      "Recall Score: 0.7190862196020634\n",
      "Accuracy Score: 0.7964983164983165\n"
     ]
    }
   ],
   "source": [
    "# Evaluating the model\n",
    "gs_forest_model = 'GridSearch Model'\n",
    "\n",
    "# Running the evaluation metrics thanks to the previously defined function\n",
    "log_loss_gs_f, recall_dt_gs_f, accuracy_dt_gs_f = eval_scores(\n",
    "    gs_forest_model, best_forest_model, X_test_scaled, y_test)"
   ]
  },
  {
   "cell_type": "code",
   "execution_count": 162,
   "id": "cd38335e",
   "metadata": {},
   "outputs": [
    {
     "data": {
      "text/plain": [
       "{'max_depth': 30,\n",
       " 'min_samples_leaf': 1,\n",
       " 'min_samples_split': 2,\n",
       " 'n_estimators': 200}"
      ]
     },
     "execution_count": 162,
     "metadata": {},
     "output_type": "execute_result"
    }
   ],
   "source": [
    "# Inspecting the best parameters that were selected\n",
    "best_forest_params"
   ]
  },
  {
   "cell_type": "markdown",
   "id": "a8c0734f",
   "metadata": {},
   "source": [
    "#### 5. d. 5. Choosing and Evaluating the Best Model"
   ]
  },
  {
   "cell_type": "code",
   "execution_count": 163,
   "id": "de680074",
   "metadata": {},
   "outputs": [],
   "source": [
    "# Selecting the best model and storing into the best_forest variable \n",
    "best_forest = best_forest_model"
   ]
  },
  {
   "cell_type": "code",
   "execution_count": 164,
   "id": "dfe2a31b",
   "metadata": {},
   "outputs": [],
   "source": [
    "# Storing all results into three different lists to plot them into a line graph\n",
    "log_loss_rf = [log_loss_f, log_loss_f2, log_loss_gs_f]\n",
    "accuracy_rf = [accuracy_f, accuracy_f2, accuracy_dt_gs_f]\n",
    "recall_rf = [recall_f, recall_f2, recall_dt_gs_f]"
   ]
  },
  {
   "cell_type": "code",
   "execution_count": 165,
   "id": "6b91fc3e",
   "metadata": {
    "scrolled": false
   },
   "outputs": [
    {
     "data": {
      "image/png": "[encoded data removed]",
      "text/plain": [
       "<Figure size 1000x600 with 1 Axes>"
      ]
     },
     "metadata": {},
     "output_type": "display_data"
    }
   ],
   "source": [
    "# Creating the x-axis values \n",
    "x = range(1, 4)\n",
    "\n",
    "# Creating the line plot\n",
    "plt.figure(figsize=(10, 6))  # Adjust the figure size if needed\n",
    "plt.plot(x, log_loss_rf, label='Log Loss', marker='o', linestyle='-', color='#391600')\n",
    "plt.plot(x, accuracy_rf, label='Accuracy', marker='o', linestyle='-', color='#B88770')\n",
    "plt.plot(x, recall_rf, label='Recall', marker='o', linestyle='-', color='#599E91')\n",
    "\n",
    "# Customizing x-axis tick locations and labels\n",
    "x_ticks = [\"Initial Forest\",\"Second Forest\", \"GridSearch Forest\"]\n",
    "plt.xticks(x, x_ticks)\n",
    "\n",
    "# Adding labels and title\n",
    "plt.xlabel('Random Forest Models')\n",
    "plt.ylabel('Scores')\n",
    "plt.title('Model Evaluation Metrics - Random Forest', fontsize=16)\n",
    "\n",
    "# Adding a legend\n",
    "plt.legend()\n",
    "\n",
    "# Showing the data label of the selected index\n",
    "index_to_annotate = 2  # 2nd index\n",
    "plt.annotate(f'Log loss: {log_loss_rf[index_to_annotate]:.5f}', (x[index_to_annotate], log_loss_rf[index_to_annotate]), textcoords=\"offset points\", xytext=(-20,-20), ha='center')\n",
    "plt.annotate(f'Accuracy: {accuracy_rf[index_to_annotate]:.5f}', (x[index_to_annotate], accuracy_rf[index_to_annotate]), textcoords=\"offset points\", xytext=(-25,4), ha='center')\n",
    "plt.annotate(f'Recall: {recall_rf[index_to_annotate]:.5f}', (x[index_to_annotate], recall_rf[index_to_annotate]), textcoords=\"offset points\", xytext=(-20, 10), ha='center')\n",
    "\n",
    "\n",
    "# Saving the plot as a PNG with a transparent background\n",
    "plt.savefig('images/forest_models.png', transparent=True)\n",
    "\n",
    "# Showing the plot\n",
    "plt.show()"
   ]
  },
  {
   "cell_type": "markdown",
   "id": "0f850076",
   "metadata": {},
   "source": [
    "#### 5. d. 6. Scores' Summary"
   ]
  },
  {
   "cell_type": "code",
   "execution_count": 166,
   "id": "7b43352c",
   "metadata": {
    "scrolled": true
   },
   "outputs": [
    {
     "name": "stdout",
     "output_type": "stream",
     "text": [
      "Evaluation scores for GridSearch Model \n",
      "Log Loss: 0.466290759250241\n",
      "Recall Score: 0.7190862196020634\n",
      "Accuracy Score: 0.7964983164983165\n"
     ]
    }
   ],
   "source": [
    "# Evaluating the model\n",
    "best_forest_name = 'GridSearch Model'\n",
    "\n",
    "# Running the evaluation metrics thanks to the previously defined function\n",
    "log_loss_gs_f, recall_dt_gs_f, accuracy_dt_gs_f = eval_scores(\n",
    "    best_forest_name, best_forest_model, X_test_scaled, y_test)"
   ]
  },
  {
   "cell_type": "markdown",
   "id": "9668a9c8",
   "metadata": {},
   "source": [
    "The chosen model prioritizes recall, which measures how well it identifies positive cases. It achieves a recall score of 0.7795, indicating strong performance in this aspect. While the log loss value is higher at 1.5316, signifying uncertainty in predictions, the model maintains an accuracy of 0.6825, offering a good balance between overall accuracy and recall. This makes the model suitable for scenarios where correctly finding positive cases is crucial.\n"
   ]
  },
  {
   "cell_type": "code",
   "execution_count": 167,
   "id": "3c2fd8e5",
   "metadata": {
    "scrolled": false
   },
   "outputs": [
    {
     "name": "stdout",
     "output_type": "stream",
     "text": [
      "Log Loss: 0.466290759250241\n",
      "Rhe model performance has considerably increased compared to the last model: the log loss is back to reasonable results, indicating a much better accuracy of the predicted probabilities.\n",
      "\n",
      "Recall Score: 0.7190862196020634\n",
      "This is the best recall score recorded. The model now correctly identifies actual non-functional wells 72% of the time.\n",
      "\n",
      "Accuracy Score: 0.7964983164983165\n",
      "The model correctly predicted over 79% of wells' conditions. This is the best score reached among all models as well.\n",
      "\n"
     ]
    }
   ],
   "source": [
    "print(\"Log Loss: {}\".format(log_loss_gs_f))\n",
    "print(\"Rhe model performance has considerably increased compared to the last model: the log loss is back to reasonable results, indicating a much better accuracy of the predicted probabilities.\")\n",
    "print()\n",
    "print(\"Recall Score: {}\".format(recall_dt_gs_f))\n",
    "print(\"This is the best recall score recorded. The model now correctly identifies actual non-functional wells 72% of the time.\")\n",
    "print()\n",
    "print(\"Accuracy Score: {}\".format(accuracy_dt_gs_f))\n",
    "print(\"The model correctly predicted over 79% of wells' conditions. This is the best score reached among all models as well.\")\n",
    "print()\n"
   ]
  },
  {
   "cell_type": "markdown",
   "id": "5d7e29c2",
   "metadata": {},
   "source": [
    "### 6. Evaluation"
   ]
  },
  {
   "cell_type": "markdown",
   "id": "a6cac914",
   "metadata": {},
   "source": [
    "#### 6. a. Final Model and Classification Metrics"
   ]
  },
  {
   "cell_type": "code",
   "execution_count": 168,
   "id": "051166fd",
   "metadata": {},
   "outputs": [],
   "source": [
    "# Storing the best model in the associated variable\n",
    "best_model_overall = best_forest"
   ]
  },
  {
   "cell_type": "markdown",
   "id": "baa03a06",
   "metadata": {},
   "source": [
    "The model that predicts the most accurately the  non functional wells is the Random Forest where Hyperparameters were tuned thanks to Combinatorics GridSearching. \n",
    "The best parameters found for this model were the following:"
   ]
  },
  {
   "cell_type": "code",
   "execution_count": 169,
   "id": "4f521def",
   "metadata": {
    "scrolled": true
   },
   "outputs": [
    {
     "data": {
      "text/plain": [
       "{'max_depth': 30,\n",
       " 'min_samples_leaf': 1,\n",
       " 'min_samples_split': 2,\n",
       " 'n_estimators': 200}"
      ]
     },
     "execution_count": 169,
     "metadata": {},
     "output_type": "execute_result"
    }
   ],
   "source": [
    "# Viewing the best parameters defined by Combinatoric Grid Searching \n",
    "best_forest_params"
   ]
  },
  {
   "cell_type": "code",
   "execution_count": 170,
   "id": "9ae3d193",
   "metadata": {
    "scrolled": true
   },
   "outputs": [],
   "source": [
    "# Defining variables for the final model's classification metrics\n",
    "best_overall = 'Best Model Overall'\n",
    "\n",
    "log_loss_best, recall_best, accuracy_best = log_loss_gs_f, recall_dt_gs_f, accuracy_dt_gs_f"
   ]
  },
  {
   "cell_type": "code",
   "execution_count": 171,
   "id": "1c68d760",
   "metadata": {},
   "outputs": [
    {
     "name": "stdout",
     "output_type": "stream",
     "text": [
      "Evaluation scores for Best Model Overall \n",
      "Log Loss: 0.466290759250241\n",
      "Recall Score: 0.7190862196020634\n",
      "Accuracy Score: 0.7964983164983165\n"
     ]
    }
   ],
   "source": [
    "# Printing classification metrics\n",
    "print(\"Evaluation scores for {} \".format(best_overall))\n",
    "\n",
    "print(\"Log Loss: {}\".format(log_loss_best))\n",
    "print(\"Recall Score: {}\".format(recall_best))\n",
    "print(\"Accuracy Score: {}\".format(accuracy_best))"
   ]
  },
  {
   "cell_type": "code",
   "execution_count": 172,
   "id": "6fd1fc09",
   "metadata": {},
   "outputs": [],
   "source": [
    "# Storing all 4's best models metrics into corresponding lists \n",
    "log_loss_all = [log_loss_reg_selected, log_loss_knn_fourth, log_loss_dt_best, log_loss_gs_f] \n",
    "recall_all = [recall_reg_selected, recall_knn_fourth, recall_dt_best, recall_dt_gs_f]\n",
    "accuracy_all = [accuracy_reg_selected, accuracy_knn_fourth, accuracy_dt_best, accuracy_dt_gs_f]"
   ]
  },
  {
   "cell_type": "code",
   "execution_count": 173,
   "id": "fb1d6d4e",
   "metadata": {},
   "outputs": [],
   "source": [
    "# Creating a DataFrame with stored best scores \n",
    "\n",
    "models = ['Logistic Regression', 'k-Nearest Neighbor', 'Decision Tree', 'Random Forest with GridSearch']\n",
    "\n",
    "data = {\n",
    "    'Model': models,\n",
    "    'Log Loss': log_loss_all,\n",
    "    'Recall': recall_all,\n",
    "    'Accuracy': accuracy_all\n",
    "}\n",
    "\n",
    "df = pd.DataFrame(data)"
   ]
  },
  {
   "cell_type": "code",
   "execution_count": 174,
   "id": "a8a564e9",
   "metadata": {},
   "outputs": [
    {
     "data": {
      "image/png": "[encoded data removed]",
      "text/plain": [
       "<Figure size 1000x600 with 1 Axes>"
      ]
     },
     "metadata": {},
     "output_type": "display_data"
    }
   ],
   "source": [
    "# Creating a bar chart for Recall\n",
    "plt.figure(figsize=(10, 6))\n",
    "plt.bar(df['Model'], df['Recall'], color='#599E91', label='Recall')\n",
    "\n",
    "# Creating line plots for Log Loss and Accuracy\n",
    "plt.plot(df['Model'], df['Log Loss'], marker='o', color='#391600', label='Log Loss')\n",
    "plt.plot(df['Model'], df['Accuracy'], marker='o', color='#B88770', label='Accuracy')\n",
    "\n",
    "# Setting labels and title\n",
    "plt.xlabel('Models')\n",
    "plt.ylabel('Recall')\n",
    "plt.ylabel('Log Loss / Accuracy')#, color='tab:orange')\n",
    "\n",
    "# Annotating the last index of each category\n",
    "plt.annotate(f'Recall: {recall_all[3] * 100:.2f}%', (models[3], recall_all[3] + 0.01), ha='center', va='bottom')\n",
    "plt.annotate(f'Log Loss: {log_loss_all[3]:.4f}', (models[3], df['Log Loss'][3] - 0.06), ha='center', va='bottom')\n",
    "plt.annotate(f'Accuracy: {accuracy_all[3] * 100:.2f}%', (models[3], df['Accuracy'][3] + 0.06), ha='center', va='bottom')\n",
    "\n",
    "\n",
    "    \n",
    "# Defining the max value of y \n",
    "max_y = max(df[['Log Loss', 'Accuracy']].max())\n",
    "plt.ylim(0, max_y  + 0.1)\n",
    "plt.title('Classification Metrics for All Selected Models', fontsize=16)\n",
    "\n",
    "# Displaying the legend\n",
    "plt.legend(loc='upper left')\n",
    "\n",
    "# Saving the plot as a PNG with a transparent background\n",
    "plt.savefig('images/final_model.png', transparent=True)\n",
    "\n",
    "# Showing the plot\n",
    "plt.tight_layout()\n",
    "plt.show()"
   ]
  },
  {
   "cell_type": "markdown",
   "id": "76a84981",
   "metadata": {},
   "source": [
    "In the analysis of predictive models for identifying non-functional water wells in Tanzania, four types of models were employed: \n",
    "1. Logistic Regression, \n",
    "2. k-Nearest Neighbor, \n",
    "3. Decision Tree, and \n",
    "4. Random Forest \n",
    "\n",
    "\n",
    "Among these models, the Random Forest model showed the best classification metrics. To achieve these results, hyperparameters were tuned using combinatoric grid searching. \n",
    "\n",
    "The highest `recall` of all models was recorded. The model correctly identified about 72% of the actual non-functional water wells in the dataset. In other words, it minimizes the chances of false negatives which is crucial as populations' healths and lives depend on the quality of the water they have access to.\n",
    "\n",
    "Moreover, the highest `accuracy` highlighted its overall predictive power in accurately identifying wells. This indicates that the model correctly classified over 79% of all water wells.\n",
    "\n",
    "Furthermore, as `log loss` quantifies the uncertainty associated with the model's predictions. It measures how well the model's predicted probabilities align with the actual outcomes. \n",
    "The probabilities that a well is predicted as non-funtional are the most accurate they could be."
   ]
  },
  {
   "cell_type": "markdown",
   "id": "10c97875",
   "metadata": {},
   "source": [
    "## 7. Findings & Recommendations"
   ]
  },
  {
   "cell_type": "markdown",
   "id": "efaf6a35",
   "metadata": {},
   "source": [
    "#### 7.a. Model Performance"
   ]
  },
  {
   "cell_type": "markdown",
   "id": "4a53e39f",
   "metadata": {},
   "source": [
    "The model accurately predicts 72% of non-functional wells, and 79% of all wells. "
   ]
  },
  {
   "cell_type": "code",
   "execution_count": 175,
   "id": "6801eeeb",
   "metadata": {
    "scrolled": true
   },
   "outputs": [
    {
     "name": "stdout",
     "output_type": "stream",
     "text": [
      "[[6949 1116]\n",
      " [1906 4879]]\n",
      "              precision    recall  f1-score   support\n",
      "\n",
      "           0       0.78      0.86      0.82      8065\n",
      "           1       0.81      0.72      0.76      6785\n",
      "\n",
      "    accuracy                           0.80     14850\n",
      "   macro avg       0.80      0.79      0.79     14850\n",
      "weighted avg       0.80      0.80      0.79     14850\n",
      "\n"
     ]
    }
   ],
   "source": [
    "# Import classification_report and confusion_matrix\n",
    "from sklearn.metrics import confusion_matrix, classification_report\n",
    "\n",
    "# Test set predictions\n",
    "y_pred = best_model_overall.predict(X_test_scaled)\n",
    "\n",
    "cnf_matrix = confusion_matrix(y_test, y_pred) \n",
    "# Confusion matrix and classification report\n",
    "print(cnf_matrix)\n",
    "print(classification_report(y_test, y_pred))"
   ]
  },
  {
   "cell_type": "code",
   "execution_count": 176,
   "id": "87229de0",
   "metadata": {},
   "outputs": [
    {
     "data": {
      "image/png": "[encoded data removed]",
      "text/plain": [
       "<Figure size 640x480 with 2 Axes>"
      ]
     },
     "metadata": {},
     "output_type": "display_data"
    }
   ],
   "source": [
    "# Creating a custom colormap, corresponding to the theme colors \n",
    "from sklearn.metrics import ConfusionMatrixDisplay\n",
    "\n",
    "\n",
    "disp = ConfusionMatrixDisplay(confusion_matrix=cnf_matrix, display_labels=best_model_overall.classes_)\n",
    "\n",
    "\n",
    "disp.plot(cmap=custom_cmap)\n",
    "\n",
    "plt.title(\"Model Performance: Confusion Matrix\", fontsize=16)\n",
    "\n",
    "# Saving the plot as a PNG with a transparent background\n",
    "plt.savefig('images/confusion_matrix.png', transparent=True)\n",
    "\n",
    "plt.show()"
   ]
  },
  {
   "cell_type": "markdown",
   "id": "6e78d871",
   "metadata": {},
   "source": [
    "**Confusion Matrix**\n",
    "\n",
    "* The bottom-right value (4,886) represents the True Positives (TP): the correctly predicted non-functional wells. They represent 72% of total non-functional instances (4,886 + 1,892).   \n",
    "\n",
    "* The bottom-left value (1,892) represents False Negatives (FN). The goal of these models was to make this value as low as possible, as it indicates the number of water wells that are non-functional, but that the model classed as functional. \n",
    "    \n",
    "    This is dangerous, as lives and populations' healths may be harmed by such an error.\n",
    "\n",
    "\n",
    "<u>Other metrics</u> <br>\n",
    "`Recall` measures the ability to identify all actual positive instances (actual non-functional water points) while `Precision` measures the accuracy of positive predictions. This means that out of all the instances that the model predicted as non-functional water wells, 81% were actually non-functional. This indicates a relatively high accuracy of the model's predictions for non-functional water wells.\n",
    "\n",
    "\n",
    "`F1` Score is a balance between precision and recall, combining both metrics.\n",
    "0.76. It suggests that the model provides a reasonable compromise between making accurate positive predictions (precision) and correctly identifying all actual positive instances (recall). "
   ]
  },
  {
   "cell_type": "markdown",
   "id": "e97ea517",
   "metadata": {},
   "source": [
    "#### 7.b. Most Important Features"
   ]
  },
  {
   "cell_type": "code",
   "execution_count": 177,
   "id": "7c99e647",
   "metadata": {},
   "outputs": [
    {
     "data": {
      "image/png": "[encoded data removed]",
      "text/plain": [
       "<Figure size 800x800 with 2 Axes>"
      ]
     },
     "metadata": {},
     "output_type": "display_data"
    }
   ],
   "source": [
    "# Calling the function with the model and the column names\n",
    "plot_top_feature_importances(best_model_overall, X_selected.columns, top_n=10)\n",
    "\n",
    "# Saving the plot as a PNG with a transparent background\n",
    "plt.savefig('images/Top 10 Features.png', transparent=True, bbox_inches='tight')\n",
    "\n",
    "plt.show()"
   ]
  },
  {
   "cell_type": "markdown",
   "id": "14c74ac9",
   "metadata": {},
   "source": [
    "The most important features that will help determining the most accurate predictions, whether a water well is non functional are:\n",
    "1. <u>gps height</u>: the altitude of the well\n",
    "2. <u>construction_year</u>: the year the waterpoint was constructed \n",
    "3. <u>population</u>: the population around the well \n",
    "4. <u>quantity_dry</u>:  whether the quantity of water was defined as 'dry'\n",
    "5. <u>amount_tsh</u>:total static head (amount water available to waterpoint)\n",
    "6. <u>extraction_type_class_other</u>: the kind of extraction the waterpoint uses. In this case, the specific feature impacting is any other extraction type than 'gravity', 'submersible', 'handpump', 'motorpump', 'wind-powered', or 'rope pump'\n"
   ]
  },
  {
   "cell_type": "markdown",
   "id": "b977d23c",
   "metadata": {},
   "source": [
    "#### 7.c. Purposes of Model's Predictions"
   ]
  },
  {
   "cell_type": "markdown",
   "id": "07723e9c",
   "metadata": {},
   "source": [
    "The predictions provided by this model would be useful for an NGO aiming at predicting whether water wells are non functional to improve their maintenance. There also are limits to how useful these predictions can be.  \n",
    "\n",
    "* <u>Useful</u>: when prioritizing maintenance efforts for water wells in Tanzania. It can help identify non-functional wells that require immediate attention, enabling NGOs to allocate their resources and funding efficiently.\n",
    "* <u>Not useful</u>: where the input data is outdated or inaccurate. The source training the model dates from data from 2011 to 2013. In addition, if only part of the information is available, or not the most important features are given, the predictions may not be reliable. \n",
    "    This model was based on information from Tanzania only. Predicting a water point's functionality in another country may not be done with this model."
   ]
  },
  {
   "cell_type": "markdown",
   "id": "eddaa8f4",
   "metadata": {},
   "source": [
    "#### 7.d. How to Achieve Better Predictions"
   ]
  },
  {
   "cell_type": "markdown",
   "id": "0731b794",
   "metadata": {},
   "source": [
    "Suggestions for how certain input variables might be modified to achieve  better predictions: \n",
    "\n",
    "\n",
    "1. Enhance data quality by collecting accurate and complete input variables, including current well conditions, pump types, and management details.\n",
    "\n",
    "2. Include local knowledge and qualitative data by collaborating with local communities to gather valuable insights not present in the existing dataset.\n",
    "\n",
    "3. Promote open data sharing with other NGOs working towards a common goal, fostering a shared knowledge of well information for up-to-date results.\n",
    "\n",
    "4. Implement a feedback system for local communities to validate predictions, ensuring continuous model improvement.\n"
   ]
  },
  {
   "cell_type": "markdown",
   "id": "6c29bcfd",
   "metadata": {},
   "source": [
    "## 8. Limits & Next Steps"
   ]
  },
  {
   "cell_type": "markdown",
   "id": "eb9731dd",
   "metadata": {},
   "source": [
    "1. Data quality: the data was recorded between 2011 and 2013 and is most likely out of date. More recent data must be captured in order to make more accurate predictions.\n",
    "<br>\n",
    "\n",
    "2. Predictions reliability: despite the best results being recorded and an accuracy of close to 80%, there is a margin of error and false positive results may occur. Ensure regular maintenance and verification of the wells before allowing entire populations to rely on them. \n",
    "<br>\n",
    "3. Scalability concerns: the model's run time is long which may prevent to scale to analyze larger number of water wells in a reasonable timeframe. Potential next steps include to optimize the model by implementing more efficient algorithms, or modify processing techniques.  \n"
   ]
  }
 ],
 "metadata": {
  "kernelspec": {
   "display_name": "Python 3 (ipykernel)",
   "language": "python",
   "name": "python3"
  },
  "language_info": {
   "codemirror_mode": {
    "name": "ipython",
    "version": 3
   },
   "file_extension": ".py",
   "mimetype": "text/x-python",
   "name": "python",
   "nbconvert_exporter": "python",
   "pygments_lexer": "ipython3",
   "version": "3.11.3"
  }
 },
 "nbformat": 4,
 "nbformat_minor": 5
}
